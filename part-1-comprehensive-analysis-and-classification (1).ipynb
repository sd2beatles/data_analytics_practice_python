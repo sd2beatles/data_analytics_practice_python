{
 "cells": [
  {
   "cell_type": "markdown",
   "metadata": {},
   "source": [
    "## Table of Contents\n",
    "---\n",
    "1. [Imports](#import)  \n",
    "\n",
    "   1.1 [Importing the necessary librairies for this kernel](#import_librairies)\n",
    "   \n",
    "   1.2 [Importing the dataset into a pandas DataFrame](#import)\n",
    " \n",
    "   1.3 [Summarising Data: Statistical Descriptions](#description)\n",
    " \n",
    "   1.4 [Some Observations from the STR details](#details)\n",
    " \n",
    "   1.5 [Feature Manipulation](#manipulation)\n",
    "\n",
    "\n",
    "2. [High Level feel for the dataset](#feel) \n",
    "   [A Through Analysis of Inpute Features ](#thorough)  \n",
    "  \n",
    "  * 2.1 [user_lifetime VS Inactivation](#user_lifetime)\n",
    "  * 2.2 [Spending and Duration of Outoging Activitiy](#spending_duration)\n",
    "  * 2.3 [GPRS](#gprs)\n",
    "\n",
    "3.[Constructing Model](#model)\n",
    "    \n",
    "   3.1 [Logistic Model](#logistic)\n",
    "  \n",
    "  * 3.1.1 [Feature Sacling](#scaling)\n",
    "  * 3.1.2 [Create Dummy Variables](#dummy) \n",
    "  * 3.1.3 [Imbalanced Data Check-Synthetic Minority Oversampling Technique](#SMOTE)\n",
    "  * 3.1.4 [Recursive Feature Elimination](#RFE)\n",
    "  * 3.1.5 [Performance Test](#test)\n",
    "   (model fitting,confusion Matrix and many more)\n",
    "\n",
    "\n",
    "To be continued soon!\n"
   ]
  },
  {
   "cell_type": "markdown",
   "metadata": {},
   "source": [
    "## 1 . Imports<a class='anchor' id=import></a>  "
   ]
  },
  {
   "cell_type": "code",
   "execution_count": 1,
   "metadata": {
    "_cell_guid": "b1076dfc-b9ad-4769-8c92-a6c4dae69d19",
    "_uuid": "8f2839f25d086af736a60e9eeb907d3b93b6e0e5"
   },
   "outputs": [
    {
     "name": "stderr",
     "output_type": "stream",
     "text": [
      "Using TensorFlow backend.\n"
     ]
    }
   ],
   "source": [
    "import numpy as np\n",
    "import pandas as pd\n",
    "import matplotlib.pyplot as plt\n",
    "import seaborn as sns\n",
    "import plotly.figure_factory as ff\n",
    "from pandas import DataFrame\n",
    "import copy\n",
    "import re\n",
    "from imblearn.over_sampling import SMOTE\n",
    "from sklearn.model_selection import train_test_split\n",
    "from sklearn.feature_selection import RFE\n",
    "from sklearn.linear_model import LogisticRegression\n",
    "from sklearn.preprocessing import scale\n",
    "import statsmodels.api as sm\n",
    "import time\n",
    "import os\n",
    "from statsmodels.discrete.discrete_model import Logit"
   ]
  },
  {
   "cell_type": "markdown",
   "metadata": {},
   "source": [
    "## 1.2 Importing the data set into a pandas Dataframe<a class='anchor' id=import></a>"
   ]
  },
  {
   "cell_type": "code",
   "execution_count": 2,
   "metadata": {
    "_cell_guid": "79c7e3d0-c299-4dcb-8224-4455121ee9b0",
    "_uuid": "d629ff2d2480ee46fbb7e2d37f6b5fab8052498a"
   },
   "outputs": [
    {
     "name": "stdout",
     "output_type": "stream",
     "text": [
      "/kaggle/input/mobilechurndataxlsx/mobile-churn-data.xlsx\n"
     ]
    }
   ],
   "source": [
    "for dirname, _, filenames in os.walk('/kaggle/input'):\n",
    "    for filename in filenames:\n",
    "        print(os.path.join(dirname, filename))"
   ]
  },
  {
   "cell_type": "code",
   "execution_count": 3,
   "metadata": {},
   "outputs": [],
   "source": [
    "data=pd.read_excel('/kaggle/input/mobilechurndataxlsx/mobile-churn-data.xlsx')\n",
    "data=data.drop('user_account_id',axis=1)"
   ]
  },
  {
   "cell_type": "markdown",
   "metadata": {},
   "source": [
    "## 1.3 Summarizing Data (Statiscal Description) <a class='anchor' id=description></a>\n",
    "\n",
    "Before taking a rigorous examination of given input features, prepare a simple table containing descriptive statistical information."
   ]
  },
  {
   "cell_type": "code",
   "execution_count": 4,
   "metadata": {},
   "outputs": [],
   "source": [
    "def summarizing(df):\n",
    "    obs=df.shape[0] # the total number of observatinos \n",
    "    types=df.dtypes\n",
    "    counts=df.apply(lambda x:x.count())\n",
    "    unique=df.apply(lambda x:[x.unique()] ).transpose()\n",
    "    distincts=df.apply(lambda x:x.unique().shape[0])\n",
    "    null=df.isnull().sum()\n",
    "    missing_rate=(round(df.isnull().sum()/obs*100,2)).astype('str')+'%'\n",
    "    skew=df.skew()\n",
    "    kurtosis=df.kurtosis()\n",
    "    table=pd.concat([types,counts,unique,distincts,null,missing_rate,skew,kurtosis],axis=1)\n",
    "    table.columns=['Data_Types','Number_of_NonNull','Unique_Values','Number_of_Unique Values','Missing_Number','Missing_Rate','Skew'\n",
    "                ,'Kurtosis']\n",
    "    print('The shapes of data:{0}'.format(df.shape))\n",
    "    print('--'*30)\n",
    "    print('Types Counts:\\n',table.Data_Types.value_counts())\n",
    "    print('--'*30)"
   ]
  },
  {
   "cell_type": "code",
   "execution_count": 5,
   "metadata": {},
   "outputs": [
    {
     "name": "stdout",
     "output_type": "stream",
     "text": [
      "The shapes of data:(66469, 65)\n",
      "------------------------------------------------------------\n",
      "Types Counts:\n",
      " int64      37\n",
      "float64    28\n",
      "Name: Data_Types, dtype: int64\n",
      "------------------------------------------------------------\n"
     ]
    }
   ],
   "source": [
    "summarizing(data)"
   ]
  },
  {
   "cell_type": "markdown",
   "metadata": {},
   "source": [
    "## 1.4 Some Obseravtions From STR details <a class='anchor' id=details></a>\n",
    "\n",
    "\n",
    "#### - Null Values: \n",
    " We do not see a need to take care of nulls because all of the input features are free from any missing values. \n",
    " \n",
    "#### - Converion of Data type:\n",
    "\n",
    "Some of the inputs entered into the record in the form of an integer .These features are binary variables, either 0 or 1. Therefore, to gain an analytical value, they are to be converted into a proper data type. These are following below;\n",
    "\n",
    "                (1) user_intake\n",
    "                (2) user_has_outgoing_calls\n",
    "                (3) user_has_outgoing_calls\n",
    "                (4) user_use_gprs\n",
    "                (5) user_does_reload\n",
    "                (6) churn \n",
    "\n",
    "\n",
    "#### - Skewness \n",
    "\n",
    "The rule of thumbs of skewnees seem to be \n",
    "\n",
    "If the absolute value of skewness is close to 0 but less than 1, the data set is following a normal distribution.\n",
    "\n",
    "If the absolute value of statics shows a value greater than 1 but less than 2, it is considered moderately symmetrical.\n",
    "\n",
    "The problem stats if the value is above either -2 and 2. They are said to be heavily asymmetrical and need to be transformed into normal if possible. \n",
    "\n",
    "Majority of our input varialbes are above either -2 and 2. The proper transfomrtion of data will proceeed in the later section of this kernal. \n",
    "\n",
    "\n",
    "#### -Kurtosis \n",
    "\n",
    "This meausrs how outelier-prone our dataset is to be. The greater value it gives, the higher chance of elminating noises from our data\n",
    "we have to prevent them from disrupting our analysis. Surprisingly, some input features show anomalous values, which leads us to filter out some observations. \n",
    "\n",
    "\n",
    "\n",
    "\n"
   ]
  },
  {
   "cell_type": "code",
   "execution_count": 6,
   "metadata": {},
   "outputs": [
    {
     "data": {
      "text/html": [
       "<div>\n",
       "<style scoped>\n",
       "    .dataframe tbody tr th:only-of-type {\n",
       "        vertical-align: middle;\n",
       "    }\n",
       "\n",
       "    .dataframe tbody tr th {\n",
       "        vertical-align: top;\n",
       "    }\n",
       "\n",
       "    .dataframe thead th {\n",
       "        text-align: right;\n",
       "    }\n",
       "</style>\n",
       "<table border=\"1\" class=\"dataframe\">\n",
       "  <thead>\n",
       "    <tr style=\"text-align: right;\">\n",
       "      <th></th>\n",
       "      <th>count</th>\n",
       "      <th>mean</th>\n",
       "      <th>std</th>\n",
       "      <th>min</th>\n",
       "      <th>25%</th>\n",
       "      <th>50%</th>\n",
       "      <th>75%</th>\n",
       "      <th>max</th>\n",
       "    </tr>\n",
       "  </thead>\n",
       "  <tbody>\n",
       "    <tr>\n",
       "      <th>year</th>\n",
       "      <td>66469.0</td>\n",
       "      <td>2013.000000</td>\n",
       "      <td>0.000000</td>\n",
       "      <td>2013.0</td>\n",
       "      <td>2013.0</td>\n",
       "      <td>2013.0</td>\n",
       "      <td>2013.0</td>\n",
       "      <td>2013.00</td>\n",
       "    </tr>\n",
       "    <tr>\n",
       "      <th>month</th>\n",
       "      <td>66469.0</td>\n",
       "      <td>6.256721</td>\n",
       "      <td>0.662637</td>\n",
       "      <td>6.0</td>\n",
       "      <td>6.0</td>\n",
       "      <td>6.0</td>\n",
       "      <td>6.0</td>\n",
       "      <td>8.00</td>\n",
       "    </tr>\n",
       "    <tr>\n",
       "      <th>user_lifetime</th>\n",
       "      <td>66469.0</td>\n",
       "      <td>4006.037867</td>\n",
       "      <td>6058.350935</td>\n",
       "      <td>0.0</td>\n",
       "      <td>457.0</td>\n",
       "      <td>1216.0</td>\n",
       "      <td>1985.0</td>\n",
       "      <td>15947.00</td>\n",
       "    </tr>\n",
       "    <tr>\n",
       "      <th>user_intake</th>\n",
       "      <td>66469.0</td>\n",
       "      <td>0.040365</td>\n",
       "      <td>0.196815</td>\n",
       "      <td>0.0</td>\n",
       "      <td>0.0</td>\n",
       "      <td>0.0</td>\n",
       "      <td>0.0</td>\n",
       "      <td>1.00</td>\n",
       "    </tr>\n",
       "    <tr>\n",
       "      <th>user_no_outgoing_activity_in_days</th>\n",
       "      <td>66469.0</td>\n",
       "      <td>63.975718</td>\n",
       "      <td>264.006882</td>\n",
       "      <td>0.0</td>\n",
       "      <td>1.0</td>\n",
       "      <td>2.0</td>\n",
       "      <td>8.0</td>\n",
       "      <td>1307.00</td>\n",
       "    </tr>\n",
       "    <tr>\n",
       "      <th>...</th>\n",
       "      <td>...</td>\n",
       "      <td>...</td>\n",
       "      <td>...</td>\n",
       "      <td>...</td>\n",
       "      <td>...</td>\n",
       "      <td>...</td>\n",
       "      <td>...</td>\n",
       "      <td>...</td>\n",
       "    </tr>\n",
       "    <tr>\n",
       "      <th>last_100_sms_outgoing_to_onnet_count</th>\n",
       "      <td>66469.0</td>\n",
       "      <td>7.318630</td>\n",
       "      <td>35.573779</td>\n",
       "      <td>0.0</td>\n",
       "      <td>0.0</td>\n",
       "      <td>0.0</td>\n",
       "      <td>1.0</td>\n",
       "      <td>2829.00</td>\n",
       "    </tr>\n",
       "    <tr>\n",
       "      <th>last_100_sms_outgoing_to_offnet_count</th>\n",
       "      <td>66469.0</td>\n",
       "      <td>62.272684</td>\n",
       "      <td>185.571343</td>\n",
       "      <td>0.0</td>\n",
       "      <td>0.0</td>\n",
       "      <td>5.0</td>\n",
       "      <td>51.0</td>\n",
       "      <td>13860.00</td>\n",
       "    </tr>\n",
       "    <tr>\n",
       "      <th>last_100_sms_outgoing_to_abroad_count</th>\n",
       "      <td>66469.0</td>\n",
       "      <td>3.062616</td>\n",
       "      <td>25.071290</td>\n",
       "      <td>0.0</td>\n",
       "      <td>0.0</td>\n",
       "      <td>0.0</td>\n",
       "      <td>0.0</td>\n",
       "      <td>4692.00</td>\n",
       "    </tr>\n",
       "    <tr>\n",
       "      <th>last_100_gprs_usage</th>\n",
       "      <td>66469.0</td>\n",
       "      <td>5.931800</td>\n",
       "      <td>76.366818</td>\n",
       "      <td>0.0</td>\n",
       "      <td>0.0</td>\n",
       "      <td>0.0</td>\n",
       "      <td>0.0</td>\n",
       "      <td>5571.22</td>\n",
       "    </tr>\n",
       "    <tr>\n",
       "      <th>churn</th>\n",
       "      <td>66469.0</td>\n",
       "      <td>0.209225</td>\n",
       "      <td>0.406759</td>\n",
       "      <td>0.0</td>\n",
       "      <td>0.0</td>\n",
       "      <td>0.0</td>\n",
       "      <td>0.0</td>\n",
       "      <td>1.00</td>\n",
       "    </tr>\n",
       "  </tbody>\n",
       "</table>\n",
       "<p>65 rows × 8 columns</p>\n",
       "</div>"
      ],
      "text/plain": [
       "                                         count         mean          std  \\\n",
       "year                                   66469.0  2013.000000     0.000000   \n",
       "month                                  66469.0     6.256721     0.662637   \n",
       "user_lifetime                          66469.0  4006.037867  6058.350935   \n",
       "user_intake                            66469.0     0.040365     0.196815   \n",
       "user_no_outgoing_activity_in_days      66469.0    63.975718   264.006882   \n",
       "...                                        ...          ...          ...   \n",
       "last_100_sms_outgoing_to_onnet_count   66469.0     7.318630    35.573779   \n",
       "last_100_sms_outgoing_to_offnet_count  66469.0    62.272684   185.571343   \n",
       "last_100_sms_outgoing_to_abroad_count  66469.0     3.062616    25.071290   \n",
       "last_100_gprs_usage                    66469.0     5.931800    76.366818   \n",
       "churn                                  66469.0     0.209225     0.406759   \n",
       "\n",
       "                                          min     25%     50%     75%  \\\n",
       "year                                   2013.0  2013.0  2013.0  2013.0   \n",
       "month                                     6.0     6.0     6.0     6.0   \n",
       "user_lifetime                             0.0   457.0  1216.0  1985.0   \n",
       "user_intake                               0.0     0.0     0.0     0.0   \n",
       "user_no_outgoing_activity_in_days         0.0     1.0     2.0     8.0   \n",
       "...                                       ...     ...     ...     ...   \n",
       "last_100_sms_outgoing_to_onnet_count      0.0     0.0     0.0     1.0   \n",
       "last_100_sms_outgoing_to_offnet_count     0.0     0.0     5.0    51.0   \n",
       "last_100_sms_outgoing_to_abroad_count     0.0     0.0     0.0     0.0   \n",
       "last_100_gprs_usage                       0.0     0.0     0.0     0.0   \n",
       "churn                                     0.0     0.0     0.0     0.0   \n",
       "\n",
       "                                            max  \n",
       "year                                    2013.00  \n",
       "month                                      8.00  \n",
       "user_lifetime                          15947.00  \n",
       "user_intake                                1.00  \n",
       "user_no_outgoing_activity_in_days       1307.00  \n",
       "...                                         ...  \n",
       "last_100_sms_outgoing_to_onnet_count    2829.00  \n",
       "last_100_sms_outgoing_to_offnet_count  13860.00  \n",
       "last_100_sms_outgoing_to_abroad_count   4692.00  \n",
       "last_100_gprs_usage                     5571.22  \n",
       "churn                                      1.00  \n",
       "\n",
       "[65 rows x 8 columns]"
      ]
     },
     "metadata": {},
     "output_type": "display_data"
    }
   ],
   "source": [
    "display(data.describe().transpose())"
   ]
  },
  {
   "cell_type": "code",
   "execution_count": 7,
   "metadata": {},
   "outputs": [
    {
     "data": {
      "text/plain": [
       "user_lifetime                             1.000000\n",
       "calls_outgoing_inactive_days              0.721231\n",
       "calls_outgoing_to_onnet_inactive_days     0.721231\n",
       "calls_outgoing_to_offnet_inactive_days    0.721231\n",
       "calls_outgoing_to_abroad_inactive_days    0.721231\n",
       "                                            ...   \n",
       "sms_incoming_count                       -0.263147\n",
       "calls_outgoing_duration_max              -0.287354\n",
       "user_has_outgoing_sms                    -0.534862\n",
       "user_has_outgoing_calls                  -0.648572\n",
       "year                                           NaN\n",
       "Name: user_lifetime, Length: 65, dtype: float64"
      ]
     },
     "metadata": {},
     "output_type": "display_data"
    }
   ],
   "source": [
    "#correlation with uuser_lifetime\n",
    "display(data.corr()['user_lifetime'].sort_values(ascending=False))"
   ]
  },
  {
   "cell_type": "markdown",
   "metadata": {},
   "source": [
    "## 1.5 Feature Manipulation <a class='anchor' id=manipulation></a>"
   ]
  },
  {
   "cell_type": "code",
   "execution_count": 8,
   "metadata": {},
   "outputs": [],
   "source": [
    "#merging all input features with same infomration into one variable \n",
    "data['calls_outgoing_inactive_days']=data.calls_outgoing_inactive_days\n",
    "data['sms_outgoing_inactive_days']=data.sms_outgoing_inactive_days\n",
    "\n",
    "#Remove input features conating same information\n",
    "removing_features=['calls_outgoing_to_onnet_inactive_days', 'calls_outgoing_to_offnet_inactive_days','calls_outgoing_to_abroad_inactive_days',       \n",
    "'sms_outgoing_to_abroad_inactive_days','sms_outgoing_inactive_days','sms_outgoing_to_onnet_inactive_days','sms_outgoing_to_offnet_inactive_days']\n",
    "data=data.drop(removing_features,axis=1)\n",
    "data=data.rename(columns={'user_no_outgoing_activity_in_days':'min_outgoing_inactive_days'})\n"
   ]
  },
  {
   "cell_type": "code",
   "execution_count": 9,
   "metadata": {},
   "outputs": [
    {
     "data": {
      "text/html": [
       "<div>\n",
       "<style scoped>\n",
       "    .dataframe tbody tr th:only-of-type {\n",
       "        vertical-align: middle;\n",
       "    }\n",
       "\n",
       "    .dataframe tbody tr th {\n",
       "        vertical-align: top;\n",
       "    }\n",
       "\n",
       "    .dataframe thead th {\n",
       "        text-align: right;\n",
       "    }\n",
       "</style>\n",
       "<table border=\"1\" class=\"dataframe\">\n",
       "  <thead>\n",
       "    <tr style=\"text-align: right;\">\n",
       "      <th></th>\n",
       "      <th>year</th>\n",
       "      <th>month</th>\n",
       "      <th>user_lifetime</th>\n",
       "      <th>user_intake</th>\n",
       "      <th>min_outgoing_inactive_days</th>\n",
       "      <th>user_account_balance_last</th>\n",
       "      <th>user_spendings</th>\n",
       "      <th>user_has_outgoing_calls</th>\n",
       "      <th>user_has_outgoing_sms</th>\n",
       "      <th>user_use_gprs</th>\n",
       "      <th>...</th>\n",
       "      <th>last_100_calls_outgoing_duration</th>\n",
       "      <th>last_100_calls_outgoing_to_onnet_duration</th>\n",
       "      <th>last_100_calls_outgoing_to_offnet_duration</th>\n",
       "      <th>last_100_calls_outgoing_to_abroad_duration</th>\n",
       "      <th>last_100_sms_outgoing_count</th>\n",
       "      <th>last_100_sms_outgoing_to_onnet_count</th>\n",
       "      <th>last_100_sms_outgoing_to_offnet_count</th>\n",
       "      <th>last_100_sms_outgoing_to_abroad_count</th>\n",
       "      <th>last_100_gprs_usage</th>\n",
       "      <th>churn</th>\n",
       "    </tr>\n",
       "  </thead>\n",
       "  <tbody>\n",
       "    <tr>\n",
       "      <th>0</th>\n",
       "      <td>2013</td>\n",
       "      <td>6</td>\n",
       "      <td>1000</td>\n",
       "      <td>0</td>\n",
       "      <td>1</td>\n",
       "      <td>0.05</td>\n",
       "      <td>0.00</td>\n",
       "      <td>1</td>\n",
       "      <td>1</td>\n",
       "      <td>0</td>\n",
       "      <td>...</td>\n",
       "      <td>75.27</td>\n",
       "      <td>0.00</td>\n",
       "      <td>63.43</td>\n",
       "      <td>0.00</td>\n",
       "      <td>210</td>\n",
       "      <td>1</td>\n",
       "      <td>84</td>\n",
       "      <td>0</td>\n",
       "      <td>0.0</td>\n",
       "      <td>0</td>\n",
       "    </tr>\n",
       "    <tr>\n",
       "      <th>1</th>\n",
       "      <td>2013</td>\n",
       "      <td>6</td>\n",
       "      <td>1000</td>\n",
       "      <td>0</td>\n",
       "      <td>25</td>\n",
       "      <td>28.31</td>\n",
       "      <td>3.45</td>\n",
       "      <td>1</td>\n",
       "      <td>0</td>\n",
       "      <td>0</td>\n",
       "      <td>...</td>\n",
       "      <td>13.38</td>\n",
       "      <td>11.18</td>\n",
       "      <td>2.00</td>\n",
       "      <td>11.18</td>\n",
       "      <td>0</td>\n",
       "      <td>0</td>\n",
       "      <td>0</td>\n",
       "      <td>0</td>\n",
       "      <td>0.0</td>\n",
       "      <td>0</td>\n",
       "    </tr>\n",
       "    <tr>\n",
       "      <th>2</th>\n",
       "      <td>2013</td>\n",
       "      <td>6</td>\n",
       "      <td>1005</td>\n",
       "      <td>0</td>\n",
       "      <td>8</td>\n",
       "      <td>15.62</td>\n",
       "      <td>1.97</td>\n",
       "      <td>1</td>\n",
       "      <td>0</td>\n",
       "      <td>0</td>\n",
       "      <td>...</td>\n",
       "      <td>30.00</td>\n",
       "      <td>0.00</td>\n",
       "      <td>0.00</td>\n",
       "      <td>10.45</td>\n",
       "      <td>0</td>\n",
       "      <td>0</td>\n",
       "      <td>0</td>\n",
       "      <td>0</td>\n",
       "      <td>0.0</td>\n",
       "      <td>0</td>\n",
       "    </tr>\n",
       "    <tr>\n",
       "      <th>3</th>\n",
       "      <td>2013</td>\n",
       "      <td>6</td>\n",
       "      <td>1013</td>\n",
       "      <td>0</td>\n",
       "      <td>11</td>\n",
       "      <td>5.62</td>\n",
       "      <td>0.00</td>\n",
       "      <td>1</td>\n",
       "      <td>0</td>\n",
       "      <td>0</td>\n",
       "      <td>...</td>\n",
       "      <td>0.00</td>\n",
       "      <td>0.00</td>\n",
       "      <td>0.00</td>\n",
       "      <td>0.00</td>\n",
       "      <td>0</td>\n",
       "      <td>0</td>\n",
       "      <td>0</td>\n",
       "      <td>0</td>\n",
       "      <td>0.0</td>\n",
       "      <td>1</td>\n",
       "    </tr>\n",
       "    <tr>\n",
       "      <th>4</th>\n",
       "      <td>2013</td>\n",
       "      <td>6</td>\n",
       "      <td>1032</td>\n",
       "      <td>0</td>\n",
       "      <td>2</td>\n",
       "      <td>5.86</td>\n",
       "      <td>0.15</td>\n",
       "      <td>1</td>\n",
       "      <td>0</td>\n",
       "      <td>0</td>\n",
       "      <td>...</td>\n",
       "      <td>2.58</td>\n",
       "      <td>0.00</td>\n",
       "      <td>1.00</td>\n",
       "      <td>0.00</td>\n",
       "      <td>0</td>\n",
       "      <td>0</td>\n",
       "      <td>0</td>\n",
       "      <td>0</td>\n",
       "      <td>0.0</td>\n",
       "      <td>0</td>\n",
       "    </tr>\n",
       "  </tbody>\n",
       "</table>\n",
       "<p>5 rows × 58 columns</p>\n",
       "</div>"
      ],
      "text/plain": [
       "   year  month  user_lifetime  user_intake  min_outgoing_inactive_days  \\\n",
       "0  2013      6           1000            0                           1   \n",
       "1  2013      6           1000            0                          25   \n",
       "2  2013      6           1005            0                           8   \n",
       "3  2013      6           1013            0                          11   \n",
       "4  2013      6           1032            0                           2   \n",
       "\n",
       "   user_account_balance_last  user_spendings  user_has_outgoing_calls  \\\n",
       "0                       0.05            0.00                        1   \n",
       "1                      28.31            3.45                        1   \n",
       "2                      15.62            1.97                        1   \n",
       "3                       5.62            0.00                        1   \n",
       "4                       5.86            0.15                        1   \n",
       "\n",
       "   user_has_outgoing_sms  user_use_gprs  ...  \\\n",
       "0                      1              0  ...   \n",
       "1                      0              0  ...   \n",
       "2                      0              0  ...   \n",
       "3                      0              0  ...   \n",
       "4                      0              0  ...   \n",
       "\n",
       "   last_100_calls_outgoing_duration  \\\n",
       "0                             75.27   \n",
       "1                             13.38   \n",
       "2                             30.00   \n",
       "3                              0.00   \n",
       "4                              2.58   \n",
       "\n",
       "   last_100_calls_outgoing_to_onnet_duration  \\\n",
       "0                                       0.00   \n",
       "1                                      11.18   \n",
       "2                                       0.00   \n",
       "3                                       0.00   \n",
       "4                                       0.00   \n",
       "\n",
       "   last_100_calls_outgoing_to_offnet_duration  \\\n",
       "0                                       63.43   \n",
       "1                                        2.00   \n",
       "2                                        0.00   \n",
       "3                                        0.00   \n",
       "4                                        1.00   \n",
       "\n",
       "   last_100_calls_outgoing_to_abroad_duration  last_100_sms_outgoing_count  \\\n",
       "0                                        0.00                          210   \n",
       "1                                       11.18                            0   \n",
       "2                                       10.45                            0   \n",
       "3                                        0.00                            0   \n",
       "4                                        0.00                            0   \n",
       "\n",
       "   last_100_sms_outgoing_to_onnet_count  \\\n",
       "0                                     1   \n",
       "1                                     0   \n",
       "2                                     0   \n",
       "3                                     0   \n",
       "4                                     0   \n",
       "\n",
       "   last_100_sms_outgoing_to_offnet_count  \\\n",
       "0                                     84   \n",
       "1                                      0   \n",
       "2                                      0   \n",
       "3                                      0   \n",
       "4                                      0   \n",
       "\n",
       "   last_100_sms_outgoing_to_abroad_count  last_100_gprs_usage  churn  \n",
       "0                                      0                  0.0      0  \n",
       "1                                      0                  0.0      0  \n",
       "2                                      0                  0.0      0  \n",
       "3                                      0                  0.0      1  \n",
       "4                                      0                  0.0      0  \n",
       "\n",
       "[5 rows x 58 columns]"
      ]
     },
     "execution_count": 9,
     "metadata": {},
     "output_type": "execute_result"
    }
   ],
   "source": [
    "data.head()"
   ]
  },
  {
   "cell_type": "markdown",
   "metadata": {},
   "source": [
    "## 2. High Level feel for the dataset <a class='anchor' id=feel></a>  "
   ]
  },
  {
   "cell_type": "markdown",
   "metadata": {},
   "source": [
    "### 2.1 A Through Analysis of Inpute Features <a class='anchor' id=thorough></a> \n"
   ]
  },
  {
   "cell_type": "markdown",
   "metadata": {},
   "source": [
    "###  2.1.1 user_lifetime VS Inactivation<a class='anchor' id=user_lifetime></a>\n",
    "\n",
    "A user lifetime has been a metric to measure the business success of companies since the longer consumers stay with them, the more revenue they are likely to earn from each consumer. Generally, we consider  the longer period as a positive sign to business. "
   ]
  },
  {
   "cell_type": "code",
   "execution_count": 10,
   "metadata": {},
   "outputs": [],
   "source": [
    "## create another varialbe to indicate whether they have used the telecomunication service at leaste once in a month. \n",
    "data['user_has_outgoing']=(data.user_has_outgoing_calls+data.user_has_outgoing_sms).map(lambda x: 'yes' if x>0 else 'no')"
   ]
  },
  {
   "cell_type": "code",
   "execution_count": 11,
   "metadata": {},
   "outputs": [
    {
     "data": {
      "text/html": [
       "<div>\n",
       "<style scoped>\n",
       "    .dataframe tbody tr th:only-of-type {\n",
       "        vertical-align: middle;\n",
       "    }\n",
       "\n",
       "    .dataframe tbody tr th {\n",
       "        vertical-align: top;\n",
       "    }\n",
       "\n",
       "    .dataframe thead th {\n",
       "        text-align: right;\n",
       "    }\n",
       "</style>\n",
       "<table border=\"1\" class=\"dataframe\">\n",
       "  <thead>\n",
       "    <tr style=\"text-align: right;\">\n",
       "      <th></th>\n",
       "      <th>min_outgoing_inactive_days</th>\n",
       "      <th>user_lifetime</th>\n",
       "      <th>user_spendings</th>\n",
       "    </tr>\n",
       "    <tr>\n",
       "      <th>user_has_outgoing</th>\n",
       "      <th></th>\n",
       "      <th></th>\n",
       "      <th></th>\n",
       "    </tr>\n",
       "  </thead>\n",
       "  <tbody>\n",
       "    <tr>\n",
       "      <th>no</th>\n",
       "      <td>328.496247</td>\n",
       "      <td>12620.842470</td>\n",
       "      <td>0.008945</td>\n",
       "    </tr>\n",
       "    <tr>\n",
       "      <th>yes</th>\n",
       "      <td>4.163269</td>\n",
       "      <td>2058.088654</td>\n",
       "      <td>8.391740</td>\n",
       "    </tr>\n",
       "  </tbody>\n",
       "</table>\n",
       "</div>"
      ],
      "text/plain": [
       "                   min_outgoing_inactive_days  user_lifetime  user_spendings\n",
       "user_has_outgoing                                                           \n",
       "no                                 328.496247   12620.842470        0.008945\n",
       "yes                                  4.163269    2058.088654        8.391740"
      ]
     },
     "execution_count": 11,
     "metadata": {},
     "output_type": "execute_result"
    }
   ],
   "source": [
    "result1=data.pivot_table(['min_outgoing_inactive_days','user_lifetime','user_spendings'],index='user_has_outgoing',aggfunc='mean')\n",
    "result1"
   ]
  },
  {
   "cell_type": "markdown",
   "metadata": {},
   "source": [
    "###  (1) Life time Ratio\n",
    "However, in the case of the telecom market, the measurement is of little analytical value in that a consumer inactive for a longer period may are considered as a loyal customer. Therefore, we need to bring all the relevant numbers down to another measurement to evaluate the consumer's loyalty.\n",
    "\n",
    "$$  Lifetime\\  ratio = Userlieftime \\div Nubmer\\  of\\  days\\ being\\  inactive \\times Monthly\\ user\\ Average\\ spendings\\div 30 $$\n",
    "\n",
    "\n",
    "The highger ratio is, the more revenue companies can earn from providing services. Even though the groups who had been inactive has 4 times lon as those who had used the service at least once in the same month.  \n"
   ]
  },
  {
   "cell_type": "code",
   "execution_count": 12,
   "metadata": {},
   "outputs": [
    {
     "data": {
      "text/html": [
       "<div>\n",
       "<style scoped>\n",
       "    .dataframe tbody tr th:only-of-type {\n",
       "        vertical-align: middle;\n",
       "    }\n",
       "\n",
       "    .dataframe tbody tr th {\n",
       "        vertical-align: top;\n",
       "    }\n",
       "\n",
       "    .dataframe thead th {\n",
       "        text-align: right;\n",
       "    }\n",
       "</style>\n",
       "<table border=\"1\" class=\"dataframe\">\n",
       "  <thead>\n",
       "    <tr style=\"text-align: right;\">\n",
       "      <th></th>\n",
       "      <th>min_outgoing_inactive_days</th>\n",
       "      <th>user_lifetime</th>\n",
       "      <th>user_spendings</th>\n",
       "      <th>life_time_ratio</th>\n",
       "    </tr>\n",
       "    <tr>\n",
       "      <th>user_has_outgoing</th>\n",
       "      <th></th>\n",
       "      <th></th>\n",
       "      <th></th>\n",
       "      <th></th>\n",
       "    </tr>\n",
       "  </thead>\n",
       "  <tbody>\n",
       "    <tr>\n",
       "      <th>no</th>\n",
       "      <td>328.496247</td>\n",
       "      <td>12620.842470</td>\n",
       "      <td>0.008945</td>\n",
       "      <td>0.011456</td>\n",
       "    </tr>\n",
       "    <tr>\n",
       "      <th>yes</th>\n",
       "      <td>4.163269</td>\n",
       "      <td>2058.088654</td>\n",
       "      <td>8.391740</td>\n",
       "      <td>138.280298</td>\n",
       "    </tr>\n",
       "  </tbody>\n",
       "</table>\n",
       "</div>"
      ],
      "text/plain": [
       "                   min_outgoing_inactive_days  user_lifetime  user_spendings  \\\n",
       "user_has_outgoing                                                              \n",
       "no                                 328.496247   12620.842470        0.008945   \n",
       "yes                                  4.163269    2058.088654        8.391740   \n",
       "\n",
       "                   life_time_ratio  \n",
       "user_has_outgoing                   \n",
       "no                        0.011456  \n",
       "yes                     138.280298  "
      ]
     },
     "execution_count": 12,
     "metadata": {},
     "output_type": "execute_result"
    }
   ],
   "source": [
    "result1['life_time_ratio']=result1.user_lifetime/result1.min_outgoing_inactive_days*result1.user_spendings/30\n",
    "result1"
   ]
  },
  {
   "cell_type": "markdown",
   "metadata": {},
   "source": [
    "The groups who are  inactive indeed have 4 times longer life times than those who \n",
    "use the service at least once in the same month.  However, it turns out that the ratio is much higher for those active groups. \n",
    "\n",
    "---\n",
    "###  _Lesson 1 \" The interval between previous and the next outgoing activity is much shorter for user who has made either call or sent  SNS in a given moth, therby contributing to the higher spending to use the services.\"_\n",
    "---"
   ]
  },
  {
   "cell_type": "markdown",
   "metadata": {},
   "source": [
    "###  (2) Charts"
   ]
  },
  {
   "cell_type": "code",
   "execution_count": 13,
   "metadata": {},
   "outputs": [
    {
     "data": {
      "text/plain": [
       "<matplotlib.legend.Legend at 0x7f71b590f2e8>"
      ]
     },
     "execution_count": 13,
     "metadata": {},
     "output_type": "execute_result"
    },
    {
     "data": {
      "image/png": "[encoded data removed]",
      "text/plain": [
       "<Figure size 864x576 with 2 Axes>"
      ]
     },
     "metadata": {},
     "output_type": "display_data"
    }
   ],
   "source": [
    "sns.set_style('white')\n",
    "fig,ax=plt.subplots(figsize=(12,8))\n",
    "ax2=ax.twinx()\n",
    "sns.distplot(data[data.user_has_outgoing=='yes'].user_lifetime,color='b',ax=ax,label='active')\n",
    "sns.distplot(data[data.user_has_outgoing=='no'].user_lifetime,color='coral',ax=ax2,label='inactive')\n",
    "ax.set_xlabel('user_life_time',fontsize=15)\n",
    "ax.set_title('Density plots of Lifetime of Two types of Users',fontsize=20)\n",
    "ax.legend(loc='upper left',fontsize=14)\n",
    "ax2.legend(loc='upper right',fontsize=14)\n"
   ]
  },
  {
   "cell_type": "code",
   "execution_count": 14,
   "metadata": {},
   "outputs": [
    {
     "data": {
      "text/plain": [
       "Text(0.5, 1.0, 'Box plots of Lifetime of Two types of Users')"
      ]
     },
     "execution_count": 14,
     "metadata": {},
     "output_type": "execute_result"
    },
    {
     "data": {
      "image/png": "[encoded data removed]",
      "text/plain": [
       "<Figure size 864x576 with 1 Axes>"
      ]
     },
     "metadata": {},
     "output_type": "display_data"
    }
   ],
   "source": [
    "fig,ax=plt.subplots(figsize=(12,8))\n",
    "sns.boxplot(x='user_has_outgoing',y='user_lifetime',data=data,ax=ax)\n",
    "ax.set_title('Box plots of Lifetime of Two types of Users',fontsize=20)"
   ]
  },
  {
   "cell_type": "markdown",
   "metadata": {},
   "source": [
    "### (3) Removing Outlier VS Adding another categorical feature\n",
    "\n",
    "Since we learn descriptive statistics and basic stuff about distribution, we are trained to draw charts  to see if the data is approximating a specific distribution and/or outliers exist.  Especially if you witness any points lying far from the cluster of data sets, without enough reflection on any hidden clues, we tend to get rid of them right away. We will examine the objectiveness and feasibleness of attempting to remove the distant points. \n",
    "\n",
    "From the charts above, We can acquire  some knowledge of consumer behavior \n",
    "\n",
    "Frist, those, who had been inactive for 15000 days, started to use the service again in the month of the survey. We could classify them \n",
    "a returing user.\n",
    "\n",
    "Secondly,the users who recently joined companies and stayed connected to the company for a relatively shorter period did not make any outgoing activity in the month of the survey.  There is a greater chance for companies to deactivate prepaid connections.  Therefore, we may appoint them a potentially inactive. "
   ]
  },
  {
   "cell_type": "code",
   "execution_count": 15,
   "metadata": {},
   "outputs": [
    {
     "data": {
      "text/html": [
       "        <script type=\"text/javascript\">\n",
       "        window.PlotlyConfig = {MathJaxConfig: 'local'};\n",
       "        if (window.MathJax) {MathJax.Hub.Config({SVG: {font: \"STIX-Web\"}});}\n",
       "        if (typeof require !== 'undefined') {\n",
       "        require.undef(\"plotly\");\n",
       "        requirejs.config({\n",
       "            paths: {\n",
       "                'plotly': ['https://cdn.plot.ly/plotly-latest.min']\n",
       "            }\n",
       "        });\n",
       "        require(['plotly'], function(Plotly) {\n",
       "            window._Plotly = Plotly;\n",
       "        });\n",
       "        }\n",
       "        </script>\n",
       "        "
      ]
     },
     "metadata": {},
     "output_type": "display_data"
    },
    {
     "data": {
      "text/html": [
       "<div>\n",
       "        \n",
       "        \n",
       "            <div id=\"55f234a1-2b7b-4380-8a9b-15dbb96002fe\" class=\"plotly-graph-div\" style=\"height:110px; width:1100px;\"></div>\n",
       "            <script type=\"text/javascript\">\n",
       "                require([\"plotly\"], function(Plotly) {\n",
       "                    window.PLOTLYENV=window.PLOTLYENV || {};\n",
       "                    \n",
       "                if (document.getElementById(\"55f234a1-2b7b-4380-8a9b-15dbb96002fe\")) {\n",
       "                    Plotly.newPlot(\n",
       "                        '55f234a1-2b7b-4380-8a9b-15dbb96002fe',\n",
       "                        [{\"colorscale\": [[0, \"#00083e\"], [0.5, \"#ededee\"], [1, \"#ffffff\"]], \"hoverinfo\": \"none\", \"opacity\": 0.75, \"showscale\": false, \"type\": \"heatmap\", \"z\": [[0, 0, 0, 0], [0.5, 0.5, 0.5, 0.5]]}],\n",
       "                        {\"annotations\": [{\"align\": \"left\", \"font\": {\"color\": \"#ffffff\"}, \"showarrow\": false, \"text\": \"<b>Returning Customers</b>\", \"x\": -0.45, \"xanchor\": \"left\", \"xref\": \"x\", \"y\": 0, \"yref\": \"y\"}, {\"align\": \"left\", \"font\": {\"color\": \"#ffffff\"}, \"showarrow\": false, \"text\": \"<b>Potentially Inactive</b>\", \"x\": 0.55, \"xanchor\": \"left\", \"xref\": \"x\", \"y\": 0, \"yref\": \"y\"}, {\"align\": \"left\", \"font\": {\"color\": \"#ffffff\"}, \"showarrow\": false, \"text\": \"<b>Total Counts of Both Groups</b>\", \"x\": 1.55, \"xanchor\": \"left\", \"xref\": \"x\", \"y\": 0, \"yref\": \"y\"}, {\"align\": \"left\", \"font\": {\"color\": \"#ffffff\"}, \"showarrow\": false, \"text\": \"<b>Proportion of total User After removal</b>\", \"x\": 2.55, \"xanchor\": \"left\", \"xref\": \"x\", \"y\": 0, \"yref\": \"y\"}, {\"align\": \"left\", \"font\": {\"color\": \"#000000\"}, \"showarrow\": false, \"text\": \"3950\", \"x\": -0.45, \"xanchor\": \"left\", \"xref\": \"x\", \"y\": 1, \"yref\": \"y\"}, {\"align\": \"left\", \"font\": {\"color\": \"#000000\"}, \"showarrow\": false, \"text\": \"2651\", \"x\": 0.55, \"xanchor\": \"left\", \"xref\": \"x\", \"y\": 1, \"yref\": \"y\"}, {\"align\": \"left\", \"font\": {\"color\": \"#000000\"}, \"showarrow\": false, \"text\": \"59868\", \"x\": 1.55, \"xanchor\": \"left\", \"xref\": \"x\", \"y\": 1, \"yref\": \"y\"}, {\"align\": \"left\", \"font\": {\"color\": \"#000000\"}, \"showarrow\": false, \"text\": \"90.07%\", \"x\": 2.55, \"xanchor\": \"left\", \"xref\": \"x\", \"y\": 1, \"yref\": \"y\"}], \"height\": 110, \"margin\": {\"b\": 0, \"l\": 0, \"r\": 0, \"t\": 0}, \"template\": {\"data\": {\"bar\": [{\"error_x\": {\"color\": \"#2a3f5f\"}, \"error_y\": {\"color\": \"#2a3f5f\"}, \"marker\": {\"line\": {\"color\": \"#E5ECF6\", \"width\": 0.5}}, \"type\": \"bar\"}], \"barpolar\": [{\"marker\": {\"line\": {\"color\": \"#E5ECF6\", \"width\": 0.5}}, \"type\": \"barpolar\"}], \"carpet\": [{\"aaxis\": {\"endlinecolor\": \"#2a3f5f\", \"gridcolor\": \"white\", \"linecolor\": \"white\", \"minorgridcolor\": \"white\", \"startlinecolor\": \"#2a3f5f\"}, \"baxis\": {\"endlinecolor\": \"#2a3f5f\", \"gridcolor\": \"white\", \"linecolor\": \"white\", \"minorgridcolor\": \"white\", \"startlinecolor\": \"#2a3f5f\"}, \"type\": \"carpet\"}], \"choropleth\": [{\"colorbar\": {\"outlinewidth\": 0, \"ticks\": \"\"}, \"type\": \"choropleth\"}], \"contour\": [{\"colorbar\": {\"outlinewidth\": 0, \"ticks\": \"\"}, \"colorscale\": [[0.0, \"#0d0887\"], [0.1111111111111111, \"#46039f\"], [0.2222222222222222, \"#7201a8\"], [0.3333333333333333, \"#9c179e\"], [0.4444444444444444, \"#bd3786\"], [0.5555555555555556, \"#d8576b\"], [0.6666666666666666, \"#ed7953\"], [0.7777777777777778, \"#fb9f3a\"], [0.8888888888888888, \"#fdca26\"], [1.0, \"#f0f921\"]], \"type\": \"contour\"}], \"contourcarpet\": [{\"colorbar\": {\"outlinewidth\": 0, \"ticks\": \"\"}, \"type\": \"contourcarpet\"}], \"heatmap\": [{\"colorbar\": {\"outlinewidth\": 0, \"ticks\": \"\"}, \"colorscale\": [[0.0, \"#0d0887\"], [0.1111111111111111, \"#46039f\"], [0.2222222222222222, \"#7201a8\"], [0.3333333333333333, \"#9c179e\"], [0.4444444444444444, \"#bd3786\"], [0.5555555555555556, \"#d8576b\"], [0.6666666666666666, \"#ed7953\"], [0.7777777777777778, \"#fb9f3a\"], [0.8888888888888888, \"#fdca26\"], [1.0, \"#f0f921\"]], \"type\": \"heatmap\"}], \"heatmapgl\": [{\"colorbar\": {\"outlinewidth\": 0, \"ticks\": \"\"}, \"colorscale\": [[0.0, \"#0d0887\"], [0.1111111111111111, \"#46039f\"], [0.2222222222222222, \"#7201a8\"], [0.3333333333333333, \"#9c179e\"], [0.4444444444444444, \"#bd3786\"], [0.5555555555555556, \"#d8576b\"], [0.6666666666666666, \"#ed7953\"], [0.7777777777777778, \"#fb9f3a\"], [0.8888888888888888, \"#fdca26\"], [1.0, \"#f0f921\"]], \"type\": \"heatmapgl\"}], \"histogram\": [{\"marker\": {\"colorbar\": {\"outlinewidth\": 0, \"ticks\": \"\"}}, \"type\": \"histogram\"}], \"histogram2d\": [{\"colorbar\": {\"outlinewidth\": 0, \"ticks\": \"\"}, \"colorscale\": [[0.0, \"#0d0887\"], [0.1111111111111111, \"#46039f\"], [0.2222222222222222, \"#7201a8\"], [0.3333333333333333, \"#9c179e\"], [0.4444444444444444, \"#bd3786\"], [0.5555555555555556, \"#d8576b\"], [0.6666666666666666, \"#ed7953\"], [0.7777777777777778, \"#fb9f3a\"], [0.8888888888888888, \"#fdca26\"], [1.0, \"#f0f921\"]], \"type\": \"histogram2d\"}], \"histogram2dcontour\": [{\"colorbar\": {\"outlinewidth\": 0, \"ticks\": \"\"}, \"colorscale\": [[0.0, \"#0d0887\"], [0.1111111111111111, \"#46039f\"], [0.2222222222222222, \"#7201a8\"], [0.3333333333333333, \"#9c179e\"], [0.4444444444444444, \"#bd3786\"], [0.5555555555555556, \"#d8576b\"], [0.6666666666666666, \"#ed7953\"], [0.7777777777777778, \"#fb9f3a\"], [0.8888888888888888, \"#fdca26\"], [1.0, \"#f0f921\"]], \"type\": \"histogram2dcontour\"}], \"mesh3d\": [{\"colorbar\": {\"outlinewidth\": 0, \"ticks\": \"\"}, \"type\": \"mesh3d\"}], \"parcoords\": [{\"line\": {\"colorbar\": {\"outlinewidth\": 0, \"ticks\": \"\"}}, \"type\": \"parcoords\"}], \"scatter\": [{\"marker\": {\"colorbar\": {\"outlinewidth\": 0, \"ticks\": \"\"}}, \"type\": \"scatter\"}], \"scatter3d\": [{\"line\": {\"colorbar\": {\"outlinewidth\": 0, \"ticks\": \"\"}}, \"marker\": {\"colorbar\": {\"outlinewidth\": 0, \"ticks\": \"\"}}, \"type\": \"scatter3d\"}], \"scattercarpet\": [{\"marker\": {\"colorbar\": {\"outlinewidth\": 0, \"ticks\": \"\"}}, \"type\": \"scattercarpet\"}], \"scattergeo\": [{\"marker\": {\"colorbar\": {\"outlinewidth\": 0, \"ticks\": \"\"}}, \"type\": \"scattergeo\"}], \"scattergl\": [{\"marker\": {\"colorbar\": {\"outlinewidth\": 0, \"ticks\": \"\"}}, \"type\": \"scattergl\"}], \"scattermapbox\": [{\"marker\": {\"colorbar\": {\"outlinewidth\": 0, \"ticks\": \"\"}}, \"type\": \"scattermapbox\"}], \"scatterpolar\": [{\"marker\": {\"colorbar\": {\"outlinewidth\": 0, \"ticks\": \"\"}}, \"type\": \"scatterpolar\"}], \"scatterpolargl\": [{\"marker\": {\"colorbar\": {\"outlinewidth\": 0, \"ticks\": \"\"}}, \"type\": \"scatterpolargl\"}], \"scatterternary\": [{\"marker\": {\"colorbar\": {\"outlinewidth\": 0, \"ticks\": \"\"}}, \"type\": \"scatterternary\"}], \"surface\": [{\"colorbar\": {\"outlinewidth\": 0, \"ticks\": \"\"}, \"colorscale\": [[0.0, \"#0d0887\"], [0.1111111111111111, \"#46039f\"], [0.2222222222222222, \"#7201a8\"], [0.3333333333333333, \"#9c179e\"], [0.4444444444444444, \"#bd3786\"], [0.5555555555555556, \"#d8576b\"], [0.6666666666666666, \"#ed7953\"], [0.7777777777777778, \"#fb9f3a\"], [0.8888888888888888, \"#fdca26\"], [1.0, \"#f0f921\"]], \"type\": \"surface\"}], \"table\": [{\"cells\": {\"fill\": {\"color\": \"#EBF0F8\"}, \"line\": {\"color\": \"white\"}}, \"header\": {\"fill\": {\"color\": \"#C8D4E3\"}, \"line\": {\"color\": \"white\"}}, \"type\": \"table\"}]}, \"layout\": {\"annotationdefaults\": {\"arrowcolor\": \"#2a3f5f\", \"arrowhead\": 0, \"arrowwidth\": 1}, \"colorscale\": {\"diverging\": [[0, \"#8e0152\"], [0.1, \"#c51b7d\"], [0.2, \"#de77ae\"], [0.3, \"#f1b6da\"], [0.4, \"#fde0ef\"], [0.5, \"#f7f7f7\"], [0.6, \"#e6f5d0\"], [0.7, \"#b8e186\"], [0.8, \"#7fbc41\"], [0.9, \"#4d9221\"], [1, \"#276419\"]], \"sequential\": [[0.0, \"#0d0887\"], [0.1111111111111111, \"#46039f\"], [0.2222222222222222, \"#7201a8\"], [0.3333333333333333, \"#9c179e\"], [0.4444444444444444, \"#bd3786\"], [0.5555555555555556, \"#d8576b\"], [0.6666666666666666, \"#ed7953\"], [0.7777777777777778, \"#fb9f3a\"], [0.8888888888888888, \"#fdca26\"], [1.0, \"#f0f921\"]], \"sequentialminus\": [[0.0, \"#0d0887\"], [0.1111111111111111, \"#46039f\"], [0.2222222222222222, \"#7201a8\"], [0.3333333333333333, \"#9c179e\"], [0.4444444444444444, \"#bd3786\"], [0.5555555555555556, \"#d8576b\"], [0.6666666666666666, \"#ed7953\"], [0.7777777777777778, \"#fb9f3a\"], [0.8888888888888888, \"#fdca26\"], [1.0, \"#f0f921\"]]}, \"colorway\": [\"#636efa\", \"#EF553B\", \"#00cc96\", \"#ab63fa\", \"#FFA15A\", \"#19d3f3\", \"#FF6692\", \"#B6E880\", \"#FF97FF\", \"#FECB52\"], \"font\": {\"color\": \"#2a3f5f\"}, \"geo\": {\"bgcolor\": \"white\", \"lakecolor\": \"white\", \"landcolor\": \"#E5ECF6\", \"showlakes\": true, \"showland\": true, \"subunitcolor\": \"white\"}, \"hoverlabel\": {\"align\": \"left\"}, \"hovermode\": \"closest\", \"mapbox\": {\"style\": \"light\"}, \"paper_bgcolor\": \"white\", \"plot_bgcolor\": \"#E5ECF6\", \"polar\": {\"angularaxis\": {\"gridcolor\": \"white\", \"linecolor\": \"white\", \"ticks\": \"\"}, \"bgcolor\": \"#E5ECF6\", \"radialaxis\": {\"gridcolor\": \"white\", \"linecolor\": \"white\", \"ticks\": \"\"}}, \"scene\": {\"xaxis\": {\"backgroundcolor\": \"#E5ECF6\", \"gridcolor\": \"white\", \"gridwidth\": 2, \"linecolor\": \"white\", \"showbackground\": true, \"ticks\": \"\", \"zerolinecolor\": \"white\"}, \"yaxis\": {\"backgroundcolor\": \"#E5ECF6\", \"gridcolor\": \"white\", \"gridwidth\": 2, \"linecolor\": \"white\", \"showbackground\": true, \"ticks\": \"\", \"zerolinecolor\": \"white\"}, \"zaxis\": {\"backgroundcolor\": \"#E5ECF6\", \"gridcolor\": \"white\", \"gridwidth\": 2, \"linecolor\": \"white\", \"showbackground\": true, \"ticks\": \"\", \"zerolinecolor\": \"white\"}}, \"shapedefaults\": {\"line\": {\"color\": \"#2a3f5f\"}}, \"ternary\": {\"aaxis\": {\"gridcolor\": \"white\", \"linecolor\": \"white\", \"ticks\": \"\"}, \"baxis\": {\"gridcolor\": \"white\", \"linecolor\": \"white\", \"ticks\": \"\"}, \"bgcolor\": \"#E5ECF6\", \"caxis\": {\"gridcolor\": \"white\", \"linecolor\": \"white\", \"ticks\": \"\"}}, \"title\": {\"x\": 0.05}, \"xaxis\": {\"automargin\": true, \"gridcolor\": \"white\", \"linecolor\": \"white\", \"ticks\": \"\", \"zerolinecolor\": \"white\", \"zerolinewidth\": 2}, \"yaxis\": {\"automargin\": true, \"gridcolor\": \"white\", \"linecolor\": \"white\", \"ticks\": \"\", \"zerolinecolor\": \"white\", \"zerolinewidth\": 2}}}, \"width\": 1100, \"xaxis\": {\"dtick\": 1, \"gridwidth\": 2, \"showticklabels\": false, \"tick0\": -0.5, \"ticks\": \"\", \"zeroline\": false}, \"yaxis\": {\"autorange\": \"reversed\", \"dtick\": 1, \"gridwidth\": 2, \"showticklabels\": false, \"tick0\": 0.5, \"ticks\": \"\", \"zeroline\": false}},\n",
       "                        {\"responsive\": true}\n",
       "                    ).then(function(){\n",
       "                            \n",
       "var gd = document.getElementById('55f234a1-2b7b-4380-8a9b-15dbb96002fe');\n",
       "var x = new MutationObserver(function (mutations, observer) {{\n",
       "        var display = window.getComputedStyle(gd).display;\n",
       "        if (!display || display === 'none') {{\n",
       "            console.log([gd, 'removed!']);\n",
       "            Plotly.purge(gd);\n",
       "            observer.disconnect();\n",
       "        }}\n",
       "}});\n",
       "\n",
       "// Listen for the removal of the full notebook cells\n",
       "var notebookContainer = gd.closest('#notebook-container');\n",
       "if (notebookContainer) {{\n",
       "    x.observe(notebookContainer, {childList: true});\n",
       "}}\n",
       "\n",
       "// Listen for the clearing of the current output cell\n",
       "var outputEl = gd.closest('.output');\n",
       "if (outputEl) {{\n",
       "    x.observe(outputEl, {childList: true});\n",
       "}}\n",
       "\n",
       "                        })\n",
       "                };\n",
       "                });\n",
       "            </script>\n",
       "        </div>"
      ]
     },
     "metadata": {},
     "output_type": "display_data"
    }
   ],
   "source": [
    "result2=[['Returning Customers','Potentially Inactive','Total Counts of Both Groups','Proportion of total User After removal']]\n",
    "a=data[(data.user_has_outgoing=='yes')&(data.user_lifetime>3000)].shape[0]\n",
    "b=data[(data.user_has_outgoing=='no')&(data.user_lifetime<14000)].shape[0]\n",
    "\n",
    "set1=(data.user_has_outgoing=='yes')&(data.user_lifetime<3000)\n",
    "set2=(data.user_has_outgoing=='no')&(data.user_lifetime>14000)\n",
    "c=data[set1^set2].shape[0]\n",
    "d=str(round(c/data.shape[0]*100,2))+'%'\n",
    "\n",
    "result2.append([a,b,c,d])\n",
    "table=ff.create_table(result2)\n",
    "table.layout.update(width=1100)\n",
    "table.show()"
   ]
  },
  {
   "cell_type": "markdown",
   "metadata": {},
   "source": [
    "If we decided to filter out both groups, the number of lost information would be in an amount to 59868 or 10% of the whole. This is absolute nonsense to treat them as outliers. \n",
    "\n",
    "---\n",
    "###  _Lesson 2 \" Create 'temporary' feature variable  whose memeber include four types; currenlty active, currentlyinactive, potentially inactive, return consumer .\"_\n",
    "---"
   ]
  },
  {
   "cell_type": "code",
   "execution_count": 16,
   "metadata": {},
   "outputs": [],
   "source": [
    "data['user_type']=None\n",
    "data.loc[(data.user_has_outgoing=='yes')&(data.user_lifetime<3000),'user_type']='likely_active_consumers'\n",
    "data.loc[(data.user_has_outgoing=='yes')&(data.user_lifetime>3000),'user_type']='return_consumers'\n",
    "data.loc[(data.user_has_outgoing=='no')&(data.user_lifetime<3000),'user_type']='possilbe_inactive_consumers'\n",
    "data.loc[(data.user_has_outgoing=='no')&(data.user_lifetime>3000),'user_type']='highly_inactive'"
   ]
  },
  {
   "cell_type": "code",
   "execution_count": 17,
   "metadata": {},
   "outputs": [
    {
     "data": {
      "text/html": [
       "<div>\n",
       "<style scoped>\n",
       "    .dataframe tbody tr th:only-of-type {\n",
       "        vertical-align: middle;\n",
       "    }\n",
       "\n",
       "    .dataframe tbody tr th {\n",
       "        vertical-align: top;\n",
       "    }\n",
       "\n",
       "    .dataframe thead th {\n",
       "        text-align: right;\n",
       "    }\n",
       "</style>\n",
       "<table border=\"1\" class=\"dataframe\">\n",
       "  <thead>\n",
       "    <tr style=\"text-align: right;\">\n",
       "      <th>churn</th>\n",
       "      <th>0</th>\n",
       "      <th>1</th>\n",
       "    </tr>\n",
       "    <tr>\n",
       "      <th>user_type</th>\n",
       "      <th></th>\n",
       "      <th></th>\n",
       "    </tr>\n",
       "  </thead>\n",
       "  <tbody>\n",
       "    <tr>\n",
       "      <th>highly_inactive</th>\n",
       "      <td>2550</td>\n",
       "      <td>7057</td>\n",
       "    </tr>\n",
       "    <tr>\n",
       "      <th>likely_active_consumers</th>\n",
       "      <td>46553</td>\n",
       "      <td>3708</td>\n",
       "    </tr>\n",
       "    <tr>\n",
       "      <th>possilbe_inactive_consumers</th>\n",
       "      <td>1186</td>\n",
       "      <td>1465</td>\n",
       "    </tr>\n",
       "    <tr>\n",
       "      <th>return_consumers</th>\n",
       "      <td>2273</td>\n",
       "      <td>1677</td>\n",
       "    </tr>\n",
       "  </tbody>\n",
       "</table>\n",
       "</div>"
      ],
      "text/plain": [
       "churn                            0     1\n",
       "user_type                               \n",
       "highly_inactive               2550  7057\n",
       "likely_active_consumers      46553  3708\n",
       "possilbe_inactive_consumers   1186  1465\n",
       "return_consumers              2273  1677"
      ]
     },
     "metadata": {},
     "output_type": "display_data"
    },
    {
     "data": {
      "text/plain": [
       "Text(0.5, 0, 'user type')"
      ]
     },
     "execution_count": 17,
     "metadata": {},
     "output_type": "execute_result"
    },
    {
     "data": {
      "image/png": "[encoded data removed]",
      "text/plain": [
       "<Figure size 1008x360 with 1 Axes>"
      ]
     },
     "metadata": {},
     "output_type": "display_data"
    }
   ],
   "source": [
    "fig,ax=plt.subplots(figsize=(14,5))\n",
    "display(data.pivot_table('user_has_outgoing',index='user_type',columns='churn',aggfunc='count'))\n",
    "data.pivot_table('user_has_outgoing',index='user_type',columns='churn',aggfunc='count').plot(kind='bar',ax=ax)\n",
    "ax.set_title('Barplot for The Total Number of Four Type Users by Churn',fontsize=20)\n",
    "ax.set_ylabel('number of users',fontsize=14)\n",
    "ax.set_xlabel('user type',fontsize=14)"
   ]
  },
  {
   "cell_type": "code",
   "execution_count": 18,
   "metadata": {},
   "outputs": [],
   "source": [
    "#to leave only on variable 'user has_outgoing'\n",
    "has_columns=[]\n",
    "for i in data.columns:\n",
    "    if re.search('has',i):\n",
    "        has_columns.append(i)\n",
    "        \n",
    "#drop the rest of columns related to 'has_outgoing' columns\n",
    "data=data.drop(has_columns,axis=1)"
   ]
  },
  {
   "cell_type": "markdown",
   "metadata": {},
   "source": [
    "###  2.1.2 Spending and Duration of Outgoing Activity<a class='anchor' id=spending_duration></a>\n",
    "\n"
   ]
  },
  {
   "cell_type": "code",
   "execution_count": 19,
   "metadata": {},
   "outputs": [
    {
     "data": {
      "text/plain": [
       "last_100_reloads_sum        0.835592\n",
       "user_spendings              0.805431\n",
       "calls_outgoing_spendings    0.679067\n",
       "Name: reloads_sum, dtype: float64"
      ]
     },
     "execution_count": 19,
     "metadata": {},
     "output_type": "execute_result"
    }
   ],
   "source": [
    "data.corr()['reloads_sum'].sort_values(ascending=False)[1:4]"
   ]
  },
  {
   "cell_type": "code",
   "execution_count": 20,
   "metadata": {},
   "outputs": [],
   "source": [
    "result4=data.pivot_table(['reloads_sum','user_account_balance_last','user_spendings'],index=['user_type','churn'],aggfunc='mean')\n",
    "#reanme the label of churn ('no' for 0 and 'yes' for 1)\n",
    "result4.index=result4.index.set_levels(['no','yes'],level=1)\n",
    "result4=result4.reset_index()"
   ]
  },
  {
   "attachments": {
    "image.png": {
     "image/png": "[encoded data removed]"
    }
   },
   "cell_type": "markdown",
   "metadata": {},
   "source": [
    "![image.png](attachment:image.png)\n",
    "\n",
    "As a correlation result implies,   three input features are moving in the same direction; higher spending and greater balance from the previous month and higher reload sum on the specified month and vice versa. Our focus is on returning customers in a given month\n",
    "\n",
    "If the customers stayed away for a long time leaving higher account balance ,they are more likely to come back to resuse the service again. Also, thier decision to come back and continue using service is undoubtedly valuable to the telephone company in that thier reload sum and spending are the second greatest, helping to boost a profit for it.\n",
    "\n",
    "---\n",
    "###  _Lesson 3 \"Come out with mega promotions to attract and retain the returning consumer. \"_"
   ]
  },
  {
   "cell_type": "code",
   "execution_count": 21,
   "metadata": {},
   "outputs": [],
   "source": [
    "result4=data.pivot_table(['reloads_sum','user_account_balance_last','user_spendings'],index=['user_type','churn'],aggfunc='mean')"
   ]
  },
  {
   "cell_type": "code",
   "execution_count": 22,
   "metadata": {},
   "outputs": [
    {
     "data": {
      "text/plain": [
       "['calls_outgoing_duration',\n",
       " 'calls_outgoing_duration_max',\n",
       " 'calls_outgoing_to_onnet_duration',\n",
       " 'calls_outgoing_to_offnet_duration',\n",
       " 'calls_outgoing_to_abroad_duration',\n",
       " 'last_100_calls_outgoing_duration',\n",
       " 'last_100_calls_outgoing_to_onnet_duration',\n",
       " 'last_100_calls_outgoing_to_offnet_duration',\n",
       " 'last_100_calls_outgoing_to_abroad_duration']"
      ]
     },
     "execution_count": 22,
     "metadata": {},
     "output_type": "execute_result"
    }
   ],
   "source": [
    "from re import search\n",
    "duration=[]\n",
    "for i in data.columns:\n",
    "    if search('duration',i):\n",
    "        duration.append(i)\n",
    "duration\n"
   ]
  },
  {
   "cell_type": "code",
   "execution_count": 23,
   "metadata": {},
   "outputs": [
    {
     "data": {
      "text/html": [
       "<div>\n",
       "<style scoped>\n",
       "    .dataframe tbody tr th:only-of-type {\n",
       "        vertical-align: middle;\n",
       "    }\n",
       "\n",
       "    .dataframe tbody tr th {\n",
       "        vertical-align: top;\n",
       "    }\n",
       "\n",
       "    .dataframe thead th {\n",
       "        text-align: right;\n",
       "    }\n",
       "</style>\n",
       "<table border=\"1\" class=\"dataframe\">\n",
       "  <thead>\n",
       "    <tr style=\"text-align: right;\">\n",
       "      <th></th>\n",
       "      <th></th>\n",
       "      <th>calls_outgoing_duration</th>\n",
       "      <th>calls_outgoing_duration_max</th>\n",
       "      <th>calls_outgoing_to_abroad_duration</th>\n",
       "      <th>calls_outgoing_to_offnet_duration</th>\n",
       "      <th>calls_outgoing_to_onnet_duration</th>\n",
       "      <th>last_100_calls_outgoing_duration</th>\n",
       "      <th>last_100_calls_outgoing_to_abroad_duration</th>\n",
       "      <th>last_100_calls_outgoing_to_offnet_duration</th>\n",
       "      <th>last_100_calls_outgoing_to_onnet_duration</th>\n",
       "    </tr>\n",
       "    <tr>\n",
       "      <th>user_type</th>\n",
       "      <th>churn</th>\n",
       "      <th></th>\n",
       "      <th></th>\n",
       "      <th></th>\n",
       "      <th></th>\n",
       "      <th></th>\n",
       "      <th></th>\n",
       "      <th></th>\n",
       "      <th></th>\n",
       "      <th></th>\n",
       "    </tr>\n",
       "  </thead>\n",
       "  <tbody>\n",
       "    <tr>\n",
       "      <th rowspan=\"2\" valign=\"top\">highly_inactive</th>\n",
       "      <th>No</th>\n",
       "      <td>0.000000</td>\n",
       "      <td>0.000000</td>\n",
       "      <td>0.000000</td>\n",
       "      <td>0.000000</td>\n",
       "      <td>0.000000</td>\n",
       "      <td>0.000051</td>\n",
       "      <td>0.000000</td>\n",
       "      <td>0.000000</td>\n",
       "      <td>0.000000</td>\n",
       "    </tr>\n",
       "    <tr>\n",
       "      <th>Yes</th>\n",
       "      <td>0.000000</td>\n",
       "      <td>0.000000</td>\n",
       "      <td>0.000000</td>\n",
       "      <td>0.000000</td>\n",
       "      <td>0.000000</td>\n",
       "      <td>0.000123</td>\n",
       "      <td>0.000000</td>\n",
       "      <td>0.000000</td>\n",
       "      <td>0.000000</td>\n",
       "    </tr>\n",
       "    <tr>\n",
       "      <th rowspan=\"2\" valign=\"top\">likely_active_consumers</th>\n",
       "      <th>No</th>\n",
       "      <td>43.968476</td>\n",
       "      <td>6.471592</td>\n",
       "      <td>1.619496</td>\n",
       "      <td>29.146966</td>\n",
       "      <td>0.546122</td>\n",
       "      <td>135.304246</td>\n",
       "      <td>4.160137</td>\n",
       "      <td>91.853960</td>\n",
       "      <td>1.400059</td>\n",
       "    </tr>\n",
       "    <tr>\n",
       "      <th>Yes</th>\n",
       "      <td>17.148600</td>\n",
       "      <td>3.033643</td>\n",
       "      <td>0.671257</td>\n",
       "      <td>10.738786</td>\n",
       "      <td>0.255283</td>\n",
       "      <td>57.680761</td>\n",
       "      <td>1.776357</td>\n",
       "      <td>38.327435</td>\n",
       "      <td>0.587880</td>\n",
       "    </tr>\n",
       "    <tr>\n",
       "      <th rowspan=\"2\" valign=\"top\">possilbe_inactive_consumers</th>\n",
       "      <th>No</th>\n",
       "      <td>0.000000</td>\n",
       "      <td>0.000000</td>\n",
       "      <td>0.000000</td>\n",
       "      <td>0.000000</td>\n",
       "      <td>0.000000</td>\n",
       "      <td>10.186315</td>\n",
       "      <td>0.555405</td>\n",
       "      <td>5.626906</td>\n",
       "      <td>0.202352</td>\n",
       "    </tr>\n",
       "    <tr>\n",
       "      <th>Yes</th>\n",
       "      <td>0.000000</td>\n",
       "      <td>0.000000</td>\n",
       "      <td>0.000000</td>\n",
       "      <td>0.000000</td>\n",
       "      <td>0.000000</td>\n",
       "      <td>6.561898</td>\n",
       "      <td>0.187290</td>\n",
       "      <td>4.290341</td>\n",
       "      <td>0.098724</td>\n",
       "    </tr>\n",
       "    <tr>\n",
       "      <th rowspan=\"2\" valign=\"top\">return_consumers</th>\n",
       "      <th>No</th>\n",
       "      <td>11.909859</td>\n",
       "      <td>2.385570</td>\n",
       "      <td>0.311755</td>\n",
       "      <td>6.567378</td>\n",
       "      <td>0.117787</td>\n",
       "      <td>11.314549</td>\n",
       "      <td>0.291443</td>\n",
       "      <td>6.179622</td>\n",
       "      <td>0.107585</td>\n",
       "    </tr>\n",
       "    <tr>\n",
       "      <th>Yes</th>\n",
       "      <td>2.582809</td>\n",
       "      <td>0.553775</td>\n",
       "      <td>0.038706</td>\n",
       "      <td>1.400137</td>\n",
       "      <td>0.022815</td>\n",
       "      <td>2.502731</td>\n",
       "      <td>0.034055</td>\n",
       "      <td>1.346231</td>\n",
       "      <td>0.021819</td>\n",
       "    </tr>\n",
       "  </tbody>\n",
       "</table>\n",
       "</div>"
      ],
      "text/plain": [
       "                                   calls_outgoing_duration  \\\n",
       "user_type                   churn                            \n",
       "highly_inactive             No                    0.000000   \n",
       "                            Yes                   0.000000   \n",
       "likely_active_consumers     No                   43.968476   \n",
       "                            Yes                  17.148600   \n",
       "possilbe_inactive_consumers No                    0.000000   \n",
       "                            Yes                   0.000000   \n",
       "return_consumers            No                   11.909859   \n",
       "                            Yes                   2.582809   \n",
       "\n",
       "                                   calls_outgoing_duration_max  \\\n",
       "user_type                   churn                                \n",
       "highly_inactive             No                        0.000000   \n",
       "                            Yes                       0.000000   \n",
       "likely_active_consumers     No                        6.471592   \n",
       "                            Yes                       3.033643   \n",
       "possilbe_inactive_consumers No                        0.000000   \n",
       "                            Yes                       0.000000   \n",
       "return_consumers            No                        2.385570   \n",
       "                            Yes                       0.553775   \n",
       "\n",
       "                                   calls_outgoing_to_abroad_duration  \\\n",
       "user_type                   churn                                      \n",
       "highly_inactive             No                              0.000000   \n",
       "                            Yes                             0.000000   \n",
       "likely_active_consumers     No                              1.619496   \n",
       "                            Yes                             0.671257   \n",
       "possilbe_inactive_consumers No                              0.000000   \n",
       "                            Yes                             0.000000   \n",
       "return_consumers            No                              0.311755   \n",
       "                            Yes                             0.038706   \n",
       "\n",
       "                                   calls_outgoing_to_offnet_duration  \\\n",
       "user_type                   churn                                      \n",
       "highly_inactive             No                              0.000000   \n",
       "                            Yes                             0.000000   \n",
       "likely_active_consumers     No                             29.146966   \n",
       "                            Yes                            10.738786   \n",
       "possilbe_inactive_consumers No                              0.000000   \n",
       "                            Yes                             0.000000   \n",
       "return_consumers            No                              6.567378   \n",
       "                            Yes                             1.400137   \n",
       "\n",
       "                                   calls_outgoing_to_onnet_duration  \\\n",
       "user_type                   churn                                     \n",
       "highly_inactive             No                             0.000000   \n",
       "                            Yes                            0.000000   \n",
       "likely_active_consumers     No                             0.546122   \n",
       "                            Yes                            0.255283   \n",
       "possilbe_inactive_consumers No                             0.000000   \n",
       "                            Yes                            0.000000   \n",
       "return_consumers            No                             0.117787   \n",
       "                            Yes                            0.022815   \n",
       "\n",
       "                                   last_100_calls_outgoing_duration  \\\n",
       "user_type                   churn                                     \n",
       "highly_inactive             No                             0.000051   \n",
       "                            Yes                            0.000123   \n",
       "likely_active_consumers     No                           135.304246   \n",
       "                            Yes                           57.680761   \n",
       "possilbe_inactive_consumers No                            10.186315   \n",
       "                            Yes                            6.561898   \n",
       "return_consumers            No                            11.314549   \n",
       "                            Yes                            2.502731   \n",
       "\n",
       "                                   last_100_calls_outgoing_to_abroad_duration  \\\n",
       "user_type                   churn                                               \n",
       "highly_inactive             No                                       0.000000   \n",
       "                            Yes                                      0.000000   \n",
       "likely_active_consumers     No                                       4.160137   \n",
       "                            Yes                                      1.776357   \n",
       "possilbe_inactive_consumers No                                       0.555405   \n",
       "                            Yes                                      0.187290   \n",
       "return_consumers            No                                       0.291443   \n",
       "                            Yes                                      0.034055   \n",
       "\n",
       "                                   last_100_calls_outgoing_to_offnet_duration  \\\n",
       "user_type                   churn                                               \n",
       "highly_inactive             No                                       0.000000   \n",
       "                            Yes                                      0.000000   \n",
       "likely_active_consumers     No                                      91.853960   \n",
       "                            Yes                                     38.327435   \n",
       "possilbe_inactive_consumers No                                       5.626906   \n",
       "                            Yes                                      4.290341   \n",
       "return_consumers            No                                       6.179622   \n",
       "                            Yes                                      1.346231   \n",
       "\n",
       "                                   last_100_calls_outgoing_to_onnet_duration  \n",
       "user_type                   churn                                             \n",
       "highly_inactive             No                                      0.000000  \n",
       "                            Yes                                     0.000000  \n",
       "likely_active_consumers     No                                      1.400059  \n",
       "                            Yes                                     0.587880  \n",
       "possilbe_inactive_consumers No                                      0.202352  \n",
       "                            Yes                                     0.098724  \n",
       "return_consumers            No                                      0.107585  \n",
       "                            Yes                                     0.021819  "
      ]
     },
     "execution_count": 23,
     "metadata": {},
     "output_type": "execute_result"
    }
   ],
   "source": [
    "result5=data.pivot_table(duration,index=['user_type','churn'],aggfunc='mean')\n",
    "result5.index=result5.index.set_levels(['No','Yes'],level=1)\n",
    "result5"
   ]
  },
  {
   "attachments": {
    "image.png": {
     "image/png": "[encoded data removed]"
    }
   },
   "cell_type": "markdown",
   "metadata": {},
   "source": [
    "###  2.1.3 GPRS <a class='anchor' id=gprs></a>\n",
    "\n",
    "![image.png](attachment:image.png)\n",
    "\n",
    "GPRS is often referred to as 2.5G network,having enabled a variety of telecomuication services before 3G,4G,adn 5G. This old techonolgy is gradually phased out in the current market.  At the time where GRS was first introduced to the market, it gained a lot of attention from companies and the major embedded features surprising the market includes  \n",
    "  - faster data rates for downloads\n",
    "  - multimedia messaging service\n",
    "  - wireless application protocol  \n",
    "\n",
    "and so on.  Many articles published in years between 2003 and 2005 suggested that the advent of the network had hit the market providing unprecedented levels of services for customers. Let's see how this techology has actually woroked in our case."
   ]
  },
  {
   "cell_type": "code",
   "execution_count": 24,
   "metadata": {},
   "outputs": [],
   "source": [
    "gprs=[]\n",
    "for i in data.columns:\n",
    "    if search('gprs',i):\n",
    "        gprs.append(i)\n",
    "\n",
    "        result5=data.pivot_table('user_use_gprs',index=['user_type','churn'],aggfunc='count')\n",
    "result5.index=result5.index.set_levels(['no','yes'],level=1)\n",
    "result5=result5.reset_index()\n",
    "result5=result5.rename(columns={'user_user_gprs':\"number of user_gprs\"})"
   ]
  },
  {
   "cell_type": "code",
   "execution_count": 25,
   "metadata": {},
   "outputs": [],
   "source": [
    "gprs=gprs[1:]\n",
    "result6=data.pivot_table(gprs,index=['user_type','churn'],aggfunc='mean')\n",
    "result6.index=result6.index.set_levels(['no','yes'],level=1)\n",
    "result6=result6.reset_index()\n",
    "result6=result6.rename(columns={\n",
    " \"gprs_inactive_days\":\"gprs_inactive_days(avg)\",\n",
    "\"gprs_session_count\":\"gprs_session_count(avg)\",\n",
    "\"gprs_spendings\":\"gprs_spendings(avg)\",\n",
    "\"gprs_usage\":\"gprs_usage(avg)\",\n",
    "\"last_100_gprs_usage\":\"last_100_gprs_usage(avg)\"})"
   ]
  },
  {
   "cell_type": "code",
   "execution_count": 26,
   "metadata": {},
   "outputs": [
    {
     "data": {
      "text/html": [
       "<div>\n",
       "<style scoped>\n",
       "    .dataframe tbody tr th:only-of-type {\n",
       "        vertical-align: middle;\n",
       "    }\n",
       "\n",
       "    .dataframe tbody tr th {\n",
       "        vertical-align: top;\n",
       "    }\n",
       "\n",
       "    .dataframe thead th {\n",
       "        text-align: right;\n",
       "    }\n",
       "</style>\n",
       "<table border=\"1\" class=\"dataframe\">\n",
       "  <thead>\n",
       "    <tr style=\"text-align: right;\">\n",
       "      <th></th>\n",
       "      <th>user_type</th>\n",
       "      <th>churn</th>\n",
       "      <th>user_use_gprs</th>\n",
       "      <th>gprs_inactive_days(avg)</th>\n",
       "      <th>gprs_session_count(avg)</th>\n",
       "      <th>gprs_spendings(avg)</th>\n",
       "      <th>gprs_usage(avg)</th>\n",
       "      <th>last_100_gprs_usage(avg)</th>\n",
       "    </tr>\n",
       "  </thead>\n",
       "  <tbody>\n",
       "    <tr>\n",
       "      <th>0</th>\n",
       "      <td>highly_inactive</td>\n",
       "      <td>no</td>\n",
       "      <td>2550</td>\n",
       "      <td>1292.722745</td>\n",
       "      <td>0.074510</td>\n",
       "      <td>0.002510</td>\n",
       "      <td>0.013502</td>\n",
       "      <td>0.006153</td>\n",
       "    </tr>\n",
       "    <tr>\n",
       "      <th>1</th>\n",
       "      <td>highly_inactive</td>\n",
       "      <td>yes</td>\n",
       "      <td>7057</td>\n",
       "      <td>1318.972084</td>\n",
       "      <td>0.000000</td>\n",
       "      <td>0.000000</td>\n",
       "      <td>0.000000</td>\n",
       "      <td>0.000000</td>\n",
       "    </tr>\n",
       "    <tr>\n",
       "      <th>2</th>\n",
       "      <td>likely_active_consumers</td>\n",
       "      <td>no</td>\n",
       "      <td>46553</td>\n",
       "      <td>1154.266406</td>\n",
       "      <td>7.825489</td>\n",
       "      <td>0.245112</td>\n",
       "      <td>2.184975</td>\n",
       "      <td>7.660809</td>\n",
       "    </tr>\n",
       "    <tr>\n",
       "      <th>3</th>\n",
       "      <td>likely_active_consumers</td>\n",
       "      <td>yes</td>\n",
       "      <td>3708</td>\n",
       "      <td>1184.489752</td>\n",
       "      <td>7.139968</td>\n",
       "      <td>0.246683</td>\n",
       "      <td>2.302020</td>\n",
       "      <td>6.737710</td>\n",
       "    </tr>\n",
       "    <tr>\n",
       "      <th>4</th>\n",
       "      <td>possilbe_inactive_consumers</td>\n",
       "      <td>no</td>\n",
       "      <td>1186</td>\n",
       "      <td>1226.587690</td>\n",
       "      <td>3.365093</td>\n",
       "      <td>0.084401</td>\n",
       "      <td>0.501029</td>\n",
       "      <td>2.931804</td>\n",
       "    </tr>\n",
       "    <tr>\n",
       "      <th>5</th>\n",
       "      <td>possilbe_inactive_consumers</td>\n",
       "      <td>yes</td>\n",
       "      <td>1465</td>\n",
       "      <td>1250.271672</td>\n",
       "      <td>0.049147</td>\n",
       "      <td>0.002150</td>\n",
       "      <td>0.012792</td>\n",
       "      <td>0.935754</td>\n",
       "    </tr>\n",
       "    <tr>\n",
       "      <th>6</th>\n",
       "      <td>return_consumers</td>\n",
       "      <td>no</td>\n",
       "      <td>2273</td>\n",
       "      <td>1226.464584</td>\n",
       "      <td>9.246810</td>\n",
       "      <td>0.217563</td>\n",
       "      <td>3.012956</td>\n",
       "      <td>2.733229</td>\n",
       "    </tr>\n",
       "    <tr>\n",
       "      <th>7</th>\n",
       "      <td>return_consumers</td>\n",
       "      <td>yes</td>\n",
       "      <td>1677</td>\n",
       "      <td>1284.741801</td>\n",
       "      <td>2.784138</td>\n",
       "      <td>0.111866</td>\n",
       "      <td>1.113745</td>\n",
       "      <td>0.946607</td>\n",
       "    </tr>\n",
       "  </tbody>\n",
       "</table>\n",
       "</div>"
      ],
      "text/plain": [
       "                     user_type churn  user_use_gprs  gprs_inactive_days(avg)  \\\n",
       "0              highly_inactive    no           2550              1292.722745   \n",
       "1              highly_inactive   yes           7057              1318.972084   \n",
       "2      likely_active_consumers    no          46553              1154.266406   \n",
       "3      likely_active_consumers   yes           3708              1184.489752   \n",
       "4  possilbe_inactive_consumers    no           1186              1226.587690   \n",
       "5  possilbe_inactive_consumers   yes           1465              1250.271672   \n",
       "6             return_consumers    no           2273              1226.464584   \n",
       "7             return_consumers   yes           1677              1284.741801   \n",
       "\n",
       "   gprs_session_count(avg)  gprs_spendings(avg)  gprs_usage(avg)  \\\n",
       "0                 0.074510             0.002510         0.013502   \n",
       "1                 0.000000             0.000000         0.000000   \n",
       "2                 7.825489             0.245112         2.184975   \n",
       "3                 7.139968             0.246683         2.302020   \n",
       "4                 3.365093             0.084401         0.501029   \n",
       "5                 0.049147             0.002150         0.012792   \n",
       "6                 9.246810             0.217563         3.012956   \n",
       "7                 2.784138             0.111866         1.113745   \n",
       "\n",
       "   last_100_gprs_usage(avg)  \n",
       "0                  0.006153  \n",
       "1                  0.000000  \n",
       "2                  7.660809  \n",
       "3                  6.737710  \n",
       "4                  2.931804  \n",
       "5                  0.935754  \n",
       "6                  2.733229  \n",
       "7                  0.946607  "
      ]
     },
     "execution_count": 26,
     "metadata": {},
     "output_type": "execute_result"
    }
   ],
   "source": [
    "result5=result5.merge(result6,how='outer')\n",
    "result5"
   ]
  },
  {
   "cell_type": "code",
   "execution_count": 27,
   "metadata": {},
   "outputs": [
    {
     "data": {
      "text/plain": [
       "<seaborn.axisgrid.FacetGrid at 0x7f71b453bc88>"
      ]
     },
     "execution_count": 27,
     "metadata": {},
     "output_type": "execute_result"
    },
    {
     "data": {
      "image/png": "[encoded data removed]",
      "text/plain": [
       "<Figure size 720x360 with 2 Axes>"
      ]
     },
     "metadata": {},
     "output_type": "display_data"
    }
   ],
   "source": [
    "g=sns.catplot(x='user_type',y='gprs_inactive_days(avg)',col='churn',kind='bar',data=result5)\n",
    "g.set_xticklabels(rotation=30)\n",
    "g.set_xlabels('user_type',fontsize=14)\n",
    "g.set_ylabels('gprs_inactive_days(avg)',fontsize=14)"
   ]
  },
  {
   "cell_type": "code",
   "execution_count": 28,
   "metadata": {},
   "outputs": [
    {
     "data": {
      "text/plain": [
       "<seaborn.axisgrid.FacetGrid at 0x7f71b455d630>"
      ]
     },
     "execution_count": 28,
     "metadata": {},
     "output_type": "execute_result"
    },
    {
     "data": {
      "image/png": "[encoded data removed]",
      "text/plain": [
       "<Figure size 720x360 with 2 Axes>"
      ]
     },
     "metadata": {},
     "output_type": "display_data"
    }
   ],
   "source": [
    "g=sns.catplot(x='user_type',y='gprs_spendings(avg)',col='churn',kind='bar',data=result5)\n",
    "g.set_xticklabels(rotation=30)\n",
    "g.set_xlabels('user_type',fontsize=14)\n",
    "g.set_ylabels('gprs_spendings(avg)',fontsize=14)"
   ]
  },
  {
   "cell_type": "code",
   "execution_count": 29,
   "metadata": {},
   "outputs": [
    {
     "data": {
      "text/plain": [
       "<seaborn.axisgrid.FacetGrid at 0x7f71bc2e8908>"
      ]
     },
     "execution_count": 29,
     "metadata": {},
     "output_type": "execute_result"
    },
    {
     "data": {
      "image/png": "[encoded data removed]",
      "text/plain": [
       "<Figure size 720x360 with 2 Axes>"
      ]
     },
     "metadata": {},
     "output_type": "display_data"
    }
   ],
   "source": [
    "g=sns.catplot(x='user_type',y='gprs_usage(avg)',col='churn',kind='bar',data=result5)\n",
    "g.set_xticklabels(rotation=30)\n",
    "g.set_xlabels('user_type',fontsize=14)\n",
    "g.set_ylabels('gprs_usage(avg)',fontsize=14)"
   ]
  },
  {
   "cell_type": "code",
   "execution_count": 30,
   "metadata": {},
   "outputs": [
    {
     "data": {
      "text/plain": [
       "<seaborn.axisgrid.FacetGrid at 0x7f71bc4de2b0>"
      ]
     },
     "execution_count": 30,
     "metadata": {},
     "output_type": "execute_result"
    },
    {
     "data": {
      "image/png": "[encoded data removed]",
      "text/plain": [
       "<Figure size 720x360 with 2 Axes>"
      ]
     },
     "metadata": {},
     "output_type": "display_data"
    }
   ],
   "source": [
    "g=sns.catplot(x='user_type',y='last_100_gprs_usage(avg)',col='churn',kind='bar',data=result5)\n",
    "g.set_xticklabels(rotation=30)\n",
    "g.set_xlabels('user_type',fontsize=14)\n",
    "g.set_ylabels('last_100_gprs_usage(avg)',fontsize=14)"
   ]
  },
  {
   "cell_type": "markdown",
   "metadata": {},
   "source": [
    "There are two chatractersitcs we should pay attention to in evaluating how the newly introduced technology will affect the sales revenue. \n",
    "\n",
    "First,the introduction of new technology was not attractive to induce that whow are likely to be inactive.  The highest usage of the service like others was recorded by two groups(highly active consumers and return consumers). \n",
    "\n",
    "Also,  inactive days  are similar among all the user types.  What this means is that even repeated consumers who are loyal to the companies did not think the newly introduced technology was tempedto.Not only did the company fail to persuade the group with the higher possibility of ceasing thier service, but also it did not help their loyal customers to settle on the use of GPRS.\n",
    "\n",
    "Finally, let's look at the correlation with user_lifetime.All the correlation with user_lifetime is below 0.2 and considered as weak realtionship. These are strong candidates for being dropped out. "
   ]
  },
  {
   "cell_type": "code",
   "execution_count": 31,
   "metadata": {},
   "outputs": [
    {
     "data": {
      "text/plain": [
       "gprs_session_count    -0.025409\n",
       "gprs_usage            -0.018418\n",
       "gprs_spendings        -0.027963\n",
       "gprs_inactive_days     0.165816\n",
       "last_100_gprs_usage   -0.037494\n",
       "Name: user_lifetime, dtype: float64"
      ]
     },
     "execution_count": 31,
     "metadata": {},
     "output_type": "execute_result"
    }
   ],
   "source": [
    "result_corr=data.corr()['user_lifetime'].sort_values(ascending=False)\n",
    "result_corr[gprs]"
   ]
  },
  {
   "cell_type": "markdown",
   "metadata": {},
   "source": [
    "### 3. Constructing Model <a class='anchor' id=model></a>"
   ]
  },
  {
   "cell_type": "code",
   "execution_count": 32,
   "metadata": {},
   "outputs": [],
   "source": [
    "data1=data.copy()\n",
    "data_response=data1.churn\n",
    "data1=data1.drop(['churn','user_type'],axis=1)"
   ]
  },
  {
   "cell_type": "markdown",
   "metadata": {},
   "source": [
    "\n",
    "### Logistic Regression <a class='anchor' id=logistic></a>"
   ]
  },
  {
   "cell_type": "markdown",
   "metadata": {},
   "source": [
    "### 3.1.1 Feature Scaling <a class='anchor' id=scaling></a>"
   ]
  },
  {
   "cell_type": "code",
   "execution_count": 33,
   "metadata": {},
   "outputs": [],
   "source": [
    "conver_var=['user_intake','user_use_gprs','user_does_reload','user_does_reload'] \n",
    "def conversion(data):  \n",
    "    for i in conver_var:\n",
    "        data.loc[:,i]=data.loc[:,i].map(lambda x: 'no' if x==0 else 'yes')\n",
    "    return data\n",
    "\n",
    "data1=conversion(data1)\n",
    "\n"
   ]
  },
  {
   "cell_type": "code",
   "execution_count": 34,
   "metadata": {},
   "outputs": [],
   "source": [
    "def quant_qualt_columns(x):\n",
    "    quant=[]\n",
    "    qualt=[]\n",
    "    for i in x.columns:\n",
    "        if x.loc[:,i].dtype=='int64' or x.loc[:,i].dtype=='float64':\n",
    "            quant.append(i)\n",
    "        else:\n",
    "            qualt.append(i)\n",
    "    return {0:quant,1:qualt}\n",
    "\n",
    "quant_columns=quant_qualt_columns(data1)[0]\n",
    "qualt_columns=quant_qualt_columns(data1)[1]"
   ]
  },
  {
   "cell_type": "code",
   "execution_count": 35,
   "metadata": {},
   "outputs": [],
   "source": [
    "a=pd.DataFrame(scale(data1.loc[:,quant_columns]),columns=quant_columns)\n",
    "b=data1.loc[:,qualt_columns]\n",
    "data1=pd.concat([a,b],axis=1)\n",
    "\n",
    "#since year is comprise of only zero, we will drop the feature \n",
    "data1=data1.drop('year',axis=1)"
   ]
  },
  {
   "cell_type": "markdown",
   "metadata": {},
   "source": [
    "### 3.1.2 Create Dummy Variables<a class='anchor' id='dummy'></a>"
   ]
  },
  {
   "cell_type": "code",
   "execution_count": 36,
   "metadata": {},
   "outputs": [],
   "source": [
    "for var in qualt_columns:\n",
    "    cat_list = pd.get_dummies(data1.loc[:,var],prefix=var)\n",
    "    data1=data1.join(cat_list)\n",
    "    \n"
   ]
  },
  {
   "cell_type": "code",
   "execution_count": 37,
   "metadata": {},
   "outputs": [],
   "source": [
    "data_final=pd.concat([data1,data_response],axis=1)\n",
    "data_final=data_final.drop(conver_var,axis=1)"
   ]
  },
  {
   "cell_type": "markdown",
   "metadata": {},
   "source": [
    "### 3.1.3 Imbalanced Data-SMOTE <a class='anchor' id=SMOTE></a>\n",
    "\n",
    "More than often not, our training data are imbalanced, resulting in unintentional problems in machine learning classification where there is a disproportionate ratio of observations in each class. We bring some strategies to solve this imbalanced class issue. \n",
    "\n",
    "You may ask what is the big issue with unbalanced data. The biggest bottleneck we may face in the use of the data is our machine learning algorithm favors the one with greater counts. Without a proper procedure to deal with it, we can not expect to have a fair and accurate result.  \n",
    "\n",
    "In this section, we will use the SMOTE( Synthetic Minority Oversampling Technique) to get our data balanced. I will not go further steps to explain the mechanism behind this algorithm but among two options I will choose to oversample our data. \n"
   ]
  },
  {
   "cell_type": "code",
   "execution_count": 38,
   "metadata": {},
   "outputs": [],
   "source": [
    "X=data_final.loc[:,data_final.columns !='churn']\n",
    "y=data_final.loc[:,'churn']"
   ]
  },
  {
   "cell_type": "code",
   "execution_count": 39,
   "metadata": {},
   "outputs": [
    {
     "name": "stdout",
     "output_type": "stream",
     "text": [
      "Length of oversampled data is                                             73652\n",
      "Number of churn whose value is 0 in oversampled data                      36826\n",
      "Number of chunr whose value is 1 in oversampled data in oversampled data  36826\n"
     ]
    }
   ],
   "source": [
    "os=SMOTE(random_state=0)\n",
    "X_train,X_test,y_train,y_test=train_test_split(X,y,test_size=0.3,random_state=0)\n",
    "columns=X_train.columns\n",
    "\n",
    "os_data_X,os_data_y=os.fit_sample(X_train,y_train)\n",
    "os_data=pd.DataFrame(data=os_data_X,columns=columns)\n",
    "os_data['churn']=os_data_y\n",
    "\n",
    "#Check the numbers of our data\n",
    "print(\"Length of oversampled data is                                            \",len(os_data_X))\n",
    "print(\"Number of churn whose value is 0 in oversampled data                     \",len(os_data_y[os_data.churn==0]))\n",
    "print(\"Number of chunr whose value is 1 in oversampled data in oversampled data \",len(os_data_y[os_data.churn==1]))"
   ]
  },
  {
   "cell_type": "markdown",
   "metadata": {},
   "source": [
    "Now we have a perfect balanced data! You may have noticed that I over-sampled only on the training data because by oversampling only on the training data, none of the information in the test data is being used to create synthetic observations, therefore, no information will bleed from test data into the model training."
   ]
  },
  {
   "cell_type": "markdown",
   "metadata": {},
   "source": [
    "**### 3.1.4 Recursive Feature Elimination<a class='anchor' id=RFE></a> \n",
    "\n",
    "Recursive Feature Elimination (RFE) is based on the idea to repeatedly construct a model and choose either the best or worst performing feature, setting the feature aside and then repeating the process with the rest of the features. This process is applied until all features in the dataset are exhausted. The goal of RFE is to select features by recursively considering smaller and smaller sets of features."
   ]
  },
  {
   "cell_type": "code",
   "execution_count": 40,
   "metadata": {},
   "outputs": [
    {
     "name": "stderr",
     "output_type": "stream",
     "text": [
      "/opt/conda/lib/python3.6/site-packages/sklearn/linear_model/logistic.py:432: FutureWarning:\n",
      "\n",
      "Default solver will be changed to 'lbfgs' in 0.22. Specify a solver to silence this warning.\n",
      "\n",
      "/opt/conda/lib/python3.6/site-packages/sklearn/linear_model/logistic.py:432: FutureWarning:\n",
      "\n",
      "Default solver will be changed to 'lbfgs' in 0.22. Specify a solver to silence this warning.\n",
      "\n",
      "/opt/conda/lib/python3.6/site-packages/sklearn/linear_model/logistic.py:432: FutureWarning:\n",
      "\n",
      "Default solver will be changed to 'lbfgs' in 0.22. Specify a solver to silence this warning.\n",
      "\n",
      "/opt/conda/lib/python3.6/site-packages/sklearn/linear_model/logistic.py:432: FutureWarning:\n",
      "\n",
      "Default solver will be changed to 'lbfgs' in 0.22. Specify a solver to silence this warning.\n",
      "\n",
      "/opt/conda/lib/python3.6/site-packages/sklearn/linear_model/logistic.py:432: FutureWarning:\n",
      "\n",
      "Default solver will be changed to 'lbfgs' in 0.22. Specify a solver to silence this warning.\n",
      "\n",
      "/opt/conda/lib/python3.6/site-packages/sklearn/linear_model/logistic.py:432: FutureWarning:\n",
      "\n",
      "Default solver will be changed to 'lbfgs' in 0.22. Specify a solver to silence this warning.\n",
      "\n",
      "/opt/conda/lib/python3.6/site-packages/sklearn/linear_model/logistic.py:432: FutureWarning:\n",
      "\n",
      "Default solver will be changed to 'lbfgs' in 0.22. Specify a solver to silence this warning.\n",
      "\n",
      "/opt/conda/lib/python3.6/site-packages/sklearn/linear_model/logistic.py:432: FutureWarning:\n",
      "\n",
      "Default solver will be changed to 'lbfgs' in 0.22. Specify a solver to silence this warning.\n",
      "\n",
      "/opt/conda/lib/python3.6/site-packages/sklearn/linear_model/logistic.py:432: FutureWarning:\n",
      "\n",
      "Default solver will be changed to 'lbfgs' in 0.22. Specify a solver to silence this warning.\n",
      "\n",
      "/opt/conda/lib/python3.6/site-packages/sklearn/linear_model/logistic.py:432: FutureWarning:\n",
      "\n",
      "Default solver will be changed to 'lbfgs' in 0.22. Specify a solver to silence this warning.\n",
      "\n",
      "/opt/conda/lib/python3.6/site-packages/sklearn/linear_model/logistic.py:432: FutureWarning:\n",
      "\n",
      "Default solver will be changed to 'lbfgs' in 0.22. Specify a solver to silence this warning.\n",
      "\n",
      "/opt/conda/lib/python3.6/site-packages/sklearn/linear_model/logistic.py:432: FutureWarning:\n",
      "\n",
      "Default solver will be changed to 'lbfgs' in 0.22. Specify a solver to silence this warning.\n",
      "\n",
      "/opt/conda/lib/python3.6/site-packages/sklearn/linear_model/logistic.py:432: FutureWarning:\n",
      "\n",
      "Default solver will be changed to 'lbfgs' in 0.22. Specify a solver to silence this warning.\n",
      "\n",
      "/opt/conda/lib/python3.6/site-packages/sklearn/linear_model/logistic.py:432: FutureWarning:\n",
      "\n",
      "Default solver will be changed to 'lbfgs' in 0.22. Specify a solver to silence this warning.\n",
      "\n",
      "/opt/conda/lib/python3.6/site-packages/sklearn/linear_model/logistic.py:432: FutureWarning:\n",
      "\n",
      "Default solver will be changed to 'lbfgs' in 0.22. Specify a solver to silence this warning.\n",
      "\n",
      "/opt/conda/lib/python3.6/site-packages/sklearn/linear_model/logistic.py:432: FutureWarning:\n",
      "\n",
      "Default solver will be changed to 'lbfgs' in 0.22. Specify a solver to silence this warning.\n",
      "\n",
      "/opt/conda/lib/python3.6/site-packages/sklearn/linear_model/logistic.py:432: FutureWarning:\n",
      "\n",
      "Default solver will be changed to 'lbfgs' in 0.22. Specify a solver to silence this warning.\n",
      "\n"
     ]
    },
    {
     "name": "stdout",
     "output_type": "stream",
     "text": [
      "[ True  True  True  True False  True False  True  True  True  True  True\n",
      "  True  True False  True False  True  True  True  True  True  True  True\n",
      "  True  True  True False False  True  True False  True False  True False\n",
      " False False False False  True  True  True  True  True  True  True  True\n",
      "  True False False  True  True False  True  True]\n",
      "[ 1  1  1  1 17  1  7  1  1  1  1  1  1  1  3  1  5  1  1  1  1  1  1  1\n",
      "  1  1  1  2 15  1  1  6  1  9  1 10 13 14  4 16  1  1  1  1  1  1  1  1\n",
      "  1 11 12  1  1  8  1  1]\n"
     ]
    }
   ],
   "source": [
    "from sklearn.feature_selection import RFE\n",
    "from sklearn.linear_model import LogisticRegression\n",
    "logreg = LogisticRegression()\n",
    "rfe = RFE(logreg, 40)\n",
    "rfe = rfe.fit(os_data_X, os_data_y.ravel())\n",
    "print(rfe.support_)\n",
    "print(rfe.ranking_)"
   ]
  },
  {
   "cell_type": "markdown",
   "metadata": {},
   "source": [
    "###  3.1.5 Performance Test<a class='anchor' id='test'></a>\n",
    "\n",
    "Estimation of beta coefficients is required to construct a model. Since the MLE of logistic regression does not have a closed-form solution, our attention tursn to optimization. We will test 7 methods by which we can check if our optimization is successfully terminated and record time it takes to complete the task. \n"
   ]
  },
  {
   "cell_type": "code",
   "execution_count": 41,
   "metadata": {},
   "outputs": [
    {
     "data": {
      "text/plain": [
       "Index(['month', 'user_lifetime', 'min_outgoing_inactive_days',\n",
       "       'user_account_balance_last', 'reloads_inactive_days', 'reloads_sum',\n",
       "       'calls_outgoing_count', 'calls_outgoing_spendings',\n",
       "       'calls_outgoing_duration', 'calls_outgoing_spendings_max',\n",
       "       'calls_outgoing_duration_max', 'calls_outgoing_inactive_days',\n",
       "       'calls_outgoing_to_onnet_spendings', 'calls_outgoing_to_offnet_count',\n",
       "       'calls_outgoing_to_offnet_spendings',\n",
       "       'calls_outgoing_to_offnet_duration', 'calls_outgoing_to_abroad_count',\n",
       "       'calls_outgoing_to_abroad_spendings',\n",
       "       'calls_outgoing_to_abroad_duration', 'sms_outgoing_count',\n",
       "       'sms_outgoing_spendings', 'sms_outgoing_spendings_max',\n",
       "       'sms_outgoing_to_onnet_count', 'sms_outgoing_to_offnet_spendings',\n",
       "       'sms_outgoing_to_abroad_count', 'sms_incoming_count',\n",
       "       'sms_incoming_from_abroad_count', 'last_100_reloads_count',\n",
       "       'last_100_reloads_sum', 'last_100_calls_outgoing_duration',\n",
       "       'last_100_calls_outgoing_to_onnet_duration',\n",
       "       'last_100_calls_outgoing_to_offnet_duration',\n",
       "       'last_100_calls_outgoing_to_abroad_duration',\n",
       "       'last_100_sms_outgoing_count', 'last_100_sms_outgoing_to_onnet_count',\n",
       "       'last_100_sms_outgoing_to_offnet_count', 'user_intake_no',\n",
       "       'user_intake_yes', 'user_use_gprs_yes', 'user_does_reload_yes'],\n",
       "      dtype='object')"
      ]
     },
     "execution_count": 41,
     "metadata": {},
     "output_type": "execute_result"
    }
   ],
   "source": [
    "col_index=np.where(rfe.support_)\n",
    "col=os_data.columns[col_index]\n",
    "X=os_data.loc[:,col]\n",
    "y=os_data.churn\n",
    "\n",
    "col"
   ]
  },
  {
   "cell_type": "code",
   "execution_count": 42,
   "metadata": {},
   "outputs": [
    {
     "name": "stdout",
     "output_type": "stream",
     "text": [
      "sm.Logit newton 0.30423688888549805\n",
      "--------------------------------------------------------- \n"
     ]
    },
    {
     "name": "stderr",
     "output_type": "stream",
     "text": [
      "/opt/conda/lib/python3.6/site-packages/statsmodels/base/model.py:492: HessianInversionWarning:\n",
      "\n",
      "Inverting hessian failed, no bse or cov_params available\n",
      "\n",
      "/opt/conda/lib/python3.6/site-packages/statsmodels/base/model.py:512: ConvergenceWarning:\n",
      "\n",
      "Maximum Likelihood optimization failed to converge. Check mle_retvals\n",
      "\n"
     ]
    },
    {
     "name": "stdout",
     "output_type": "stream",
     "text": [
      "sm.Logit nm 4.39111590385437\n",
      "--------------------------------------------------------- \n",
      "sm.Logit bfgs 0.9886431694030762\n",
      "--------------------------------------------------------- \n",
      "sm.Logit lbfgs 0.5112073421478271\n",
      "--------------------------------------------------------- \n",
      "sm.Logit powell 12.811653852462769\n",
      "--------------------------------------------------------- \n"
     ]
    },
    {
     "name": "stderr",
     "output_type": "stream",
     "text": [
      "/opt/conda/lib/python3.6/site-packages/statsmodels/base/model.py:492: HessianInversionWarning:\n",
      "\n",
      "Inverting hessian failed, no bse or cov_params available\n",
      "\n"
     ]
    },
    {
     "name": "stdout",
     "output_type": "stream",
     "text": [
      "sm.Logit cg 1.171055555343628\n",
      "--------------------------------------------------------- \n",
      "sm.Logit ncg 0.4435741901397705\n",
      "--------------------------------------------------------- \n"
     ]
    },
    {
     "name": "stderr",
     "output_type": "stream",
     "text": [
      "/opt/conda/lib/python3.6/site-packages/statsmodels/base/model.py:492: HessianInversionWarning:\n",
      "\n",
      "Inverting hessian failed, no bse or cov_params available\n",
      "\n"
     ]
    }
   ],
   "source": [
    "tol = 0.0001\n",
    "maxiter = 1000\n",
    "DISP = 0\n",
    "\n",
    "\n",
    "SOLVERS = [\"newton\", \"nm\",\"bfgs\",\"lbfgs\",\"powell\",\"cg\",\"ncg\"] #,\"basinhopping\",]\n",
    "for method in SOLVERS:\n",
    "    t = time.time()\n",
    "    model = Logit(y,X)\n",
    "    result = model.fit(method=method, maxiter=maxiter,\n",
    "                       niter=maxiter,\n",
    "                       ftol=tol,\n",
    "                       tol=tol, gtol=tol, pgtol=tol,  # Hmmm.. needs to be reviewed.\n",
    "                       disp=DISP)\n",
    "    print(\"sm.Logit\", method, time.time() - t)\n",
    "    print(\"--------------------------------------------------------- \")\n",
    "\n"
   ]
  },
  {
   "cell_type": "markdown",
   "metadata": {},
   "source": [
    "It is the newton method that converges most fast but generate an error-cotaining result. We have no choice but to select lbfgs,the second fast model."
   ]
  },
  {
   "cell_type": "code",
   "execution_count": 43,
   "metadata": {},
   "outputs": [],
   "source": [
    "model = Logit(y,X)\n",
    "result = model.fit(method='lbfgs',maxiter=maxiter,\n",
    "                       niter=maxiter,\n",
    "                       ftol=tol,\n",
    "                       tol=tol, gtol=tol, pgtol=tol, \n",
    "                       disp=DISP)"
   ]
  },
  {
   "cell_type": "code",
   "execution_count": 44,
   "metadata": {},
   "outputs": [
    {
     "data": {
      "text/html": [
       "<table class=\"simpletable\">\n",
       "<caption>Logit Regression Results</caption>\n",
       "<tr>\n",
       "  <th>Dep. Variable:</th>         <td>churn</td>      <th>  No. Observations:  </th>  <td> 73652</td> \n",
       "</tr>\n",
       "<tr>\n",
       "  <th>Model:</th>                 <td>Logit</td>      <th>  Df Residuals:      </th>  <td> 73613</td> \n",
       "</tr>\n",
       "<tr>\n",
       "  <th>Method:</th>                 <td>MLE</td>       <th>  Df Model:          </th>  <td>    38</td> \n",
       "</tr>\n",
       "<tr>\n",
       "  <th>Date:</th>            <td>Sun, 10 Nov 2019</td> <th>  Pseudo R-squ.:     </th>  <td>0.3776</td> \n",
       "</tr>\n",
       "<tr>\n",
       "  <th>Time:</th>                <td>15:45:56</td>     <th>  Log-Likelihood:    </th> <td> -31776.</td>\n",
       "</tr>\n",
       "<tr>\n",
       "  <th>converged:</th>             <td>True</td>       <th>  LL-Null:           </th> <td> -51052.</td>\n",
       "</tr>\n",
       "<tr>\n",
       "  <th>Covariance Type:</th>     <td>nonrobust</td>    <th>  LLR p-value:       </th>  <td> 0.000</td> \n",
       "</tr>\n",
       "</table>\n",
       "<table class=\"simpletable\">\n",
       "<tr>\n",
       "                       <td></td>                         <th>coef</th>     <th>std err</th>      <th>z</th>      <th>P>|z|</th>  <th>[0.025</th>    <th>0.975]</th>  \n",
       "</tr>\n",
       "<tr>\n",
       "  <th>month</th>                                      <td>    0.4538</td> <td>    0.015</td> <td>   29.848</td> <td> 0.000</td> <td>    0.424</td> <td>    0.484</td>\n",
       "</tr>\n",
       "<tr>\n",
       "  <th>user_lifetime</th>                              <td>    0.2107</td> <td>    0.013</td> <td>   16.540</td> <td> 0.000</td> <td>    0.186</td> <td>    0.236</td>\n",
       "</tr>\n",
       "<tr>\n",
       "  <th>min_outgoing_inactive_days</th>                 <td>   -0.0741</td> <td>    0.013</td> <td>   -5.581</td> <td> 0.000</td> <td>   -0.100</td> <td>   -0.048</td>\n",
       "</tr>\n",
       "<tr>\n",
       "  <th>user_account_balance_last</th>                  <td>   -0.5951</td> <td>    0.023</td> <td>  -26.237</td> <td> 0.000</td> <td>   -0.640</td> <td>   -0.551</td>\n",
       "</tr>\n",
       "<tr>\n",
       "  <th>reloads_inactive_days</th>                      <td>    0.4302</td> <td>    0.012</td> <td>   34.875</td> <td> 0.000</td> <td>    0.406</td> <td>    0.454</td>\n",
       "</tr>\n",
       "<tr>\n",
       "  <th>reloads_sum</th>                                <td>   -0.0978</td> <td>    0.042</td> <td>   -2.304</td> <td> 0.021</td> <td>   -0.181</td> <td>   -0.015</td>\n",
       "</tr>\n",
       "<tr>\n",
       "  <th>calls_outgoing_count</th>                       <td>   -0.6833</td> <td>    0.059</td> <td>  -11.509</td> <td> 0.000</td> <td>   -0.800</td> <td>   -0.567</td>\n",
       "</tr>\n",
       "<tr>\n",
       "  <th>calls_outgoing_spendings</th>                   <td>    0.0318</td> <td>    0.051</td> <td>    0.623</td> <td> 0.533</td> <td>   -0.068</td> <td>    0.132</td>\n",
       "</tr>\n",
       "<tr>\n",
       "  <th>calls_outgoing_duration</th>                    <td>    1.0386</td> <td>    0.105</td> <td>    9.913</td> <td> 0.000</td> <td>    0.833</td> <td>    1.244</td>\n",
       "</tr>\n",
       "<tr>\n",
       "  <th>calls_outgoing_spendings_max</th>               <td>    0.0727</td> <td>    0.026</td> <td>    2.786</td> <td> 0.005</td> <td>    0.022</td> <td>    0.124</td>\n",
       "</tr>\n",
       "<tr>\n",
       "  <th>calls_outgoing_duration_max</th>                <td>   -0.5884</td> <td>    0.035</td> <td>  -16.812</td> <td> 0.000</td> <td>   -0.657</td> <td>   -0.520</td>\n",
       "</tr>\n",
       "<tr>\n",
       "  <th>calls_outgoing_inactive_days</th>               <td>    0.4920</td> <td>    0.017</td> <td>   28.204</td> <td> 0.000</td> <td>    0.458</td> <td>    0.526</td>\n",
       "</tr>\n",
       "<tr>\n",
       "  <th>calls_outgoing_to_onnet_spendings</th>          <td>    0.1235</td> <td>    0.043</td> <td>    2.858</td> <td> 0.004</td> <td>    0.039</td> <td>    0.208</td>\n",
       "</tr>\n",
       "<tr>\n",
       "  <th>calls_outgoing_to_offnet_count</th>             <td>    0.2359</td> <td>    0.057</td> <td>    4.151</td> <td> 0.000</td> <td>    0.124</td> <td>    0.347</td>\n",
       "</tr>\n",
       "<tr>\n",
       "  <th>calls_outgoing_to_offnet_spendings</th>         <td>   -0.2884</td> <td>    0.073</td> <td>   -3.976</td> <td> 0.000</td> <td>   -0.431</td> <td>   -0.146</td>\n",
       "</tr>\n",
       "<tr>\n",
       "  <th>calls_outgoing_to_offnet_duration</th>          <td>   -0.6366</td> <td>    0.117</td> <td>   -5.454</td> <td> 0.000</td> <td>   -0.865</td> <td>   -0.408</td>\n",
       "</tr>\n",
       "<tr>\n",
       "  <th>calls_outgoing_to_abroad_count</th>             <td>    0.2161</td> <td>    0.034</td> <td>    6.360</td> <td> 0.000</td> <td>    0.149</td> <td>    0.283</td>\n",
       "</tr>\n",
       "<tr>\n",
       "  <th>calls_outgoing_to_abroad_spendings</th>         <td>   -0.1037</td> <td>    0.066</td> <td>   -1.567</td> <td> 0.117</td> <td>   -0.233</td> <td>    0.026</td>\n",
       "</tr>\n",
       "<tr>\n",
       "  <th>calls_outgoing_to_abroad_duration</th>          <td>   -0.1399</td> <td>    0.049</td> <td>   -2.873</td> <td> 0.004</td> <td>   -0.235</td> <td>   -0.044</td>\n",
       "</tr>\n",
       "<tr>\n",
       "  <th>sms_outgoing_count</th>                         <td>    0.5356</td> <td>    0.068</td> <td>    7.844</td> <td> 0.000</td> <td>    0.402</td> <td>    0.669</td>\n",
       "</tr>\n",
       "<tr>\n",
       "  <th>sms_outgoing_spendings</th>                     <td>   -0.1012</td> <td>    0.039</td> <td>   -2.610</td> <td> 0.009</td> <td>   -0.177</td> <td>   -0.025</td>\n",
       "</tr>\n",
       "<tr>\n",
       "  <th>sms_outgoing_spendings_max</th>                 <td>   -0.1345</td> <td>    0.018</td> <td>   -7.404</td> <td> 0.000</td> <td>   -0.170</td> <td>   -0.099</td>\n",
       "</tr>\n",
       "<tr>\n",
       "  <th>sms_outgoing_to_onnet_count</th>                <td>    0.0541</td> <td>    0.034</td> <td>    1.589</td> <td> 0.112</td> <td>   -0.013</td> <td>    0.121</td>\n",
       "</tr>\n",
       "<tr>\n",
       "  <th>sms_outgoing_to_offnet_spendings</th>           <td>   -0.3668</td> <td>    0.059</td> <td>   -6.215</td> <td> 0.000</td> <td>   -0.482</td> <td>   -0.251</td>\n",
       "</tr>\n",
       "<tr>\n",
       "  <th>sms_outgoing_to_abroad_count</th>               <td>   -0.2370</td> <td>    0.037</td> <td>   -6.463</td> <td> 0.000</td> <td>   -0.309</td> <td>   -0.165</td>\n",
       "</tr>\n",
       "<tr>\n",
       "  <th>sms_incoming_count</th>                         <td>   -0.3225</td> <td>    0.026</td> <td>  -12.215</td> <td> 0.000</td> <td>   -0.374</td> <td>   -0.271</td>\n",
       "</tr>\n",
       "<tr>\n",
       "  <th>sms_incoming_from_abroad_count</th>             <td>   -0.0852</td> <td>    0.023</td> <td>   -3.711</td> <td> 0.000</td> <td>   -0.130</td> <td>   -0.040</td>\n",
       "</tr>\n",
       "<tr>\n",
       "  <th>last_100_reloads_count</th>                     <td>    0.1249</td> <td>    0.033</td> <td>    3.778</td> <td> 0.000</td> <td>    0.060</td> <td>    0.190</td>\n",
       "</tr>\n",
       "<tr>\n",
       "  <th>last_100_reloads_sum</th>                       <td>    0.4774</td> <td>    0.053</td> <td>    9.041</td> <td> 0.000</td> <td>    0.374</td> <td>    0.581</td>\n",
       "</tr>\n",
       "<tr>\n",
       "  <th>last_100_calls_outgoing_duration</th>           <td>   -1.2520</td> <td>    0.122</td> <td>  -10.281</td> <td> 0.000</td> <td>   -1.491</td> <td>   -1.013</td>\n",
       "</tr>\n",
       "<tr>\n",
       "  <th>last_100_calls_outgoing_to_onnet_duration</th>  <td>   -0.0688</td> <td>    0.032</td> <td>   -2.135</td> <td> 0.033</td> <td>   -0.132</td> <td>   -0.006</td>\n",
       "</tr>\n",
       "<tr>\n",
       "  <th>last_100_calls_outgoing_to_offnet_duration</th> <td>    0.8963</td> <td>    0.105</td> <td>    8.552</td> <td> 0.000</td> <td>    0.691</td> <td>    1.102</td>\n",
       "</tr>\n",
       "<tr>\n",
       "  <th>last_100_calls_outgoing_to_abroad_duration</th> <td>    0.1575</td> <td>    0.044</td> <td>    3.620</td> <td> 0.000</td> <td>    0.072</td> <td>    0.243</td>\n",
       "</tr>\n",
       "<tr>\n",
       "  <th>last_100_sms_outgoing_count</th>                <td>   -0.5301</td> <td>    0.084</td> <td>   -6.279</td> <td> 0.000</td> <td>   -0.696</td> <td>   -0.365</td>\n",
       "</tr>\n",
       "<tr>\n",
       "  <th>last_100_sms_outgoing_to_onnet_count</th>       <td>   -0.2176</td> <td>    0.045</td> <td>   -4.826</td> <td> 0.000</td> <td>   -0.306</td> <td>   -0.129</td>\n",
       "</tr>\n",
       "<tr>\n",
       "  <th>last_100_sms_outgoing_to_offnet_count</th>      <td>    0.2098</td> <td>    0.067</td> <td>    3.152</td> <td> 0.002</td> <td>    0.079</td> <td>    0.340</td>\n",
       "</tr>\n",
       "<tr>\n",
       "  <th>user_intake_no</th>                             <td>   -0.3985</td> <td> 2.95e+05</td> <td>-1.35e-06</td> <td> 1.000</td> <td>-5.78e+05</td> <td> 5.78e+05</td>\n",
       "</tr>\n",
       "<tr>\n",
       "  <th>user_intake_yes</th>                            <td>   -0.0052</td> <td> 2.95e+05</td> <td>-1.78e-08</td> <td> 1.000</td> <td>-5.78e+05</td> <td> 5.78e+05</td>\n",
       "</tr>\n",
       "<tr>\n",
       "  <th>user_use_gprs_yes</th>                          <td>   -0.1198</td> <td>    0.061</td> <td>   -1.961</td> <td> 0.050</td> <td>   -0.240</td> <td>-7.29e-05</td>\n",
       "</tr>\n",
       "<tr>\n",
       "  <th>user_does_reload_yes</th>                       <td>   -0.4038</td> <td> 2.95e+05</td> <td>-1.37e-06</td> <td> 1.000</td> <td>-5.78e+05</td> <td> 5.78e+05</td>\n",
       "</tr>\n",
       "</table>"
      ],
      "text/plain": [
       "<class 'statsmodels.iolib.summary.Summary'>\n",
       "\"\"\"\n",
       "                           Logit Regression Results                           \n",
       "==============================================================================\n",
       "Dep. Variable:                  churn   No. Observations:                73652\n",
       "Model:                          Logit   Df Residuals:                    73613\n",
       "Method:                           MLE   Df Model:                           38\n",
       "Date:                Sun, 10 Nov 2019   Pseudo R-squ.:                  0.3776\n",
       "Time:                        15:45:56   Log-Likelihood:                -31776.\n",
       "converged:                       True   LL-Null:                       -51052.\n",
       "Covariance Type:            nonrobust   LLR p-value:                     0.000\n",
       "==============================================================================================================\n",
       "                                                 coef    std err          z      P>|z|      [0.025      0.975]\n",
       "--------------------------------------------------------------------------------------------------------------\n",
       "month                                          0.4538      0.015     29.848      0.000       0.424       0.484\n",
       "user_lifetime                                  0.2107      0.013     16.540      0.000       0.186       0.236\n",
       "min_outgoing_inactive_days                    -0.0741      0.013     -5.581      0.000      -0.100      -0.048\n",
       "user_account_balance_last                     -0.5951      0.023    -26.237      0.000      -0.640      -0.551\n",
       "reloads_inactive_days                          0.4302      0.012     34.875      0.000       0.406       0.454\n",
       "reloads_sum                                   -0.0978      0.042     -2.304      0.021      -0.181      -0.015\n",
       "calls_outgoing_count                          -0.6833      0.059    -11.509      0.000      -0.800      -0.567\n",
       "calls_outgoing_spendings                       0.0318      0.051      0.623      0.533      -0.068       0.132\n",
       "calls_outgoing_duration                        1.0386      0.105      9.913      0.000       0.833       1.244\n",
       "calls_outgoing_spendings_max                   0.0727      0.026      2.786      0.005       0.022       0.124\n",
       "calls_outgoing_duration_max                   -0.5884      0.035    -16.812      0.000      -0.657      -0.520\n",
       "calls_outgoing_inactive_days                   0.4920      0.017     28.204      0.000       0.458       0.526\n",
       "calls_outgoing_to_onnet_spendings              0.1235      0.043      2.858      0.004       0.039       0.208\n",
       "calls_outgoing_to_offnet_count                 0.2359      0.057      4.151      0.000       0.124       0.347\n",
       "calls_outgoing_to_offnet_spendings            -0.2884      0.073     -3.976      0.000      -0.431      -0.146\n",
       "calls_outgoing_to_offnet_duration             -0.6366      0.117     -5.454      0.000      -0.865      -0.408\n",
       "calls_outgoing_to_abroad_count                 0.2161      0.034      6.360      0.000       0.149       0.283\n",
       "calls_outgoing_to_abroad_spendings            -0.1037      0.066     -1.567      0.117      -0.233       0.026\n",
       "calls_outgoing_to_abroad_duration             -0.1399      0.049     -2.873      0.004      -0.235      -0.044\n",
       "sms_outgoing_count                             0.5356      0.068      7.844      0.000       0.402       0.669\n",
       "sms_outgoing_spendings                        -0.1012      0.039     -2.610      0.009      -0.177      -0.025\n",
       "sms_outgoing_spendings_max                    -0.1345      0.018     -7.404      0.000      -0.170      -0.099\n",
       "sms_outgoing_to_onnet_count                    0.0541      0.034      1.589      0.112      -0.013       0.121\n",
       "sms_outgoing_to_offnet_spendings              -0.3668      0.059     -6.215      0.000      -0.482      -0.251\n",
       "sms_outgoing_to_abroad_count                  -0.2370      0.037     -6.463      0.000      -0.309      -0.165\n",
       "sms_incoming_count                            -0.3225      0.026    -12.215      0.000      -0.374      -0.271\n",
       "sms_incoming_from_abroad_count                -0.0852      0.023     -3.711      0.000      -0.130      -0.040\n",
       "last_100_reloads_count                         0.1249      0.033      3.778      0.000       0.060       0.190\n",
       "last_100_reloads_sum                           0.4774      0.053      9.041      0.000       0.374       0.581\n",
       "last_100_calls_outgoing_duration              -1.2520      0.122    -10.281      0.000      -1.491      -1.013\n",
       "last_100_calls_outgoing_to_onnet_duration     -0.0688      0.032     -2.135      0.033      -0.132      -0.006\n",
       "last_100_calls_outgoing_to_offnet_duration     0.8963      0.105      8.552      0.000       0.691       1.102\n",
       "last_100_calls_outgoing_to_abroad_duration     0.1575      0.044      3.620      0.000       0.072       0.243\n",
       "last_100_sms_outgoing_count                   -0.5301      0.084     -6.279      0.000      -0.696      -0.365\n",
       "last_100_sms_outgoing_to_onnet_count          -0.2176      0.045     -4.826      0.000      -0.306      -0.129\n",
       "last_100_sms_outgoing_to_offnet_count          0.2098      0.067      3.152      0.002       0.079       0.340\n",
       "user_intake_no                                -0.3985   2.95e+05  -1.35e-06      1.000   -5.78e+05    5.78e+05\n",
       "user_intake_yes                               -0.0052   2.95e+05  -1.78e-08      1.000   -5.78e+05    5.78e+05\n",
       "user_use_gprs_yes                             -0.1198      0.061     -1.961      0.050      -0.240   -7.29e-05\n",
       "user_does_reload_yes                          -0.4038   2.95e+05  -1.37e-06      1.000   -5.78e+05    5.78e+05\n",
       "==============================================================================================================\n",
       "\"\"\""
      ]
     },
     "execution_count": 44,
     "metadata": {},
     "output_type": "execute_result"
    }
   ],
   "source": [
    "result.summary()"
   ]
  },
  {
   "cell_type": "code",
   "execution_count": 45,
   "metadata": {},
   "outputs": [],
   "source": [
    "# second summary\n",
    "drop_col=['calls_outgoing_spendings','calls_outgoing_to_abroad_spendings','sms_outgoing_to_onnet_count','user_intake_no',\n",
    "          'user_intake_yes','user_does_reload_yes']\n",
    "\n",
    "X=X.drop(drop_col,axis=1)\n",
    "model=Logit(y,X)\n",
    "result = model.fit(method='lbfgs',maxiter=maxiter,\n",
    "                       niter=maxiter,\n",
    "                       ftol=tol,\n",
    "                       tol=tol, gtol=tol, pgtol=tol, \n",
    "                       disp=DISP)"
   ]
  },
  {
   "cell_type": "code",
   "execution_count": 46,
   "metadata": {},
   "outputs": [
    {
     "data": {
      "text/html": [
       "<table class=\"simpletable\">\n",
       "<caption>Logit Regression Results</caption>\n",
       "<tr>\n",
       "  <th>Dep. Variable:</th>         <td>churn</td>      <th>  No. Observations:  </th>  <td> 73652</td> \n",
       "</tr>\n",
       "<tr>\n",
       "  <th>Model:</th>                 <td>Logit</td>      <th>  Df Residuals:      </th>  <td> 73618</td> \n",
       "</tr>\n",
       "<tr>\n",
       "  <th>Method:</th>                 <td>MLE</td>       <th>  Df Model:          </th>  <td>    33</td> \n",
       "</tr>\n",
       "<tr>\n",
       "  <th>Date:</th>            <td>Sun, 10 Nov 2019</td> <th>  Pseudo R-squ.:     </th>  <td>0.3383</td> \n",
       "</tr>\n",
       "<tr>\n",
       "  <th>Time:</th>                <td>15:45:56</td>     <th>  Log-Likelihood:    </th> <td> -33782.</td>\n",
       "</tr>\n",
       "<tr>\n",
       "  <th>converged:</th>             <td>True</td>       <th>  LL-Null:           </th> <td> -51052.</td>\n",
       "</tr>\n",
       "<tr>\n",
       "  <th>Covariance Type:</th>     <td>nonrobust</td>    <th>  LLR p-value:       </th>  <td> 0.000</td> \n",
       "</tr>\n",
       "</table>\n",
       "<table class=\"simpletable\">\n",
       "<tr>\n",
       "                       <td></td>                         <th>coef</th>     <th>std err</th>      <th>z</th>      <th>P>|z|</th>  <th>[0.025</th>    <th>0.975]</th>  \n",
       "</tr>\n",
       "<tr>\n",
       "  <th>month</th>                                      <td>    0.5304</td> <td>    0.016</td> <td>   32.910</td> <td> 0.000</td> <td>    0.499</td> <td>    0.562</td>\n",
       "</tr>\n",
       "<tr>\n",
       "  <th>user_lifetime</th>                              <td>    0.2638</td> <td>    0.013</td> <td>   20.138</td> <td> 0.000</td> <td>    0.238</td> <td>    0.289</td>\n",
       "</tr>\n",
       "<tr>\n",
       "  <th>min_outgoing_inactive_days</th>                 <td>   -0.1281</td> <td>    0.016</td> <td>   -7.928</td> <td> 0.000</td> <td>   -0.160</td> <td>   -0.096</td>\n",
       "</tr>\n",
       "<tr>\n",
       "  <th>user_account_balance_last</th>                  <td>   -0.4060</td> <td>    0.018</td> <td>  -22.620</td> <td> 0.000</td> <td>   -0.441</td> <td>   -0.371</td>\n",
       "</tr>\n",
       "<tr>\n",
       "  <th>reloads_inactive_days</th>                      <td>    0.4151</td> <td>    0.011</td> <td>   37.767</td> <td> 0.000</td> <td>    0.394</td> <td>    0.437</td>\n",
       "</tr>\n",
       "<tr>\n",
       "  <th>reloads_sum</th>                                <td>    0.0118</td> <td>    0.030</td> <td>    0.401</td> <td> 0.689</td> <td>   -0.046</td> <td>    0.070</td>\n",
       "</tr>\n",
       "<tr>\n",
       "  <th>calls_outgoing_count</th>                       <td>   -0.2997</td> <td>    0.040</td> <td>   -7.576</td> <td> 0.000</td> <td>   -0.377</td> <td>   -0.222</td>\n",
       "</tr>\n",
       "<tr>\n",
       "  <th>calls_outgoing_duration</th>                    <td>    0.4716</td> <td>    0.069</td> <td>    6.847</td> <td> 0.000</td> <td>    0.337</td> <td>    0.607</td>\n",
       "</tr>\n",
       "<tr>\n",
       "  <th>calls_outgoing_spendings_max</th>               <td>    0.0061</td> <td>    0.017</td> <td>    0.354</td> <td> 0.723</td> <td>   -0.028</td> <td>    0.040</td>\n",
       "</tr>\n",
       "<tr>\n",
       "  <th>calls_outgoing_duration_max</th>                <td>   -0.3014</td> <td>    0.023</td> <td>  -13.341</td> <td> 0.000</td> <td>   -0.346</td> <td>   -0.257</td>\n",
       "</tr>\n",
       "<tr>\n",
       "  <th>calls_outgoing_inactive_days</th>               <td>    0.6817</td> <td>    0.021</td> <td>   31.835</td> <td> 0.000</td> <td>    0.640</td> <td>    0.724</td>\n",
       "</tr>\n",
       "<tr>\n",
       "  <th>calls_outgoing_to_onnet_spendings</th>          <td>    0.0569</td> <td>    0.022</td> <td>    2.594</td> <td> 0.009</td> <td>    0.014</td> <td>    0.100</td>\n",
       "</tr>\n",
       "<tr>\n",
       "  <th>calls_outgoing_to_offnet_count</th>             <td>    0.0745</td> <td>    0.036</td> <td>    2.072</td> <td> 0.038</td> <td>    0.004</td> <td>    0.145</td>\n",
       "</tr>\n",
       "<tr>\n",
       "  <th>calls_outgoing_to_offnet_spendings</th>         <td>   -0.1900</td> <td>    0.034</td> <td>   -5.575</td> <td> 0.000</td> <td>   -0.257</td> <td>   -0.123</td>\n",
       "</tr>\n",
       "<tr>\n",
       "  <th>calls_outgoing_to_offnet_duration</th>          <td>   -0.2132</td> <td>    0.065</td> <td>   -3.263</td> <td> 0.001</td> <td>   -0.341</td> <td>   -0.085</td>\n",
       "</tr>\n",
       "<tr>\n",
       "  <th>calls_outgoing_to_abroad_count</th>             <td>    0.0914</td> <td>    0.025</td> <td>    3.688</td> <td> 0.000</td> <td>    0.043</td> <td>    0.140</td>\n",
       "</tr>\n",
       "<tr>\n",
       "  <th>calls_outgoing_to_abroad_duration</th>          <td>   -0.0860</td> <td>    0.029</td> <td>   -2.915</td> <td> 0.004</td> <td>   -0.144</td> <td>   -0.028</td>\n",
       "</tr>\n",
       "<tr>\n",
       "  <th>sms_outgoing_count</th>                         <td>    0.3102</td> <td>    0.050</td> <td>    6.171</td> <td> 0.000</td> <td>    0.212</td> <td>    0.409</td>\n",
       "</tr>\n",
       "<tr>\n",
       "  <th>sms_outgoing_spendings</th>                     <td>   -0.1275</td> <td>    0.028</td> <td>   -4.534</td> <td> 0.000</td> <td>   -0.183</td> <td>   -0.072</td>\n",
       "</tr>\n",
       "<tr>\n",
       "  <th>sms_outgoing_spendings_max</th>                 <td>   -0.0793</td> <td>    0.013</td> <td>   -6.114</td> <td> 0.000</td> <td>   -0.105</td> <td>   -0.054</td>\n",
       "</tr>\n",
       "<tr>\n",
       "  <th>sms_outgoing_to_offnet_spendings</th>           <td>   -0.1846</td> <td>    0.044</td> <td>   -4.223</td> <td> 0.000</td> <td>   -0.270</td> <td>   -0.099</td>\n",
       "</tr>\n",
       "<tr>\n",
       "  <th>sms_outgoing_to_abroad_count</th>               <td>   -0.0745</td> <td>    0.019</td> <td>   -3.940</td> <td> 0.000</td> <td>   -0.112</td> <td>   -0.037</td>\n",
       "</tr>\n",
       "<tr>\n",
       "  <th>sms_incoming_count</th>                         <td>   -0.1598</td> <td>    0.019</td> <td>   -8.269</td> <td> 0.000</td> <td>   -0.198</td> <td>   -0.122</td>\n",
       "</tr>\n",
       "<tr>\n",
       "  <th>sms_incoming_from_abroad_count</th>             <td>   -0.0685</td> <td>    0.017</td> <td>   -4.110</td> <td> 0.000</td> <td>   -0.101</td> <td>   -0.036</td>\n",
       "</tr>\n",
       "<tr>\n",
       "  <th>last_100_reloads_count</th>                     <td>    0.0465</td> <td>    0.021</td> <td>    2.182</td> <td> 0.029</td> <td>    0.005</td> <td>    0.088</td>\n",
       "</tr>\n",
       "<tr>\n",
       "  <th>last_100_reloads_sum</th>                       <td>    0.3899</td> <td>    0.036</td> <td>   10.842</td> <td> 0.000</td> <td>    0.319</td> <td>    0.460</td>\n",
       "</tr>\n",
       "<tr>\n",
       "  <th>last_100_calls_outgoing_duration</th>           <td>   -0.6565</td> <td>    0.079</td> <td>   -8.275</td> <td> 0.000</td> <td>   -0.812</td> <td>   -0.501</td>\n",
       "</tr>\n",
       "<tr>\n",
       "  <th>last_100_calls_outgoing_to_onnet_duration</th>  <td>   -0.0416</td> <td>    0.023</td> <td>   -1.836</td> <td> 0.066</td> <td>   -0.086</td> <td>    0.003</td>\n",
       "</tr>\n",
       "<tr>\n",
       "  <th>last_100_calls_outgoing_to_offnet_duration</th> <td>    0.4364</td> <td>    0.068</td> <td>    6.382</td> <td> 0.000</td> <td>    0.302</td> <td>    0.570</td>\n",
       "</tr>\n",
       "<tr>\n",
       "  <th>last_100_calls_outgoing_to_abroad_duration</th> <td>    0.0735</td> <td>    0.029</td> <td>    2.533</td> <td> 0.011</td> <td>    0.017</td> <td>    0.130</td>\n",
       "</tr>\n",
       "<tr>\n",
       "  <th>last_100_sms_outgoing_count</th>                <td>   -0.2802</td> <td>    0.057</td> <td>   -4.878</td> <td> 0.000</td> <td>   -0.393</td> <td>   -0.168</td>\n",
       "</tr>\n",
       "<tr>\n",
       "  <th>last_100_sms_outgoing_to_onnet_count</th>       <td>   -0.0627</td> <td>    0.015</td> <td>   -4.055</td> <td> 0.000</td> <td>   -0.093</td> <td>   -0.032</td>\n",
       "</tr>\n",
       "<tr>\n",
       "  <th>last_100_sms_outgoing_to_offnet_count</th>      <td>    0.0878</td> <td>    0.047</td> <td>    1.884</td> <td> 0.060</td> <td>   -0.004</td> <td>    0.179</td>\n",
       "</tr>\n",
       "<tr>\n",
       "  <th>user_use_gprs_yes</th>                          <td>   -0.8187</td> <td>    0.057</td> <td>  -14.396</td> <td> 0.000</td> <td>   -0.930</td> <td>   -0.707</td>\n",
       "</tr>\n",
       "</table>"
      ],
      "text/plain": [
       "<class 'statsmodels.iolib.summary.Summary'>\n",
       "\"\"\"\n",
       "                           Logit Regression Results                           \n",
       "==============================================================================\n",
       "Dep. Variable:                  churn   No. Observations:                73652\n",
       "Model:                          Logit   Df Residuals:                    73618\n",
       "Method:                           MLE   Df Model:                           33\n",
       "Date:                Sun, 10 Nov 2019   Pseudo R-squ.:                  0.3383\n",
       "Time:                        15:45:56   Log-Likelihood:                -33782.\n",
       "converged:                       True   LL-Null:                       -51052.\n",
       "Covariance Type:            nonrobust   LLR p-value:                     0.000\n",
       "==============================================================================================================\n",
       "                                                 coef    std err          z      P>|z|      [0.025      0.975]\n",
       "--------------------------------------------------------------------------------------------------------------\n",
       "month                                          0.5304      0.016     32.910      0.000       0.499       0.562\n",
       "user_lifetime                                  0.2638      0.013     20.138      0.000       0.238       0.289\n",
       "min_outgoing_inactive_days                    -0.1281      0.016     -7.928      0.000      -0.160      -0.096\n",
       "user_account_balance_last                     -0.4060      0.018    -22.620      0.000      -0.441      -0.371\n",
       "reloads_inactive_days                          0.4151      0.011     37.767      0.000       0.394       0.437\n",
       "reloads_sum                                    0.0118      0.030      0.401      0.689      -0.046       0.070\n",
       "calls_outgoing_count                          -0.2997      0.040     -7.576      0.000      -0.377      -0.222\n",
       "calls_outgoing_duration                        0.4716      0.069      6.847      0.000       0.337       0.607\n",
       "calls_outgoing_spendings_max                   0.0061      0.017      0.354      0.723      -0.028       0.040\n",
       "calls_outgoing_duration_max                   -0.3014      0.023    -13.341      0.000      -0.346      -0.257\n",
       "calls_outgoing_inactive_days                   0.6817      0.021     31.835      0.000       0.640       0.724\n",
       "calls_outgoing_to_onnet_spendings              0.0569      0.022      2.594      0.009       0.014       0.100\n",
       "calls_outgoing_to_offnet_count                 0.0745      0.036      2.072      0.038       0.004       0.145\n",
       "calls_outgoing_to_offnet_spendings            -0.1900      0.034     -5.575      0.000      -0.257      -0.123\n",
       "calls_outgoing_to_offnet_duration             -0.2132      0.065     -3.263      0.001      -0.341      -0.085\n",
       "calls_outgoing_to_abroad_count                 0.0914      0.025      3.688      0.000       0.043       0.140\n",
       "calls_outgoing_to_abroad_duration             -0.0860      0.029     -2.915      0.004      -0.144      -0.028\n",
       "sms_outgoing_count                             0.3102      0.050      6.171      0.000       0.212       0.409\n",
       "sms_outgoing_spendings                        -0.1275      0.028     -4.534      0.000      -0.183      -0.072\n",
       "sms_outgoing_spendings_max                    -0.0793      0.013     -6.114      0.000      -0.105      -0.054\n",
       "sms_outgoing_to_offnet_spendings              -0.1846      0.044     -4.223      0.000      -0.270      -0.099\n",
       "sms_outgoing_to_abroad_count                  -0.0745      0.019     -3.940      0.000      -0.112      -0.037\n",
       "sms_incoming_count                            -0.1598      0.019     -8.269      0.000      -0.198      -0.122\n",
       "sms_incoming_from_abroad_count                -0.0685      0.017     -4.110      0.000      -0.101      -0.036\n",
       "last_100_reloads_count                         0.0465      0.021      2.182      0.029       0.005       0.088\n",
       "last_100_reloads_sum                           0.3899      0.036     10.842      0.000       0.319       0.460\n",
       "last_100_calls_outgoing_duration              -0.6565      0.079     -8.275      0.000      -0.812      -0.501\n",
       "last_100_calls_outgoing_to_onnet_duration     -0.0416      0.023     -1.836      0.066      -0.086       0.003\n",
       "last_100_calls_outgoing_to_offnet_duration     0.4364      0.068      6.382      0.000       0.302       0.570\n",
       "last_100_calls_outgoing_to_abroad_duration     0.0735      0.029      2.533      0.011       0.017       0.130\n",
       "last_100_sms_outgoing_count                   -0.2802      0.057     -4.878      0.000      -0.393      -0.168\n",
       "last_100_sms_outgoing_to_onnet_count          -0.0627      0.015     -4.055      0.000      -0.093      -0.032\n",
       "last_100_sms_outgoing_to_offnet_count          0.0878      0.047      1.884      0.060      -0.004       0.179\n",
       "user_use_gprs_yes                             -0.8187      0.057    -14.396      0.000      -0.930      -0.707\n",
       "==============================================================================================================\n",
       "\"\"\""
      ]
     },
     "execution_count": 46,
     "metadata": {},
     "output_type": "execute_result"
    }
   ],
   "source": [
    "result.summary()"
   ]
  },
  {
   "cell_type": "code",
   "execution_count": 47,
   "metadata": {},
   "outputs": [],
   "source": [
    "# Third Summary\n",
    "drop_col=['reloads_sum','calls_outgoing_spendings_max','last_100_calls_outgoing_to_onnet_duration','last_100_sms_outgoing_to_offnet_count']\n",
    "X=X.drop(drop_col,axis=1)\n",
    "model=Logit(y,X)\n",
    "result = model.fit(method='lbfgs',maxiter=maxiter,\n",
    "                       niter=maxiter,\n",
    "                       ftol=tol,\n",
    "                       tol=tol, gtol=tol, pgtol=tol, \n",
    "                       disp=DISP)"
   ]
  },
  {
   "cell_type": "code",
   "execution_count": 48,
   "metadata": {},
   "outputs": [
    {
     "data": {
      "text/html": [
       "<table class=\"simpletable\">\n",
       "<caption>Logit Regression Results</caption>\n",
       "<tr>\n",
       "  <th>Dep. Variable:</th>         <td>churn</td>      <th>  No. Observations:  </th>  <td> 73652</td> \n",
       "</tr>\n",
       "<tr>\n",
       "  <th>Model:</th>                 <td>Logit</td>      <th>  Df Residuals:      </th>  <td> 73622</td> \n",
       "</tr>\n",
       "<tr>\n",
       "  <th>Method:</th>                 <td>MLE</td>       <th>  Df Model:          </th>  <td>    29</td> \n",
       "</tr>\n",
       "<tr>\n",
       "  <th>Date:</th>            <td>Sun, 10 Nov 2019</td> <th>  Pseudo R-squ.:     </th>  <td>0.3382</td> \n",
       "</tr>\n",
       "<tr>\n",
       "  <th>Time:</th>                <td>15:45:57</td>     <th>  Log-Likelihood:    </th> <td> -33784.</td>\n",
       "</tr>\n",
       "<tr>\n",
       "  <th>converged:</th>             <td>True</td>       <th>  LL-Null:           </th> <td> -51052.</td>\n",
       "</tr>\n",
       "<tr>\n",
       "  <th>Covariance Type:</th>     <td>nonrobust</td>    <th>  LLR p-value:       </th>  <td> 0.000</td> \n",
       "</tr>\n",
       "</table>\n",
       "<table class=\"simpletable\">\n",
       "<tr>\n",
       "                       <td></td>                         <th>coef</th>     <th>std err</th>      <th>z</th>      <th>P>|z|</th>  <th>[0.025</th>    <th>0.975]</th>  \n",
       "</tr>\n",
       "<tr>\n",
       "  <th>month</th>                                      <td>    0.5304</td> <td>    0.016</td> <td>   33.062</td> <td> 0.000</td> <td>    0.499</td> <td>    0.562</td>\n",
       "</tr>\n",
       "<tr>\n",
       "  <th>user_lifetime</th>                              <td>    0.2633</td> <td>    0.013</td> <td>   20.178</td> <td> 0.000</td> <td>    0.238</td> <td>    0.289</td>\n",
       "</tr>\n",
       "<tr>\n",
       "  <th>min_outgoing_inactive_days</th>                 <td>   -0.1286</td> <td>    0.016</td> <td>   -7.972</td> <td> 0.000</td> <td>   -0.160</td> <td>   -0.097</td>\n",
       "</tr>\n",
       "<tr>\n",
       "  <th>user_account_balance_last</th>                  <td>   -0.4077</td> <td>    0.017</td> <td>  -23.708</td> <td> 0.000</td> <td>   -0.441</td> <td>   -0.374</td>\n",
       "</tr>\n",
       "<tr>\n",
       "  <th>reloads_inactive_days</th>                      <td>    0.4154</td> <td>    0.011</td> <td>   37.834</td> <td> 0.000</td> <td>    0.394</td> <td>    0.437</td>\n",
       "</tr>\n",
       "<tr>\n",
       "  <th>calls_outgoing_count</th>                       <td>   -0.2782</td> <td>    0.039</td> <td>   -7.083</td> <td> 0.000</td> <td>   -0.355</td> <td>   -0.201</td>\n",
       "</tr>\n",
       "<tr>\n",
       "  <th>calls_outgoing_duration</th>                    <td>    0.4917</td> <td>    0.065</td> <td>    7.599</td> <td> 0.000</td> <td>    0.365</td> <td>    0.619</td>\n",
       "</tr>\n",
       "<tr>\n",
       "  <th>calls_outgoing_duration_max</th>                <td>   -0.2966</td> <td>    0.019</td> <td>  -15.708</td> <td> 0.000</td> <td>   -0.334</td> <td>   -0.260</td>\n",
       "</tr>\n",
       "<tr>\n",
       "  <th>calls_outgoing_inactive_days</th>               <td>    0.6821</td> <td>    0.021</td> <td>   31.924</td> <td> 0.000</td> <td>    0.640</td> <td>    0.724</td>\n",
       "</tr>\n",
       "<tr>\n",
       "  <th>calls_outgoing_to_onnet_spendings</th>          <td>    0.0327</td> <td>    0.017</td> <td>    1.918</td> <td> 0.055</td> <td>   -0.001</td> <td>    0.066</td>\n",
       "</tr>\n",
       "<tr>\n",
       "  <th>calls_outgoing_to_offnet_count</th>             <td>    0.0574</td> <td>    0.036</td> <td>    1.598</td> <td> 0.110</td> <td>   -0.013</td> <td>    0.128</td>\n",
       "</tr>\n",
       "<tr>\n",
       "  <th>calls_outgoing_to_offnet_spendings</th>         <td>   -0.1903</td> <td>    0.034</td> <td>   -5.584</td> <td> 0.000</td> <td>   -0.257</td> <td>   -0.123</td>\n",
       "</tr>\n",
       "<tr>\n",
       "  <th>calls_outgoing_to_offnet_duration</th>          <td>   -0.2206</td> <td>    0.064</td> <td>   -3.468</td> <td> 0.001</td> <td>   -0.345</td> <td>   -0.096</td>\n",
       "</tr>\n",
       "<tr>\n",
       "  <th>calls_outgoing_to_abroad_count</th>             <td>    0.0849</td> <td>    0.025</td> <td>    3.396</td> <td> 0.001</td> <td>    0.036</td> <td>    0.134</td>\n",
       "</tr>\n",
       "<tr>\n",
       "  <th>calls_outgoing_to_abroad_duration</th>          <td>   -0.0689</td> <td>    0.028</td> <td>   -2.427</td> <td> 0.015</td> <td>   -0.125</td> <td>   -0.013</td>\n",
       "</tr>\n",
       "<tr>\n",
       "  <th>sms_outgoing_count</th>                         <td>    0.2450</td> <td>    0.037</td> <td>    6.537</td> <td> 0.000</td> <td>    0.172</td> <td>    0.318</td>\n",
       "</tr>\n",
       "<tr>\n",
       "  <th>sms_outgoing_spendings</th>                     <td>   -0.1387</td> <td>    0.028</td> <td>   -4.942</td> <td> 0.000</td> <td>   -0.194</td> <td>   -0.084</td>\n",
       "</tr>\n",
       "<tr>\n",
       "  <th>sms_outgoing_spendings_max</th>                 <td>   -0.0773</td> <td>    0.013</td> <td>   -5.956</td> <td> 0.000</td> <td>   -0.103</td> <td>   -0.052</td>\n",
       "</tr>\n",
       "<tr>\n",
       "  <th>sms_outgoing_to_offnet_spendings</th>           <td>   -0.1158</td> <td>    0.028</td> <td>   -4.138</td> <td> 0.000</td> <td>   -0.171</td> <td>   -0.061</td>\n",
       "</tr>\n",
       "<tr>\n",
       "  <th>sms_outgoing_to_abroad_count</th>               <td>   -0.0714</td> <td>    0.019</td> <td>   -3.788</td> <td> 0.000</td> <td>   -0.108</td> <td>   -0.034</td>\n",
       "</tr>\n",
       "<tr>\n",
       "  <th>sms_incoming_count</th>                         <td>   -0.1609</td> <td>    0.019</td> <td>   -8.378</td> <td> 0.000</td> <td>   -0.198</td> <td>   -0.123</td>\n",
       "</tr>\n",
       "<tr>\n",
       "  <th>sms_incoming_from_abroad_count</th>             <td>   -0.0673</td> <td>    0.017</td> <td>   -4.044</td> <td> 0.000</td> <td>   -0.100</td> <td>   -0.035</td>\n",
       "</tr>\n",
       "<tr>\n",
       "  <th>last_100_reloads_count</th>                     <td>    0.0442</td> <td>    0.021</td> <td>    2.103</td> <td> 0.035</td> <td>    0.003</td> <td>    0.085</td>\n",
       "</tr>\n",
       "<tr>\n",
       "  <th>last_100_reloads_sum</th>                       <td>    0.4104</td> <td>    0.029</td> <td>   14.158</td> <td> 0.000</td> <td>    0.354</td> <td>    0.467</td>\n",
       "</tr>\n",
       "<tr>\n",
       "  <th>last_100_calls_outgoing_duration</th>           <td>   -0.6982</td> <td>    0.077</td> <td>   -9.061</td> <td> 0.000</td> <td>   -0.849</td> <td>   -0.547</td>\n",
       "</tr>\n",
       "<tr>\n",
       "  <th>last_100_calls_outgoing_to_offnet_duration</th> <td>    0.4579</td> <td>    0.068</td> <td>    6.745</td> <td> 0.000</td> <td>    0.325</td> <td>    0.591</td>\n",
       "</tr>\n",
       "<tr>\n",
       "  <th>last_100_calls_outgoing_to_abroad_duration</th> <td>    0.0390</td> <td>    0.023</td> <td>    1.669</td> <td> 0.095</td> <td>   -0.007</td> <td>    0.085</td>\n",
       "</tr>\n",
       "<tr>\n",
       "  <th>last_100_sms_outgoing_count</th>                <td>   -0.1920</td> <td>    0.030</td> <td>   -6.490</td> <td> 0.000</td> <td>   -0.250</td> <td>   -0.134</td>\n",
       "</tr>\n",
       "<tr>\n",
       "  <th>last_100_sms_outgoing_to_onnet_count</th>       <td>   -0.0660</td> <td>    0.015</td> <td>   -4.329</td> <td> 0.000</td> <td>   -0.096</td> <td>   -0.036</td>\n",
       "</tr>\n",
       "<tr>\n",
       "  <th>user_use_gprs_yes</th>                          <td>   -0.8256</td> <td>    0.057</td> <td>  -14.507</td> <td> 0.000</td> <td>   -0.937</td> <td>   -0.714</td>\n",
       "</tr>\n",
       "</table>"
      ],
      "text/plain": [
       "<class 'statsmodels.iolib.summary.Summary'>\n",
       "\"\"\"\n",
       "                           Logit Regression Results                           \n",
       "==============================================================================\n",
       "Dep. Variable:                  churn   No. Observations:                73652\n",
       "Model:                          Logit   Df Residuals:                    73622\n",
       "Method:                           MLE   Df Model:                           29\n",
       "Date:                Sun, 10 Nov 2019   Pseudo R-squ.:                  0.3382\n",
       "Time:                        15:45:57   Log-Likelihood:                -33784.\n",
       "converged:                       True   LL-Null:                       -51052.\n",
       "Covariance Type:            nonrobust   LLR p-value:                     0.000\n",
       "==============================================================================================================\n",
       "                                                 coef    std err          z      P>|z|      [0.025      0.975]\n",
       "--------------------------------------------------------------------------------------------------------------\n",
       "month                                          0.5304      0.016     33.062      0.000       0.499       0.562\n",
       "user_lifetime                                  0.2633      0.013     20.178      0.000       0.238       0.289\n",
       "min_outgoing_inactive_days                    -0.1286      0.016     -7.972      0.000      -0.160      -0.097\n",
       "user_account_balance_last                     -0.4077      0.017    -23.708      0.000      -0.441      -0.374\n",
       "reloads_inactive_days                          0.4154      0.011     37.834      0.000       0.394       0.437\n",
       "calls_outgoing_count                          -0.2782      0.039     -7.083      0.000      -0.355      -0.201\n",
       "calls_outgoing_duration                        0.4917      0.065      7.599      0.000       0.365       0.619\n",
       "calls_outgoing_duration_max                   -0.2966      0.019    -15.708      0.000      -0.334      -0.260\n",
       "calls_outgoing_inactive_days                   0.6821      0.021     31.924      0.000       0.640       0.724\n",
       "calls_outgoing_to_onnet_spendings              0.0327      0.017      1.918      0.055      -0.001       0.066\n",
       "calls_outgoing_to_offnet_count                 0.0574      0.036      1.598      0.110      -0.013       0.128\n",
       "calls_outgoing_to_offnet_spendings            -0.1903      0.034     -5.584      0.000      -0.257      -0.123\n",
       "calls_outgoing_to_offnet_duration             -0.2206      0.064     -3.468      0.001      -0.345      -0.096\n",
       "calls_outgoing_to_abroad_count                 0.0849      0.025      3.396      0.001       0.036       0.134\n",
       "calls_outgoing_to_abroad_duration             -0.0689      0.028     -2.427      0.015      -0.125      -0.013\n",
       "sms_outgoing_count                             0.2450      0.037      6.537      0.000       0.172       0.318\n",
       "sms_outgoing_spendings                        -0.1387      0.028     -4.942      0.000      -0.194      -0.084\n",
       "sms_outgoing_spendings_max                    -0.0773      0.013     -5.956      0.000      -0.103      -0.052\n",
       "sms_outgoing_to_offnet_spendings              -0.1158      0.028     -4.138      0.000      -0.171      -0.061\n",
       "sms_outgoing_to_abroad_count                  -0.0714      0.019     -3.788      0.000      -0.108      -0.034\n",
       "sms_incoming_count                            -0.1609      0.019     -8.378      0.000      -0.198      -0.123\n",
       "sms_incoming_from_abroad_count                -0.0673      0.017     -4.044      0.000      -0.100      -0.035\n",
       "last_100_reloads_count                         0.0442      0.021      2.103      0.035       0.003       0.085\n",
       "last_100_reloads_sum                           0.4104      0.029     14.158      0.000       0.354       0.467\n",
       "last_100_calls_outgoing_duration              -0.6982      0.077     -9.061      0.000      -0.849      -0.547\n",
       "last_100_calls_outgoing_to_offnet_duration     0.4579      0.068      6.745      0.000       0.325       0.591\n",
       "last_100_calls_outgoing_to_abroad_duration     0.0390      0.023      1.669      0.095      -0.007       0.085\n",
       "last_100_sms_outgoing_count                   -0.1920      0.030     -6.490      0.000      -0.250      -0.134\n",
       "last_100_sms_outgoing_to_onnet_count          -0.0660      0.015     -4.329      0.000      -0.096      -0.036\n",
       "user_use_gprs_yes                             -0.8256      0.057    -14.507      0.000      -0.937      -0.714\n",
       "==============================================================================================================\n",
       "\"\"\""
      ]
     },
     "execution_count": 48,
     "metadata": {},
     "output_type": "execute_result"
    }
   ],
   "source": [
    "result.summary()"
   ]
  },
  {
   "cell_type": "code",
   "execution_count": 49,
   "metadata": {},
   "outputs": [],
   "source": [
    "#Fourth Try\n",
    "drop_col=['calls_outgoing_to_offnet_count','last_100_calls_outgoing_to_abroad_duration']\n",
    "X=X.drop(drop_col,axis=1)\n",
    "model=Logit(y,X)\n",
    "result = model.fit(method='lbfgs',maxiter=maxiter,\n",
    "                       niter=maxiter,\n",
    "                       ftol=tol,\n",
    "                       tol=tol, gtol=tol, pgtol=tol, \n",
    "                       disp=DISP)"
   ]
  },
  {
   "cell_type": "code",
   "execution_count": 50,
   "metadata": {},
   "outputs": [
    {
     "data": {
      "text/html": [
       "<table class=\"simpletable\">\n",
       "<caption>Logit Regression Results</caption>\n",
       "<tr>\n",
       "  <th>Dep. Variable:</th>         <td>churn</td>      <th>  No. Observations:  </th>  <td> 73652</td> \n",
       "</tr>\n",
       "<tr>\n",
       "  <th>Model:</th>                 <td>Logit</td>      <th>  Df Residuals:      </th>  <td> 73624</td> \n",
       "</tr>\n",
       "<tr>\n",
       "  <th>Method:</th>                 <td>MLE</td>       <th>  Df Model:          </th>  <td>    27</td> \n",
       "</tr>\n",
       "<tr>\n",
       "  <th>Date:</th>            <td>Sun, 10 Nov 2019</td> <th>  Pseudo R-squ.:     </th>  <td>0.3382</td> \n",
       "</tr>\n",
       "<tr>\n",
       "  <th>Time:</th>                <td>15:45:57</td>     <th>  Log-Likelihood:    </th> <td> -33787.</td>\n",
       "</tr>\n",
       "<tr>\n",
       "  <th>converged:</th>             <td>True</td>       <th>  LL-Null:           </th> <td> -51052.</td>\n",
       "</tr>\n",
       "<tr>\n",
       "  <th>Covariance Type:</th>     <td>nonrobust</td>    <th>  LLR p-value:       </th>  <td> 0.000</td> \n",
       "</tr>\n",
       "</table>\n",
       "<table class=\"simpletable\">\n",
       "<tr>\n",
       "                       <td></td>                         <th>coef</th>     <th>std err</th>      <th>z</th>      <th>P>|z|</th>  <th>[0.025</th>    <th>0.975]</th>  \n",
       "</tr>\n",
       "<tr>\n",
       "  <th>month</th>                                      <td>    0.5316</td> <td>    0.016</td> <td>   33.133</td> <td> 0.000</td> <td>    0.500</td> <td>    0.563</td>\n",
       "</tr>\n",
       "<tr>\n",
       "  <th>user_lifetime</th>                              <td>    0.2636</td> <td>    0.013</td> <td>   20.201</td> <td> 0.000</td> <td>    0.238</td> <td>    0.289</td>\n",
       "</tr>\n",
       "<tr>\n",
       "  <th>min_outgoing_inactive_days</th>                 <td>   -0.1262</td> <td>    0.016</td> <td>   -7.824</td> <td> 0.000</td> <td>   -0.158</td> <td>   -0.095</td>\n",
       "</tr>\n",
       "<tr>\n",
       "  <th>user_account_balance_last</th>                  <td>   -0.4050</td> <td>    0.017</td> <td>  -23.572</td> <td> 0.000</td> <td>   -0.439</td> <td>   -0.371</td>\n",
       "</tr>\n",
       "<tr>\n",
       "  <th>reloads_inactive_days</th>                      <td>    0.4148</td> <td>    0.011</td> <td>   37.805</td> <td> 0.000</td> <td>    0.393</td> <td>    0.436</td>\n",
       "</tr>\n",
       "<tr>\n",
       "  <th>calls_outgoing_count</th>                       <td>   -0.2333</td> <td>    0.028</td> <td>   -8.475</td> <td> 0.000</td> <td>   -0.287</td> <td>   -0.179</td>\n",
       "</tr>\n",
       "<tr>\n",
       "  <th>calls_outgoing_duration</th>                    <td>    0.4544</td> <td>    0.062</td> <td>    7.323</td> <td> 0.000</td> <td>    0.333</td> <td>    0.576</td>\n",
       "</tr>\n",
       "<tr>\n",
       "  <th>calls_outgoing_duration_max</th>                <td>   -0.3006</td> <td>    0.019</td> <td>  -16.055</td> <td> 0.000</td> <td>   -0.337</td> <td>   -0.264</td>\n",
       "</tr>\n",
       "<tr>\n",
       "  <th>calls_outgoing_inactive_days</th>               <td>    0.6790</td> <td>    0.021</td> <td>   31.809</td> <td> 0.000</td> <td>    0.637</td> <td>    0.721</td>\n",
       "</tr>\n",
       "<tr>\n",
       "  <th>calls_outgoing_to_onnet_spendings</th>          <td>    0.0335</td> <td>    0.017</td> <td>    1.966</td> <td> 0.049</td> <td>    0.000</td> <td>    0.067</td>\n",
       "</tr>\n",
       "<tr>\n",
       "  <th>calls_outgoing_to_offnet_spendings</th>         <td>   -0.1824</td> <td>    0.032</td> <td>   -5.734</td> <td> 0.000</td> <td>   -0.245</td> <td>   -0.120</td>\n",
       "</tr>\n",
       "<tr>\n",
       "  <th>calls_outgoing_to_offnet_duration</th>          <td>   -0.1742</td> <td>    0.060</td> <td>   -2.892</td> <td> 0.004</td> <td>   -0.292</td> <td>   -0.056</td>\n",
       "</tr>\n",
       "<tr>\n",
       "  <th>calls_outgoing_to_abroad_count</th>             <td>    0.0800</td> <td>    0.024</td> <td>    3.364</td> <td> 0.001</td> <td>    0.033</td> <td>    0.127</td>\n",
       "</tr>\n",
       "<tr>\n",
       "  <th>calls_outgoing_to_abroad_duration</th>          <td>   -0.0423</td> <td>    0.023</td> <td>   -1.851</td> <td> 0.064</td> <td>   -0.087</td> <td>    0.002</td>\n",
       "</tr>\n",
       "<tr>\n",
       "  <th>sms_outgoing_count</th>                         <td>    0.2430</td> <td>    0.037</td> <td>    6.484</td> <td> 0.000</td> <td>    0.170</td> <td>    0.316</td>\n",
       "</tr>\n",
       "<tr>\n",
       "  <th>sms_outgoing_spendings</th>                     <td>   -0.1436</td> <td>    0.028</td> <td>   -5.105</td> <td> 0.000</td> <td>   -0.199</td> <td>   -0.088</td>\n",
       "</tr>\n",
       "<tr>\n",
       "  <th>sms_outgoing_spendings_max</th>                 <td>   -0.0770</td> <td>    0.013</td> <td>   -5.936</td> <td> 0.000</td> <td>   -0.102</td> <td>   -0.052</td>\n",
       "</tr>\n",
       "<tr>\n",
       "  <th>sms_outgoing_to_offnet_spendings</th>           <td>   -0.1137</td> <td>    0.028</td> <td>   -4.068</td> <td> 0.000</td> <td>   -0.169</td> <td>   -0.059</td>\n",
       "</tr>\n",
       "<tr>\n",
       "  <th>sms_outgoing_to_abroad_count</th>               <td>   -0.0703</td> <td>    0.019</td> <td>   -3.728</td> <td> 0.000</td> <td>   -0.107</td> <td>   -0.033</td>\n",
       "</tr>\n",
       "<tr>\n",
       "  <th>sms_incoming_count</th>                         <td>   -0.1609</td> <td>    0.019</td> <td>   -8.379</td> <td> 0.000</td> <td>   -0.199</td> <td>   -0.123</td>\n",
       "</tr>\n",
       "<tr>\n",
       "  <th>sms_incoming_from_abroad_count</th>             <td>   -0.0659</td> <td>    0.017</td> <td>   -3.973</td> <td> 0.000</td> <td>   -0.098</td> <td>   -0.033</td>\n",
       "</tr>\n",
       "<tr>\n",
       "  <th>last_100_reloads_count</th>                     <td>    0.0433</td> <td>    0.021</td> <td>    2.063</td> <td> 0.039</td> <td>    0.002</td> <td>    0.084</td>\n",
       "</tr>\n",
       "<tr>\n",
       "  <th>last_100_reloads_sum</th>                       <td>    0.4159</td> <td>    0.029</td> <td>   14.203</td> <td> 0.000</td> <td>    0.358</td> <td>    0.473</td>\n",
       "</tr>\n",
       "<tr>\n",
       "  <th>last_100_calls_outgoing_duration</th>           <td>   -0.6750</td> <td>    0.074</td> <td>   -9.181</td> <td> 0.000</td> <td>   -0.819</td> <td>   -0.531</td>\n",
       "</tr>\n",
       "<tr>\n",
       "  <th>last_100_calls_outgoing_to_offnet_duration</th> <td>    0.4337</td> <td>    0.065</td> <td>    6.707</td> <td> 0.000</td> <td>    0.307</td> <td>    0.560</td>\n",
       "</tr>\n",
       "<tr>\n",
       "  <th>last_100_sms_outgoing_count</th>                <td>   -0.1907</td> <td>    0.030</td> <td>   -6.457</td> <td> 0.000</td> <td>   -0.249</td> <td>   -0.133</td>\n",
       "</tr>\n",
       "<tr>\n",
       "  <th>last_100_sms_outgoing_to_onnet_count</th>       <td>   -0.0651</td> <td>    0.015</td> <td>   -4.279</td> <td> 0.000</td> <td>   -0.095</td> <td>   -0.035</td>\n",
       "</tr>\n",
       "<tr>\n",
       "  <th>user_use_gprs_yes</th>                          <td>   -0.8249</td> <td>    0.057</td> <td>  -14.499</td> <td> 0.000</td> <td>   -0.936</td> <td>   -0.713</td>\n",
       "</tr>\n",
       "</table>"
      ],
      "text/plain": [
       "<class 'statsmodels.iolib.summary.Summary'>\n",
       "\"\"\"\n",
       "                           Logit Regression Results                           \n",
       "==============================================================================\n",
       "Dep. Variable:                  churn   No. Observations:                73652\n",
       "Model:                          Logit   Df Residuals:                    73624\n",
       "Method:                           MLE   Df Model:                           27\n",
       "Date:                Sun, 10 Nov 2019   Pseudo R-squ.:                  0.3382\n",
       "Time:                        15:45:57   Log-Likelihood:                -33787.\n",
       "converged:                       True   LL-Null:                       -51052.\n",
       "Covariance Type:            nonrobust   LLR p-value:                     0.000\n",
       "==============================================================================================================\n",
       "                                                 coef    std err          z      P>|z|      [0.025      0.975]\n",
       "--------------------------------------------------------------------------------------------------------------\n",
       "month                                          0.5316      0.016     33.133      0.000       0.500       0.563\n",
       "user_lifetime                                  0.2636      0.013     20.201      0.000       0.238       0.289\n",
       "min_outgoing_inactive_days                    -0.1262      0.016     -7.824      0.000      -0.158      -0.095\n",
       "user_account_balance_last                     -0.4050      0.017    -23.572      0.000      -0.439      -0.371\n",
       "reloads_inactive_days                          0.4148      0.011     37.805      0.000       0.393       0.436\n",
       "calls_outgoing_count                          -0.2333      0.028     -8.475      0.000      -0.287      -0.179\n",
       "calls_outgoing_duration                        0.4544      0.062      7.323      0.000       0.333       0.576\n",
       "calls_outgoing_duration_max                   -0.3006      0.019    -16.055      0.000      -0.337      -0.264\n",
       "calls_outgoing_inactive_days                   0.6790      0.021     31.809      0.000       0.637       0.721\n",
       "calls_outgoing_to_onnet_spendings              0.0335      0.017      1.966      0.049       0.000       0.067\n",
       "calls_outgoing_to_offnet_spendings            -0.1824      0.032     -5.734      0.000      -0.245      -0.120\n",
       "calls_outgoing_to_offnet_duration             -0.1742      0.060     -2.892      0.004      -0.292      -0.056\n",
       "calls_outgoing_to_abroad_count                 0.0800      0.024      3.364      0.001       0.033       0.127\n",
       "calls_outgoing_to_abroad_duration             -0.0423      0.023     -1.851      0.064      -0.087       0.002\n",
       "sms_outgoing_count                             0.2430      0.037      6.484      0.000       0.170       0.316\n",
       "sms_outgoing_spendings                        -0.1436      0.028     -5.105      0.000      -0.199      -0.088\n",
       "sms_outgoing_spendings_max                    -0.0770      0.013     -5.936      0.000      -0.102      -0.052\n",
       "sms_outgoing_to_offnet_spendings              -0.1137      0.028     -4.068      0.000      -0.169      -0.059\n",
       "sms_outgoing_to_abroad_count                  -0.0703      0.019     -3.728      0.000      -0.107      -0.033\n",
       "sms_incoming_count                            -0.1609      0.019     -8.379      0.000      -0.199      -0.123\n",
       "sms_incoming_from_abroad_count                -0.0659      0.017     -3.973      0.000      -0.098      -0.033\n",
       "last_100_reloads_count                         0.0433      0.021      2.063      0.039       0.002       0.084\n",
       "last_100_reloads_sum                           0.4159      0.029     14.203      0.000       0.358       0.473\n",
       "last_100_calls_outgoing_duration              -0.6750      0.074     -9.181      0.000      -0.819      -0.531\n",
       "last_100_calls_outgoing_to_offnet_duration     0.4337      0.065      6.707      0.000       0.307       0.560\n",
       "last_100_sms_outgoing_count                   -0.1907      0.030     -6.457      0.000      -0.249      -0.133\n",
       "last_100_sms_outgoing_to_onnet_count          -0.0651      0.015     -4.279      0.000      -0.095      -0.035\n",
       "user_use_gprs_yes                             -0.8249      0.057    -14.499      0.000      -0.936      -0.713\n",
       "==============================================================================================================\n",
       "\"\"\""
      ]
     },
     "execution_count": 50,
     "metadata": {},
     "output_type": "execute_result"
    }
   ],
   "source": [
    "result.summary()"
   ]
  },
  {
   "cell_type": "code",
   "execution_count": 51,
   "metadata": {},
   "outputs": [],
   "source": [
    "#Fifth Try\n",
    "\n",
    "drop_col=['calls_outgoing_to_abroad_duration']\n",
    "X=X.drop(drop_col,axis=1)\n",
    "model=Logit(y,X)\n",
    "result = model.fit(method='lbfgs',maxiter=maxiter,\n",
    "                       niter=maxiter,\n",
    "                       ftol=tol,\n",
    "                       tol=tol, gtol=tol, pgtol=tol, \n",
    "                       disp=DISP)"
   ]
  },
  {
   "cell_type": "code",
   "execution_count": 52,
   "metadata": {},
   "outputs": [],
   "source": [
    "#Sixth Try\n",
    "\n",
    "drop_col=['calls_outgoing_to_onnet_spendings']\n",
    "X=X.drop(drop_col,axis=1)\n",
    "model=Logit(y,X)\n",
    "result = model.fit(method='lbfgs',maxiter=maxiter,\n",
    "                       niter=maxiter,\n",
    "                       ftol=tol,\n",
    "                       tol=tol, gtol=tol, pgtol=tol, \n",
    "                       disp=DISP)"
   ]
  },
  {
   "cell_type": "code",
   "execution_count": 53,
   "metadata": {},
   "outputs": [
    {
     "data": {
      "text/html": [
       "<table class=\"simpletable\">\n",
       "<caption>Logit Regression Results</caption>\n",
       "<tr>\n",
       "  <th>Dep. Variable:</th>         <td>churn</td>      <th>  No. Observations:  </th>  <td> 73652</td> \n",
       "</tr>\n",
       "<tr>\n",
       "  <th>Model:</th>                 <td>Logit</td>      <th>  Df Residuals:      </th>  <td> 73626</td> \n",
       "</tr>\n",
       "<tr>\n",
       "  <th>Method:</th>                 <td>MLE</td>       <th>  Df Model:          </th>  <td>    25</td> \n",
       "</tr>\n",
       "<tr>\n",
       "  <th>Date:</th>            <td>Sun, 10 Nov 2019</td> <th>  Pseudo R-squ.:     </th>  <td>0.3381</td> \n",
       "</tr>\n",
       "<tr>\n",
       "  <th>Time:</th>                <td>15:45:58</td>     <th>  Log-Likelihood:    </th> <td> -33790.</td>\n",
       "</tr>\n",
       "<tr>\n",
       "  <th>converged:</th>             <td>True</td>       <th>  LL-Null:           </th> <td> -51052.</td>\n",
       "</tr>\n",
       "<tr>\n",
       "  <th>Covariance Type:</th>     <td>nonrobust</td>    <th>  LLR p-value:       </th>  <td> 0.000</td> \n",
       "</tr>\n",
       "</table>\n",
       "<table class=\"simpletable\">\n",
       "<tr>\n",
       "                       <td></td>                         <th>coef</th>     <th>std err</th>      <th>z</th>      <th>P>|z|</th>  <th>[0.025</th>    <th>0.975]</th>  \n",
       "</tr>\n",
       "<tr>\n",
       "  <th>month</th>                                      <td>    0.5292</td> <td>    0.016</td> <td>   33.004</td> <td> 0.000</td> <td>    0.498</td> <td>    0.561</td>\n",
       "</tr>\n",
       "<tr>\n",
       "  <th>user_lifetime</th>                              <td>    0.2646</td> <td>    0.013</td> <td>   20.284</td> <td> 0.000</td> <td>    0.239</td> <td>    0.290</td>\n",
       "</tr>\n",
       "<tr>\n",
       "  <th>min_outgoing_inactive_days</th>                 <td>   -0.1280</td> <td>    0.016</td> <td>   -7.939</td> <td> 0.000</td> <td>   -0.160</td> <td>   -0.096</td>\n",
       "</tr>\n",
       "<tr>\n",
       "  <th>user_account_balance_last</th>                  <td>   -0.4041</td> <td>    0.017</td> <td>  -23.538</td> <td> 0.000</td> <td>   -0.438</td> <td>   -0.370</td>\n",
       "</tr>\n",
       "<tr>\n",
       "  <th>reloads_inactive_days</th>                      <td>    0.4150</td> <td>    0.011</td> <td>   37.840</td> <td> 0.000</td> <td>    0.394</td> <td>    0.436</td>\n",
       "</tr>\n",
       "<tr>\n",
       "  <th>calls_outgoing_count</th>                       <td>   -0.2325</td> <td>    0.027</td> <td>   -8.530</td> <td> 0.000</td> <td>   -0.286</td> <td>   -0.179</td>\n",
       "</tr>\n",
       "<tr>\n",
       "  <th>calls_outgoing_duration</th>                    <td>    0.4351</td> <td>    0.059</td> <td>    7.320</td> <td> 0.000</td> <td>    0.319</td> <td>    0.552</td>\n",
       "</tr>\n",
       "<tr>\n",
       "  <th>calls_outgoing_duration_max</th>                <td>   -0.3023</td> <td>    0.019</td> <td>  -16.124</td> <td> 0.000</td> <td>   -0.339</td> <td>   -0.266</td>\n",
       "</tr>\n",
       "<tr>\n",
       "  <th>calls_outgoing_inactive_days</th>               <td>    0.6814</td> <td>    0.021</td> <td>   31.909</td> <td> 0.000</td> <td>    0.640</td> <td>    0.723</td>\n",
       "</tr>\n",
       "<tr>\n",
       "  <th>calls_outgoing_to_offnet_spendings</th>         <td>   -0.1803</td> <td>    0.032</td> <td>   -5.641</td> <td> 0.000</td> <td>   -0.243</td> <td>   -0.118</td>\n",
       "</tr>\n",
       "<tr>\n",
       "  <th>calls_outgoing_to_offnet_duration</th>          <td>   -0.1590</td> <td>    0.059</td> <td>   -2.712</td> <td> 0.007</td> <td>   -0.274</td> <td>   -0.044</td>\n",
       "</tr>\n",
       "<tr>\n",
       "  <th>calls_outgoing_to_abroad_count</th>             <td>    0.0682</td> <td>    0.020</td> <td>    3.421</td> <td> 0.001</td> <td>    0.029</td> <td>    0.107</td>\n",
       "</tr>\n",
       "<tr>\n",
       "  <th>sms_outgoing_count</th>                         <td>    0.2429</td> <td>    0.037</td> <td>    6.483</td> <td> 0.000</td> <td>    0.169</td> <td>    0.316</td>\n",
       "</tr>\n",
       "<tr>\n",
       "  <th>sms_outgoing_spendings</th>                     <td>   -0.1440</td> <td>    0.028</td> <td>   -5.133</td> <td> 0.000</td> <td>   -0.199</td> <td>   -0.089</td>\n",
       "</tr>\n",
       "<tr>\n",
       "  <th>sms_outgoing_spendings_max</th>                 <td>   -0.0774</td> <td>    0.013</td> <td>   -5.966</td> <td> 0.000</td> <td>   -0.103</td> <td>   -0.052</td>\n",
       "</tr>\n",
       "<tr>\n",
       "  <th>sms_outgoing_to_offnet_spendings</th>           <td>   -0.1143</td> <td>    0.028</td> <td>   -4.088</td> <td> 0.000</td> <td>   -0.169</td> <td>   -0.060</td>\n",
       "</tr>\n",
       "<tr>\n",
       "  <th>sms_outgoing_to_abroad_count</th>               <td>   -0.0740</td> <td>    0.019</td> <td>   -3.954</td> <td> 0.000</td> <td>   -0.111</td> <td>   -0.037</td>\n",
       "</tr>\n",
       "<tr>\n",
       "  <th>sms_incoming_count</th>                         <td>   -0.1584</td> <td>    0.019</td> <td>   -8.264</td> <td> 0.000</td> <td>   -0.196</td> <td>   -0.121</td>\n",
       "</tr>\n",
       "<tr>\n",
       "  <th>sms_incoming_from_abroad_count</th>             <td>   -0.0652</td> <td>    0.016</td> <td>   -3.958</td> <td> 0.000</td> <td>   -0.097</td> <td>   -0.033</td>\n",
       "</tr>\n",
       "<tr>\n",
       "  <th>last_100_reloads_count</th>                     <td>    0.0447</td> <td>    0.021</td> <td>    2.141</td> <td> 0.032</td> <td>    0.004</td> <td>    0.086</td>\n",
       "</tr>\n",
       "<tr>\n",
       "  <th>last_100_reloads_sum</th>                       <td>    0.4180</td> <td>    0.029</td> <td>   14.520</td> <td> 0.000</td> <td>    0.362</td> <td>    0.474</td>\n",
       "</tr>\n",
       "<tr>\n",
       "  <th>last_100_calls_outgoing_duration</th>           <td>   -0.6633</td> <td>    0.072</td> <td>   -9.154</td> <td> 0.000</td> <td>   -0.805</td> <td>   -0.521</td>\n",
       "</tr>\n",
       "<tr>\n",
       "  <th>last_100_calls_outgoing_to_offnet_duration</th> <td>    0.4210</td> <td>    0.064</td> <td>    6.608</td> <td> 0.000</td> <td>    0.296</td> <td>    0.546</td>\n",
       "</tr>\n",
       "<tr>\n",
       "  <th>last_100_sms_outgoing_count</th>                <td>   -0.1913</td> <td>    0.030</td> <td>   -6.478</td> <td> 0.000</td> <td>   -0.249</td> <td>   -0.133</td>\n",
       "</tr>\n",
       "<tr>\n",
       "  <th>last_100_sms_outgoing_to_onnet_count</th>       <td>   -0.0649</td> <td>    0.015</td> <td>   -4.265</td> <td> 0.000</td> <td>   -0.095</td> <td>   -0.035</td>\n",
       "</tr>\n",
       "<tr>\n",
       "  <th>user_use_gprs_yes</th>                          <td>   -0.8232</td> <td>    0.057</td> <td>  -14.479</td> <td> 0.000</td> <td>   -0.935</td> <td>   -0.712</td>\n",
       "</tr>\n",
       "</table>"
      ],
      "text/plain": [
       "<class 'statsmodels.iolib.summary.Summary'>\n",
       "\"\"\"\n",
       "                           Logit Regression Results                           \n",
       "==============================================================================\n",
       "Dep. Variable:                  churn   No. Observations:                73652\n",
       "Model:                          Logit   Df Residuals:                    73626\n",
       "Method:                           MLE   Df Model:                           25\n",
       "Date:                Sun, 10 Nov 2019   Pseudo R-squ.:                  0.3381\n",
       "Time:                        15:45:58   Log-Likelihood:                -33790.\n",
       "converged:                       True   LL-Null:                       -51052.\n",
       "Covariance Type:            nonrobust   LLR p-value:                     0.000\n",
       "==============================================================================================================\n",
       "                                                 coef    std err          z      P>|z|      [0.025      0.975]\n",
       "--------------------------------------------------------------------------------------------------------------\n",
       "month                                          0.5292      0.016     33.004      0.000       0.498       0.561\n",
       "user_lifetime                                  0.2646      0.013     20.284      0.000       0.239       0.290\n",
       "min_outgoing_inactive_days                    -0.1280      0.016     -7.939      0.000      -0.160      -0.096\n",
       "user_account_balance_last                     -0.4041      0.017    -23.538      0.000      -0.438      -0.370\n",
       "reloads_inactive_days                          0.4150      0.011     37.840      0.000       0.394       0.436\n",
       "calls_outgoing_count                          -0.2325      0.027     -8.530      0.000      -0.286      -0.179\n",
       "calls_outgoing_duration                        0.4351      0.059      7.320      0.000       0.319       0.552\n",
       "calls_outgoing_duration_max                   -0.3023      0.019    -16.124      0.000      -0.339      -0.266\n",
       "calls_outgoing_inactive_days                   0.6814      0.021     31.909      0.000       0.640       0.723\n",
       "calls_outgoing_to_offnet_spendings            -0.1803      0.032     -5.641      0.000      -0.243      -0.118\n",
       "calls_outgoing_to_offnet_duration             -0.1590      0.059     -2.712      0.007      -0.274      -0.044\n",
       "calls_outgoing_to_abroad_count                 0.0682      0.020      3.421      0.001       0.029       0.107\n",
       "sms_outgoing_count                             0.2429      0.037      6.483      0.000       0.169       0.316\n",
       "sms_outgoing_spendings                        -0.1440      0.028     -5.133      0.000      -0.199      -0.089\n",
       "sms_outgoing_spendings_max                    -0.0774      0.013     -5.966      0.000      -0.103      -0.052\n",
       "sms_outgoing_to_offnet_spendings              -0.1143      0.028     -4.088      0.000      -0.169      -0.060\n",
       "sms_outgoing_to_abroad_count                  -0.0740      0.019     -3.954      0.000      -0.111      -0.037\n",
       "sms_incoming_count                            -0.1584      0.019     -8.264      0.000      -0.196      -0.121\n",
       "sms_incoming_from_abroad_count                -0.0652      0.016     -3.958      0.000      -0.097      -0.033\n",
       "last_100_reloads_count                         0.0447      0.021      2.141      0.032       0.004       0.086\n",
       "last_100_reloads_sum                           0.4180      0.029     14.520      0.000       0.362       0.474\n",
       "last_100_calls_outgoing_duration              -0.6633      0.072     -9.154      0.000      -0.805      -0.521\n",
       "last_100_calls_outgoing_to_offnet_duration     0.4210      0.064      6.608      0.000       0.296       0.546\n",
       "last_100_sms_outgoing_count                   -0.1913      0.030     -6.478      0.000      -0.249      -0.133\n",
       "last_100_sms_outgoing_to_onnet_count          -0.0649      0.015     -4.265      0.000      -0.095      -0.035\n",
       "user_use_gprs_yes                             -0.8232      0.057    -14.479      0.000      -0.935      -0.712\n",
       "==============================================================================================================\n",
       "\"\"\""
      ]
     },
     "execution_count": 53,
     "metadata": {},
     "output_type": "execute_result"
    }
   ],
   "source": [
    "result.summary()"
   ]
  },
  {
   "cell_type": "markdown",
   "metadata": {},
   "source": [
    "### Logistic Regression Model Fitting"
   ]
  },
  {
   "cell_type": "code",
   "execution_count": 54,
   "metadata": {},
   "outputs": [
    {
     "name": "stderr",
     "output_type": "stream",
     "text": [
      "/opt/conda/lib/python3.6/site-packages/sklearn/linear_model/logistic.py:432: FutureWarning:\n",
      "\n",
      "Default solver will be changed to 'lbfgs' in 0.22. Specify a solver to silence this warning.\n",
      "\n"
     ]
    },
    {
     "data": {
      "text/plain": [
       "LogisticRegression(C=1.0, class_weight=None, dual=False, fit_intercept=True,\n",
       "                   intercept_scaling=1, l1_ratio=None, max_iter=100,\n",
       "                   multi_class='warn', n_jobs=None, penalty='l2',\n",
       "                   random_state=None, solver='warn', tol=0.0001, verbose=0,\n",
       "                   warm_start=False)"
      ]
     },
     "execution_count": 54,
     "metadata": {},
     "output_type": "execute_result"
    }
   ],
   "source": [
    "from sklearn.linear_model import LogisticRegression\n",
    "from sklearn import metrics\n",
    "X_train, X_test, y_train, y_test = train_test_split(X, y, test_size=0.3, random_state=0)\n",
    "logreg = LogisticRegression()\n",
    "logreg.fit(X_train, y_train)"
   ]
  },
  {
   "cell_type": "code",
   "execution_count": 55,
   "metadata": {},
   "outputs": [
    {
     "name": "stdout",
     "output_type": "stream",
     "text": [
      "Accuracy of logistic regression classifier on test set: 0.81\n"
     ]
    }
   ],
   "source": [
    "y_pred=logreg.predict(X_test)\n",
    "print('Accuracy of logistic regression classifier on test set: {:.2f}'.format(logreg.score(X_test, y_test)))"
   ]
  },
  {
   "cell_type": "markdown",
   "metadata": {},
   "source": [
    "### Confusion Matrix"
   ]
  },
  {
   "cell_type": "code",
   "execution_count": 56,
   "metadata": {},
   "outputs": [
    {
     "name": "stdout",
     "output_type": "stream",
     "text": [
      "[[8977 2020]\n",
      " [2116 8983]]\n"
     ]
    }
   ],
   "source": [
    "from sklearn.metrics import confusion_matrix\n",
    "\n",
    "confusion_matrix=confusion_matrix(y_test,y_pred)\n",
    "print(confusion_matrix)"
   ]
  },
  {
   "cell_type": "markdown",
   "metadata": {},
   "source": [
    "The result is telling us we have 8977+8983 correct predictions and 2020+2116 incorrect predictions."
   ]
  },
  {
   "cell_type": "markdown",
   "metadata": {},
   "source": [
    "### Compute precision, recall, F-measure and support\n",
    "\n",
    "The precision is the ratio tp / (tp + fp) where tp is the number of true positives and fp the number of false positives. The precision is intuitively the ability of the classifier to not label a sample as positive if it is negative.\n",
    "The recall is the ratio tp / (tp + fn) where tp is the number of true positives and fn the number of false negatives. The recall is intuitively the ability of the classifier to find all the positive samples.\n",
    "The F-beta score can be interpreted as a weighted harmonic mean of the precision and recall, where an F-beta score reaches its best value at 1 and worst score at 0.\n",
    "The F-beta score weights the recall more than the precision by a factor of beta. beta = 1.0 means recall and precision are equally important.\n",
    "The support is the number of occurrences of each class in y_test."
   ]
  },
  {
   "cell_type": "code",
   "execution_count": 57,
   "metadata": {},
   "outputs": [
    {
     "name": "stdout",
     "output_type": "stream",
     "text": [
      "              precision    recall  f1-score   support\n",
      "\n",
      "           0       0.81      0.82      0.81     10997\n",
      "           1       0.82      0.81      0.81     11099\n",
      "\n",
      "    accuracy                           0.81     22096\n",
      "   macro avg       0.81      0.81      0.81     22096\n",
      "weighted avg       0.81      0.81      0.81     22096\n",
      "\n"
     ]
    }
   ],
   "source": [
    "from sklearn.metrics import classification_report\n",
    "print(classification_report(y_test, y_pred))"
   ]
  },
  {
   "cell_type": "markdown",
   "metadata": {},
   "source": [
    "###  ROC curve"
   ]
  },
  {
   "cell_type": "code",
   "execution_count": 58,
   "metadata": {},
   "outputs": [
    {
     "data": {
      "image/png": "[encoded data removed]",
      "text/plain": [
       "<Figure size 432x288 with 1 Axes>"
      ]
     },
     "metadata": {},
     "output_type": "display_data"
    }
   ],
   "source": [
    "from sklearn.metrics import roc_auc_score\n",
    "from sklearn.metrics import roc_curve\n",
    "\n",
    "logit_roc_auc=roc_auc_score(y_test,logreg.predict(X_test))\n",
    "fpr,tpr,threshold=roc_curve(y_test,logreg.predict(X_test))\n",
    "sns.set_style('whitegrid')\n",
    "plt.figure()\n",
    "plt.plot(fpr, tpr, label='Logistic Regression (area = %0.2f)' % logit_roc_auc)\n",
    "plt.plot([0, 1], [0, 1],'r--')\n",
    "plt.xlim([0.0, 1.0])\n",
    "plt.ylim([0.0, 1.05])\n",
    "plt.xlabel('False Positive Rate')\n",
    "plt.ylabel('True Positive Rate')\n",
    "plt.title('Receiver operating characteristic')\n",
    "plt.legend(loc=\"lower right\")\n",
    "plt.savefig('Log_ROC')\n",
    "plt.show()"
   ]
  },
  {
   "cell_type": "markdown",
   "metadata": {},
   "source": [
    "The ideal Roc curve hugs the top-left corner,indicating a huge true positive rate and a low false positve rate. The dotted line represents the purely random classifer. The chart shows that our final model is doing a pretty good job in classification.\n"
   ]
  },
  {
   "cell_type": "code",
   "execution_count": null,
   "metadata": {},
   "outputs": [],
   "source": []
  }
 ],
 "metadata": {
  "kernelspec": {
   "display_name": "Python 3",
   "language": "python",
   "name": "python3"
  },
  "language_info": {
   "codemirror_mode": {
    "name": "ipython",
    "version": 3
   },
   "file_extension": ".py",
   "mimetype": "text/x-python",
   "name": "python",
   "nbconvert_exporter": "python",
   "pygments_lexer": "ipython3",
   "version": "3.6.6"
  }
 },
 "nbformat": 4,
 "nbformat_minor": 1
}
