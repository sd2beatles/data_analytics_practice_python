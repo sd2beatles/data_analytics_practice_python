{
 "cells": [
  {
   "cell_type": "markdown",
   "metadata": {},
   "source": [
    "## Does Crime Rate Rise Particualary in Warmer Seasons?\n",
    "\n",
    "### 1. Introudction \n",
    "\n",
    "I have read one research on how the weather gives an influence on the occurrence of the crime rate.  Thier finding has suggested that especially violent crimes and disorderly conduct could noticeably be higher in the warmest month of year.  This simple conclusion could motivate me to undertake an analysis to see whether the temperature of weather does give an influence on criminal behavior or thier finding is applicable only to the region in which the study was undertaken. \n",
    "\n",
    "In ordert to demonstrate justification of the result, I obtain the data named  _Sanfrancisco criminal classifcation_ from kaggle  and if interested in further details of the data, you can visit the website below. \n",
    "\n",
    "[https://www.kaggle.com/c/sf-crime/data]\n"
   ]
  },
  {
   "cell_type": "code",
   "execution_count": 26,
   "metadata": {},
   "outputs": [
    {
     "name": "stdout",
     "output_type": "stream",
     "text": [
      "Exception reporting mode: Plain\n"
     ]
    },
    {
     "data": {
      "text/html": [
       "<div>\n",
       "<style scoped>\n",
       "    .dataframe tbody tr th:only-of-type {\n",
       "        vertical-align: middle;\n",
       "    }\n",
       "\n",
       "    .dataframe tbody tr th {\n",
       "        vertical-align: top;\n",
       "    }\n",
       "\n",
       "    .dataframe thead th {\n",
       "        text-align: right;\n",
       "    }\n",
       "</style>\n",
       "<table border=\"1\" class=\"dataframe\">\n",
       "  <thead>\n",
       "    <tr style=\"text-align: right;\">\n",
       "      <th></th>\n",
       "      <th>OFFENSE_CODE_GROUP</th>\n",
       "      <th>DISTRICT</th>\n",
       "      <th>REPORTING_AREA</th>\n",
       "      <th>YEAR</th>\n",
       "      <th>MONTH</th>\n",
       "      <th>DAY_OF_WEEK</th>\n",
       "      <th>HOUR</th>\n",
       "      <th>STREET</th>\n",
       "    </tr>\n",
       "  </thead>\n",
       "  <tbody>\n",
       "    <tr>\n",
       "      <th>0</th>\n",
       "      <td>Larceny</td>\n",
       "      <td>D14</td>\n",
       "      <td>808</td>\n",
       "      <td>2018</td>\n",
       "      <td>9</td>\n",
       "      <td>Sunday</td>\n",
       "      <td>13</td>\n",
       "      <td>LINCOLN ST</td>\n",
       "    </tr>\n",
       "    <tr>\n",
       "      <th>1</th>\n",
       "      <td>Vandalism</td>\n",
       "      <td>C11</td>\n",
       "      <td>347</td>\n",
       "      <td>2018</td>\n",
       "      <td>8</td>\n",
       "      <td>Tuesday</td>\n",
       "      <td>0</td>\n",
       "      <td>HECLA ST</td>\n",
       "    </tr>\n",
       "    <tr>\n",
       "      <th>2</th>\n",
       "      <td>Towed</td>\n",
       "      <td>D4</td>\n",
       "      <td>151</td>\n",
       "      <td>2018</td>\n",
       "      <td>9</td>\n",
       "      <td>Monday</td>\n",
       "      <td>19</td>\n",
       "      <td>CAZENOVE ST</td>\n",
       "    </tr>\n",
       "    <tr>\n",
       "      <th>3</th>\n",
       "      <td>Investigate Property</td>\n",
       "      <td>D4</td>\n",
       "      <td>272</td>\n",
       "      <td>2018</td>\n",
       "      <td>9</td>\n",
       "      <td>Monday</td>\n",
       "      <td>21</td>\n",
       "      <td>NEWCOMB ST</td>\n",
       "    </tr>\n",
       "    <tr>\n",
       "      <th>4</th>\n",
       "      <td>Investigate Property</td>\n",
       "      <td>B3</td>\n",
       "      <td>421</td>\n",
       "      <td>2018</td>\n",
       "      <td>9</td>\n",
       "      <td>Monday</td>\n",
       "      <td>21</td>\n",
       "      <td>DELHI ST</td>\n",
       "    </tr>\n",
       "  </tbody>\n",
       "</table>\n",
       "</div>"
      ],
      "text/plain": [
       "     OFFENSE_CODE_GROUP DISTRICT REPORTING_AREA  YEAR  MONTH DAY_OF_WEEK  \\\n",
       "0               Larceny      D14            808  2018      9      Sunday   \n",
       "1             Vandalism      C11            347  2018      8     Tuesday   \n",
       "2                 Towed       D4            151  2018      9      Monday   \n",
       "3  Investigate Property       D4            272  2018      9      Monday   \n",
       "4  Investigate Property       B3            421  2018      9      Monday   \n",
       "\n",
       "   HOUR       STREET  \n",
       "0    13   LINCOLN ST  \n",
       "1     0     HECLA ST  \n",
       "2    19  CAZENOVE ST  \n",
       "3    21   NEWCOMB ST  \n",
       "4    21     DELHI ST  "
      ]
     },
     "execution_count": 26,
     "metadata": {},
     "output_type": "execute_result"
    }
   ],
   "source": [
    "import numpy as np\n",
    "import pandas as pd\n",
    "%xmode Plain\n",
    "data=pd.read_csv(r\"C:\\Users\\DAVID SEO\\Downloads\\crime\\crime_modified.csv\")\n",
    "data.head()\n"
   ]
  },
  {
   "cell_type": "markdown",
   "metadata": {},
   "source": [
    "### 2. Data Manipualtion"
   ]
  },
  {
   "cell_type": "code",
   "execution_count": 30,
   "metadata": {},
   "outputs": [
    {
     "data": {
      "text/html": [
       "<div>\n",
       "<style scoped>\n",
       "    .dataframe tbody tr th:only-of-type {\n",
       "        vertical-align: middle;\n",
       "    }\n",
       "\n",
       "    .dataframe tbody tr th {\n",
       "        vertical-align: top;\n",
       "    }\n",
       "\n",
       "    .dataframe thead th {\n",
       "        text-align: right;\n",
       "    }\n",
       "</style>\n",
       "<table border=\"1\" class=\"dataframe\">\n",
       "  <thead>\n",
       "    <tr style=\"text-align: right;\">\n",
       "      <th></th>\n",
       "      <th>offense_code</th>\n",
       "      <th>district</th>\n",
       "      <th>area</th>\n",
       "      <th>year</th>\n",
       "      <th>month</th>\n",
       "      <th>day</th>\n",
       "      <th>hour</th>\n",
       "      <th>street</th>\n",
       "    </tr>\n",
       "  </thead>\n",
       "  <tbody>\n",
       "    <tr>\n",
       "      <th>0</th>\n",
       "      <td>Larceny</td>\n",
       "      <td>D14</td>\n",
       "      <td>808</td>\n",
       "      <td>2018</td>\n",
       "      <td>9</td>\n",
       "      <td>Sunday</td>\n",
       "      <td>13</td>\n",
       "      <td>LINCOLN ST</td>\n",
       "    </tr>\n",
       "    <tr>\n",
       "      <th>1</th>\n",
       "      <td>Vandalism</td>\n",
       "      <td>C11</td>\n",
       "      <td>347</td>\n",
       "      <td>2018</td>\n",
       "      <td>8</td>\n",
       "      <td>Tuesday</td>\n",
       "      <td>0</td>\n",
       "      <td>HECLA ST</td>\n",
       "    </tr>\n",
       "    <tr>\n",
       "      <th>2</th>\n",
       "      <td>Towed</td>\n",
       "      <td>D4</td>\n",
       "      <td>151</td>\n",
       "      <td>2018</td>\n",
       "      <td>9</td>\n",
       "      <td>Monday</td>\n",
       "      <td>19</td>\n",
       "      <td>CAZENOVE ST</td>\n",
       "    </tr>\n",
       "    <tr>\n",
       "      <th>3</th>\n",
       "      <td>Investigate Property</td>\n",
       "      <td>D4</td>\n",
       "      <td>272</td>\n",
       "      <td>2018</td>\n",
       "      <td>9</td>\n",
       "      <td>Monday</td>\n",
       "      <td>21</td>\n",
       "      <td>NEWCOMB ST</td>\n",
       "    </tr>\n",
       "    <tr>\n",
       "      <th>4</th>\n",
       "      <td>Investigate Property</td>\n",
       "      <td>B3</td>\n",
       "      <td>421</td>\n",
       "      <td>2018</td>\n",
       "      <td>9</td>\n",
       "      <td>Monday</td>\n",
       "      <td>21</td>\n",
       "      <td>DELHI ST</td>\n",
       "    </tr>\n",
       "  </tbody>\n",
       "</table>\n",
       "</div>"
      ],
      "text/plain": [
       "           offense_code district area  year  month      day  hour       street\n",
       "0               Larceny      D14  808  2018      9   Sunday    13   LINCOLN ST\n",
       "1             Vandalism      C11  347  2018      8  Tuesday     0     HECLA ST\n",
       "2                 Towed       D4  151  2018      9   Monday    19  CAZENOVE ST\n",
       "3  Investigate Property       D4  272  2018      9   Monday    21   NEWCOMB ST\n",
       "4  Investigate Property       B3  421  2018      9   Monday    21     DELHI ST"
      ]
     },
     "execution_count": 30,
     "metadata": {},
     "output_type": "execute_result"
    }
   ],
   "source": [
    "#renaming the columns in samll capital\n",
    "col=[\"offense_code\",'district','area','year','month','day','hour','street']\n",
    "data.columns=col\n",
    "data.head()"
   ]
  },
  {
   "cell_type": "markdown",
   "metadata": {},
   "source": [
    "\n",
    "To check if there are any missing values in the suggested columns, we implmented isnull().any() function. It returs True if Null exits and False if it doesnt. "
   ]
  },
  {
   "cell_type": "code",
   "execution_count": 31,
   "metadata": {},
   "outputs": [
    {
     "data": {
      "text/plain": [
       "offense_code    False\n",
       "district         True\n",
       "area            False\n",
       "year            False\n",
       "month           False\n",
       "day             False\n",
       "hour            False\n",
       "street           True\n",
       "dtype: bool"
      ]
     },
     "execution_count": 31,
     "metadata": {},
     "output_type": "execute_result"
    }
   ],
   "source": [
    "data.isnull().any()\n"
   ]
  },
  {
   "cell_type": "markdown",
   "metadata": {},
   "source": [
    "We have two colums with some missing values and these are all related to local address infomration. \n",
    "Actaully, to fill out the missing entires with appporiate titles is considered  unnecessary  soley in our case study. What we are aming at is to test realiablity and validatiy of the incidence of the unlawful act depending on climatic. To take urban as a determinant of cirme rate may give a rise to confusion or disturbance to our finding. In the later step, we will filter out any fields of state,area,and area code."
   ]
  },
  {
   "cell_type": "code",
   "execution_count": 32,
   "metadata": {},
   "outputs": [],
   "source": [
    "data.loc[data.district.isnull(),'district']='Not Specified'\n",
    "data.loc[data.street.isnull(),'street']='Not Specified'"
   ]
  },
  {
   "cell_type": "code",
   "execution_count": 33,
   "metadata": {},
   "outputs": [
    {
     "data": {
      "text/html": [
       "<div>\n",
       "<style scoped>\n",
       "    .dataframe tbody tr th:only-of-type {\n",
       "        vertical-align: middle;\n",
       "    }\n",
       "\n",
       "    .dataframe tbody tr th {\n",
       "        vertical-align: top;\n",
       "    }\n",
       "\n",
       "    .dataframe thead th {\n",
       "        text-align: right;\n",
       "    }\n",
       "</style>\n",
       "<table border=\"1\" class=\"dataframe\">\n",
       "  <thead>\n",
       "    <tr style=\"text-align: right;\">\n",
       "      <th></th>\n",
       "      <th>counts</th>\n",
       "      <th>cumulative_sum</th>\n",
       "      <th>percentage</th>\n",
       "      <th>cum_percentage</th>\n",
       "      <th>rank</th>\n",
       "    </tr>\n",
       "    <tr>\n",
       "      <th>offense_code</th>\n",
       "      <th></th>\n",
       "      <th></th>\n",
       "      <th></th>\n",
       "      <th></th>\n",
       "      <th></th>\n",
       "    </tr>\n",
       "  </thead>\n",
       "  <tbody>\n",
       "    <tr>\n",
       "      <th>Auto Theft Recovery</th>\n",
       "      <td>1051</td>\n",
       "      <td>309128</td>\n",
       "      <td>0.329392</td>\n",
       "      <td>96.883158</td>\n",
       "      <td>frequent</td>\n",
       "    </tr>\n",
       "    <tr>\n",
       "      <th>Ballistics</th>\n",
       "      <td>981</td>\n",
       "      <td>310109</td>\n",
       "      <td>0.307453</td>\n",
       "      <td>97.190612</td>\n",
       "      <td>frequent</td>\n",
       "    </tr>\n",
       "    <tr>\n",
       "      <th>Landlord/Tenant Disputes</th>\n",
       "      <td>968</td>\n",
       "      <td>311077</td>\n",
       "      <td>0.303379</td>\n",
       "      <td>97.493990</td>\n",
       "      <td>frequent</td>\n",
       "    </tr>\n",
       "    <tr>\n",
       "      <th>Search Warrants</th>\n",
       "      <td>966</td>\n",
       "      <td>312043</td>\n",
       "      <td>0.302752</td>\n",
       "      <td>97.796742</td>\n",
       "      <td>frequent</td>\n",
       "    </tr>\n",
       "    <tr>\n",
       "      <th>Assembly or Gathering Violations</th>\n",
       "      <td>955</td>\n",
       "      <td>312998</td>\n",
       "      <td>0.299305</td>\n",
       "      <td>98.096047</td>\n",
       "      <td>frequent</td>\n",
       "    </tr>\n",
       "  </tbody>\n",
       "</table>\n",
       "</div>"
      ],
      "text/plain": [
       "                                  counts  cumulative_sum  percentage  \\\n",
       "offense_code                                                           \n",
       "Auto Theft Recovery                 1051          309128    0.329392   \n",
       "Ballistics                           981          310109    0.307453   \n",
       "Landlord/Tenant Disputes             968          311077    0.303379   \n",
       "Search Warrants                      966          312043    0.302752   \n",
       "Assembly or Gathering Violations     955          312998    0.299305   \n",
       "\n",
       "                                  cum_percentage      rank  \n",
       "offense_code                                                \n",
       "Auto Theft Recovery                    96.883158  frequent  \n",
       "Ballistics                             97.190612  frequent  \n",
       "Landlord/Tenant Disputes               97.493990  frequent  \n",
       "Search Warrants                        97.796742  frequent  \n",
       "Assembly or Gathering Violations       98.096047  frequent  "
      ]
     },
     "execution_count": 33,
     "metadata": {},
     "output_type": "execute_result"
    }
   ],
   "source": [
    "import copy \n",
    "# to obtain the total counts of each offense and arrange them in descending order \n",
    "test=data.copy()\n",
    "test=test.loc[:,[\"offense_code\",\"year\",\"month\",\"day\",\"hour\"]] ## filter out unnecessary infomraiton \n",
    "df=test.groupby(\"offense_code\")[\"year\"].count().sort_values(ascending=False) #crate a separate section for counts grouped by offense_code\n",
    "df_cumsum=df.cumsum() # cumulative sum of the total counts \n",
    "# For convenience of data manipuation,create a separate DataFrame object to contain the information counts and cumulative counts\n",
    "decile=pd.DataFrame({\"counts\":df,\"cumulative_sum\":df_cumsum})\n",
    "#To add two addition columnsfor the percentage of each incidence of crime and its cumulative percentage \n",
    "decile[\"percentage\"]=100*decile[\"counts\"]/decile[\"counts\"].sum()\n",
    "decile[\"cum_percentage\"]=decile[\"percentage\"].cumsum()\n",
    "#create a separate section to give a level of frequency of crime whic ranges from very high to rare.\n",
    "decile[\"rank\"]=pd.qcut(decile[\"counts\"],5,labels=[\"rare\",\"low\",\"frequent\",\"high\",\"very high\"])\n",
    "decile_index=decile.loc[:\"Assembly or Gathering Violations\",:].index\n",
    "decile[decile[\"rank\"]==\"frequent\"].tail()\n"
   ]
  },
  {
   "cell_type": "code",
   "execution_count": 34,
   "metadata": {},
   "outputs": [
    {
     "data": {
      "text/html": [
       "<div>\n",
       "<style scoped>\n",
       "    .dataframe tbody tr th:only-of-type {\n",
       "        vertical-align: middle;\n",
       "    }\n",
       "\n",
       "    .dataframe tbody tr th {\n",
       "        vertical-align: top;\n",
       "    }\n",
       "\n",
       "    .dataframe thead th {\n",
       "        text-align: right;\n",
       "    }\n",
       "</style>\n",
       "<table border=\"1\" class=\"dataframe\">\n",
       "  <thead>\n",
       "    <tr style=\"text-align: right;\">\n",
       "      <th></th>\n",
       "      <th>district</th>\n",
       "      <th>area</th>\n",
       "      <th>year</th>\n",
       "      <th>month</th>\n",
       "      <th>day</th>\n",
       "      <th>hour</th>\n",
       "      <th>street</th>\n",
       "    </tr>\n",
       "    <tr>\n",
       "      <th>offense_code</th>\n",
       "      <th></th>\n",
       "      <th></th>\n",
       "      <th></th>\n",
       "      <th></th>\n",
       "      <th></th>\n",
       "      <th></th>\n",
       "      <th></th>\n",
       "    </tr>\n",
       "  </thead>\n",
       "  <tbody>\n",
       "    <tr>\n",
       "      <th>Assembly or Gathering Violations</th>\n",
       "      <td>B2</td>\n",
       "      <td>603</td>\n",
       "      <td>2015</td>\n",
       "      <td>6</td>\n",
       "      <td>Sunday</td>\n",
       "      <td>0</td>\n",
       "      <td>TREMONT ST</td>\n",
       "    </tr>\n",
       "    <tr>\n",
       "      <th>Assembly or Gathering Violations</th>\n",
       "      <td>C11</td>\n",
       "      <td>348</td>\n",
       "      <td>2015</td>\n",
       "      <td>6</td>\n",
       "      <td>Thursday</td>\n",
       "      <td>10</td>\n",
       "      <td>FREEPORT ST</td>\n",
       "    </tr>\n",
       "    <tr>\n",
       "      <th>Assembly or Gathering Violations</th>\n",
       "      <td>B2</td>\n",
       "      <td>605</td>\n",
       "      <td>2015</td>\n",
       "      <td>6</td>\n",
       "      <td>Thursday</td>\n",
       "      <td>1</td>\n",
       "      <td>SHEPHERD AVE</td>\n",
       "    </tr>\n",
       "    <tr>\n",
       "      <th>Assembly or Gathering Violations</th>\n",
       "      <td>A1</td>\n",
       "      <td>120</td>\n",
       "      <td>2015</td>\n",
       "      <td>6</td>\n",
       "      <td>Wednesday</td>\n",
       "      <td>16</td>\n",
       "      <td>PARK PLZ</td>\n",
       "    </tr>\n",
       "    <tr>\n",
       "      <th>Assembly or Gathering Violations</th>\n",
       "      <td>D4</td>\n",
       "      <td>598</td>\n",
       "      <td>2015</td>\n",
       "      <td>6</td>\n",
       "      <td>Tuesday</td>\n",
       "      <td>16</td>\n",
       "      <td>DALTON ST</td>\n",
       "    </tr>\n",
       "  </tbody>\n",
       "</table>\n",
       "</div>"
      ],
      "text/plain": [
       "                                 district area  year  month        day  hour  \\\n",
       "offense_code                                                                   \n",
       "Assembly or Gathering Violations       B2  603  2015      6     Sunday     0   \n",
       "Assembly or Gathering Violations      C11  348  2015      6   Thursday    10   \n",
       "Assembly or Gathering Violations       B2  605  2015      6   Thursday     1   \n",
       "Assembly or Gathering Violations       A1  120  2015      6  Wednesday    16   \n",
       "Assembly or Gathering Violations       D4  598  2015      6    Tuesday    16   \n",
       "\n",
       "                                        street  \n",
       "offense_code                                    \n",
       "Assembly or Gathering Violations    TREMONT ST  \n",
       "Assembly or Gathering Violations   FREEPORT ST  \n",
       "Assembly or Gathering Violations  SHEPHERD AVE  \n",
       "Assembly or Gathering Violations      PARK PLZ  \n",
       "Assembly or Gathering Violations     DALTON ST  "
      ]
     },
     "execution_count": 34,
     "metadata": {},
     "output_type": "execute_result"
    }
   ],
   "source": [
    "#Store crime types of our interest in the object\n",
    "decile_index=decile.loc[:\"Assembly or Gathering Violations\",:].index \n",
    "#Set up index of data using the column of offense\n",
    "data=data.set_index(\"offense_code\")\n",
    "#Select the row entires according to decile_index\n",
    "data=data.loc[decile_index]\n",
    "data.tail()"
   ]
  },
  {
   "cell_type": "markdown",
   "metadata": {},
   "source": [
    "Unfortunately, we can not currently get access to all the entries in some period based on the data provided on Kaggle. Some information is unavailable from January to May in the year 2015 and from October to December in the year 2016, respectively.  Also, you should easily notice that the total number of crime incidence is strangely lower in September of the year 2018 than in the same month of other years.\n"
   ]
  },
  {
   "cell_type": "code",
   "execution_count": 38,
   "metadata": {},
   "outputs": [
    {
     "data": {
      "text/plain": [
       "year  month\n",
       "2015  6        4114\n",
       "      7        8121\n",
       "      8        8116\n",
       "      9        8216\n",
       "      10       8150\n",
       "      11       7679\n",
       "      12       7829\n",
       "2016  1        7694\n",
       "      2        7151\n",
       "      3        8038\n",
       "      4        7932\n",
       "      5        8424\n",
       "      6        8400\n",
       "      7        8413\n",
       "      8        8785\n",
       "      9        8376\n",
       "      10       8450\n",
       "      11       7806\n",
       "      12       7824\n",
       "2017  1        7839\n",
       "      2        7279\n",
       "      3        8027\n",
       "      4        7923\n",
       "      5        8533\n",
       "      6        8825\n",
       "      7        8853\n",
       "      8        9003\n",
       "      9        8776\n",
       "      10       8680\n",
       "      11       7808\n",
       "      12       7401\n",
       "2018  1        7644\n",
       "      2        6812\n",
       "      3        7597\n",
       "      4        7780\n",
       "      5        8751\n",
       "      6        8697\n",
       "      7        8385\n",
       "      8        8211\n",
       "      9         656\n",
       "Name: day, dtype: int64"
      ]
     },
     "execution_count": 38,
     "metadata": {},
     "output_type": "execute_result"
    }
   ],
   "source": [
    "data.groupby([\"year\",\"month\"])[\"day\"].count()"
   ]
  },
  {
   "cell_type": "markdown",
   "metadata": {},
   "source": [
    "In oder to gain justification for fairness and objectiveness,We need to make special treamets to deal with missing infomraiton \n",
    "\n",
    "First, missing entries are filled by the average amount of the same month of other years. \n",
    "\n",
    "Second, we think of the incidence in September of 2018 as an outlier or anomaly. It is also replaced with the average value  \n"
   ]
  },
  {
   "cell_type": "code",
   "execution_count": 39,
   "metadata": {},
   "outputs": [
    {
     "name": "stdout",
     "output_type": "stream",
     "text": [
      "month      1       2       3       4       5       6       7       8       9   \\\n",
      "year                                                                            \n",
      "2015      NaN     NaN     NaN     NaN     NaN  4114.0  8121.0  8116.0  8216.0   \n",
      "2016   7694.0  7151.0  8038.0  7932.0  8424.0  8400.0  8413.0  8785.0  8376.0   \n",
      "2017   7839.0  7279.0  8027.0  7923.0  8533.0  8825.0  8853.0  9003.0  8776.0   \n",
      "2018   7644.0  6812.0  7597.0  7780.0  8751.0  8697.0  8385.0  8211.0     NaN   \n",
      "\n",
      "month      10      11      12  \n",
      "year                           \n",
      "2015   8150.0  7679.0  7829.0  \n",
      "2016   8450.0  7806.0  7824.0  \n",
      "2017   8680.0  7808.0  7401.0  \n",
      "2018      NaN     NaN     NaN  \n"
     ]
    }
   ],
   "source": [
    "#split data into groups according to year and month \n",
    "#and transform one of multi-index (ie month) into colum by using unstack function\n",
    "year_month_test=data.groupby([\"year\",\"month\"])[\"hour\"].count().unstack()\n",
    "#treating the observation made in Sep of 2018 as NaN\n",
    "year_month_test.iloc[3,8]=np.nan\n",
    "print(year_month_test)"
   ]
  },
  {
   "cell_type": "code",
   "execution_count": 40,
   "metadata": {},
   "outputs": [],
   "source": [
    "#Calculate the average for month with missing infomration \n",
    "value=year_month_test.mean()[year_month_test.isnull().any()]\n",
    "#fill the missing values with computed values\n",
    "year_month_test=year_month_test.fillna(value).stack()\n"
   ]
  },
  {
   "cell_type": "code",
   "execution_count": 46,
   "metadata": {},
   "outputs": [
    {
     "data": {
      "text/plain": [
       "month\n",
       "1     30902.67\n",
       "2     28322.67\n",
       "3     31549.33\n",
       "4     31513.33\n",
       "5     34277.33\n",
       "6     30036.00\n",
       "7     33772.00\n",
       "8     34115.00\n",
       "9     33824.00\n",
       "10    33706.67\n",
       "11    31057.33\n",
       "12    30738.67\n",
       "dtype: float64"
      ]
     },
     "execution_count": 46,
     "metadata": {},
     "output_type": "execute_result"
    }
   ],
   "source": [
    "#grouping based on an index, use level clause\n",
    "month_test=year_month_test.sum(level=\"month\")\n",
    "month_test=round(month_test,2)\n",
    "month_test"
   ]
  },
  {
   "cell_type": "code",
   "execution_count": 47,
   "metadata": {},
   "outputs": [
    {
     "data": {
      "text/plain": [
       "month\n",
       "1     8.05\n",
       "2     7.38\n",
       "3     8.22\n",
       "4     8.21\n",
       "5     8.93\n",
       "6     7.83\n",
       "7     8.80\n",
       "8     8.89\n",
       "9     8.81\n",
       "10    8.78\n",
       "11    8.09\n",
       "12    8.01\n",
       "dtype: float64"
      ]
     },
     "execution_count": 47,
     "metadata": {},
     "output_type": "execute_result"
    }
   ],
   "source": [
    "month_percentage=round(month_test/sum(month_test)*100,2)\n",
    "percentage_mean=month_percentage.mean()\n",
    "month_percentage\n"
   ]
  },
  {
   "cell_type": "markdown",
   "metadata": {},
   "source": [
    "### 3. Chart"
   ]
  },
  {
   "cell_type": "code",
   "execution_count": 54,
   "metadata": {},
   "outputs": [
    {
     "data": {
      "text/plain": [
       "Text(0.5, 1.0, ' Incidents of violence in the 12 months')"
      ]
     },
     "execution_count": 54,
     "metadata": {},
     "output_type": "execute_result"
    },
    {
     "data": {
      "image/png": "[encoded data removed]",
      "text/plain": [
       "<Figure size 720x432 with 1 Axes>"
      ]
     },
     "metadata": {},
     "output_type": "display_data"
    }
   ],
   "source": [
    "import matplotlib.pyplot as plt\n",
    "import numpy as np\n",
    "from matplotlib import font_manager,rc\n",
    "from matplotlib import style\n",
    "\n",
    "plt.style.use(\"ggplot\")\n",
    "x_name=list(data.groupby(\"month\")[\"year\"].groups.keys())\n",
    "n_groups=len(data.groupby(\"month\")[\"year\"].groups.keys())\n",
    "y_value=list(month_percentage)\n",
    "ypos=np.arange(n_groups)+1\n",
    "\n",
    "fig=plt.figure(figsize=(10,6))\n",
    "ax=fig.add_subplot(111)\n",
    "rects=plt.bar(ypos,y_value,width=0.4,align=\"center\",color=\"coral\",alpha=0.5)\n",
    "plt.xticks(x_name)\n",
    "\n",
    "for i,rect in enumerate(rects):\n",
    "    ax.text(rect.get_x()+rect.get_width()/2.0,1.02*rect.get_height(),str(y_value[i])+'%',ha=\"center\")\n",
    "plt.axhline(y=percentage_mean,linestyle='--',label='mean of 12 months')\n",
    "plt.legend(loc=\"lower right\")\n",
    "plt.xlabel(\"month\")\n",
    "plt.ylabel(\"rate of crime (%)\")\n",
    "plt.title(\" Incidents of violence in the 12 months\")"
   ]
  },
  {
   "cell_type": "code",
   "execution_count": 86,
   "metadata": {},
   "outputs": [
    {
     "name": "stdout",
     "output_type": "stream",
     "text": [
      "month    1     2     3     4     5     6     7     8     9     10    11    12\n",
      "year                                                                         \n",
      "2015   8.46  7.75  8.63  8.62  9.38  4.50  8.89  8.88  8.99  8.92  8.40  8.57\n",
      "2016   7.91  7.35  8.26  8.15  8.66  8.63  8.65  9.03  8.61  8.69  8.02  8.04\n",
      "2017   7.92  7.36  8.11  8.01  8.62  8.92  8.95  9.10  8.87  8.77  7.89  7.48\n",
      "2018   7.95  7.08  7.90  8.09  9.10  9.04  8.72  8.53  8.79  8.76  8.07  7.99\n"
     ]
    },
    {
     "data": {
      "text/plain": [
       "Text(0.5, 1.0, 'Criminal rate in the years from 2015to 2018')"
      ]
     },
     "execution_count": 86,
     "metadata": {},
     "output_type": "execute_result"
    },
    {
     "data": {
      "image/png": "[encoded data removed]",
      "text/plain": [
       "<Figure size 1440x720 with 1 Axes>"
      ]
     },
     "metadata": {},
     "output_type": "display_data"
    }
   ],
   "source": [
    "final_data=year_month_test.unstack()\n",
    "final_data_sum=list(final_data.sum(axis=1))\n",
    "result=round(final_data.divide(final_data_sum,axis=0)*100,2)\n",
    "print(result)\n",
    "colors=[\"navy\",\"cyan\",\"teal\",\"blue\",\"gold\",\"orange\",\"maroon\",\"red\",\"coral\",\"tomato\",\"skyblue\",\"steelblue\"]\n",
    "ax=result.plot(kind=\"bar\",figsize=(20,10),width=0.7,color=colors,alpha=0.7)\n",
    "ax.set_xlabel(\"year\",fontsize=18)\n",
    "ax.set_ylabel(\"percentage(%)\",fontsize=18)\n",
    "ax.set_title(\"Criminal rate in the years from 2015to 2018\",size=20)"
   ]
  },
  {
   "cell_type": "markdown",
   "metadata": {},
   "source": [
    "# 4 Summarizing Results \n",
    "\n"
   ]
  },
  {
   "cell_type": "markdown",
   "metadata": {},
   "source": [
    "The first bar graph demonstrates the incidence of crime in the 12 months. Generally, it can be seen that the rate tends to be recorded high in the warmer and hotter time. The figures in the period between May and October are almost above the average and recorded at quite a higher level than any other months. During the seasons, in this part of the country, the temperature usually heats up around May or June.  It is also worthy of noting that there is a quite dramatic leap in the amount between April and May and a drop between October and November. The rate usually keeps decreasing as the state cools off a few degrees, reaching rock bottom at 7.38% in February. We could leap to the conclusion that crime soars along with temperature to some point after which it becomes too hot' and crime rate steadily decreases to reach the lowest score. \n",
    "\n",
    "However, this is disputed because our chart shows that the rate for June is below average when the temperature is considered quite as high a 24 degree or 66 Fahrenheit. Its percentage is also considered remarkably lower than in hotter periods. I guessed that some number in any year from 2015 to 2018 is unreasonably lower than thier normal level for some reasons. My initial expectation is right. If you take a closer look at the rate in June of the year 2015, the figure has an absurd record at 4.50 %, which is almost half of the normal rate in this season. This brings down the figure to be below average, distorting the trend we can derive from the data. Apar from this anomalous situation, every June there is at least the same accusation of crime as summer seasons with having the second greatest percentage in the year of 2018.\n",
    "\n",
    "This simple chart analysis can not make a solid assertion that there must be a link of rising crime to rising temperatures. It is highly doubtable that the temperature alone is the explanation for this phenomenon. Therefore, further research is requested to be undertaken to back up the fact. "
   ]
  },
  {
   "cell_type": "code",
   "execution_count": null,
   "metadata": {},
   "outputs": [],
   "source": []
  }
 ],
 "metadata": {
  "kernelspec": {
   "display_name": "Python 3",
   "language": "python",
   "name": "python3"
  },
  "language_info": {
   "codemirror_mode": {
    "name": "ipython",
    "version": 3
   },
   "file_extension": ".py",
   "mimetype": "text/x-python",
   "name": "python",
   "nbconvert_exporter": "python",
   "pygments_lexer": "ipython3",
   "version": "3.7.3"
  }
 },
 "nbformat": 4,
 "nbformat_minor": 2
}
